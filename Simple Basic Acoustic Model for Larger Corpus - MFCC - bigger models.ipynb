{
 "cells": [
  {
   "cell_type": "markdown",
   "metadata": {},
   "source": [
    "In speech processing we may use really huge networks cause majority of the processing bottleneck is on CPU and running the CTC function...\n",
    "\n",
    "Also, CLARIN mobile corpus seems to be too small for advanced network"
   ]
  },
  {
   "cell_type": "code",
   "execution_count": 9,
   "metadata": {},
   "outputs": [
    {
     "name": "stdout",
     "output_type": "stream",
     "text": [
      "12429 12456\n"
     ]
    }
   ],
   "source": [
    "#!/usr/bin/python3\n",
    "\n",
    "# For demonstration purposes - Paweł Tomasik\n",
    "\n",
    "# for CLARIN_MOBILE - generally it is unnormalized\n",
    "\n",
    "import os\n",
    "os.environ[\"CUDA_VISIBLE_DEVICES\"] = \"0\"\n",
    "\n",
    "\n",
    "from keras.models import Model\n",
    "from keras.layers import LSTM, Conv1D, Dropout, LeakyReLU, Dense, Input, Lambda, TimeDistributed, Flatten, Conv2D, BatchNormalization, GRU, Bidirectional\n",
    "from keras.optimizers import Adam\n",
    "from keras.utils import to_categorical\n",
    "from keras.initializers import Orthogonal\n",
    "\n",
    "from keras.backend import ctc_batch_cost, expand_dims\n",
    "import keras.backend as K\n",
    "\n",
    "import editdistance  # For digit error rate\n",
    "import keras\n",
    "import librosa\n",
    "import numpy as np\n",
    "import os\n",
    "\n",
    "LENGTH = 2648\n",
    "RECS = 1384 * 9\n",
    "TRANSL = 307\n",
    "\n",
    "X = np.zeros([RECS, LENGTH, 20], np.float32)\n",
    "Y = np.zeros([RECS, TRANSL], np.int16)\n",
    "counter = 0\n",
    "\n",
    "for i in range(9):\n",
    "    Xpart = np.load(\"datasets/clarin-long/data/clarin-mfcc-rec-{}.npy\".format(i))\n",
    "    Ypart = np.load(\"datasets/clarin-long/data/clarin-mfcc-trans-{}.npy\".format(i))\n",
    "    recs = Xpart.shape[0]\n",
    "    reclen = Xpart.shape[1]\n",
    "    translen = Ypart.shape[1]\n",
    "    X[counter : counter + recs, :reclen, :] = Xpart\n",
    "    Y[counter : counter + recs, :translen] = Ypart\n",
    "    counter += recs\n",
    "    \n",
    "print(counter, RECS)\n",
    "counter //= 32\n",
    "counter *= 32\n",
    "\n",
    "X = X[:counter]\n",
    "Y = Y[:counter]\n",
    "\n",
    "#X = np.clip(X, -3, 3)\n",
    "MEAN = X.mean()\n",
    "STD = X.std()\n"
   ]
  },
  {
   "cell_type": "code",
   "execution_count": null,
   "metadata": {
    "scrolled": false
   },
   "outputs": [
    {
     "name": "stdout",
     "output_type": "stream",
     "text": [
      "[(12416, 2648, 20), (12416, 307), (12416, 1), (12416, 1)]\n",
      "__________________________________________________________________________________________________\n",
      "Layer (type)                    Output Shape         Param #     Connected to                     \n",
      "==================================================================================================\n",
      "input_7 (InputLayer)            (None, None, 20)     0                                            \n",
      "__________________________________________________________________________________________________\n",
      "lambda_9 (Lambda)               (None, None, 20)     0           input_7[0][0]                    \n",
      "__________________________________________________________________________________________________\n",
      "lambda_10 (Lambda)              (None, None, 20, 1)  0           lambda_9[0][0]                   \n",
      "__________________________________________________________________________________________________\n",
      "conv2d_9 (Conv2D)               (None, None, 20, 12) 72          lambda_10[0][0]                  \n",
      "__________________________________________________________________________________________________\n",
      "leaky_re_lu_37 (LeakyReLU)      (None, None, 20, 12) 0           conv2d_9[0][0]                   \n",
      "__________________________________________________________________________________________________\n",
      "batch_normalization_36 (BatchNo (None, None, 20, 12) 48          leaky_re_lu_37[0][0]             \n",
      "__________________________________________________________________________________________________\n",
      "conv2d_10 (Conv2D)              (None, None, 20, 16) 976         batch_normalization_36[0][0]     \n",
      "__________________________________________________________________________________________________\n",
      "leaky_re_lu_38 (LeakyReLU)      (None, None, 20, 16) 0           conv2d_10[0][0]                  \n",
      "__________________________________________________________________________________________________\n",
      "batch_normalization_37 (BatchNo (None, None, 20, 16) 64          leaky_re_lu_38[0][0]             \n",
      "__________________________________________________________________________________________________\n",
      "time_distributed_5 (TimeDistrib (None, None, 320)    0           batch_normalization_37[0][0]     \n",
      "__________________________________________________________________________________________________\n",
      "conv1d_5 (Conv1D)               (None, None, 512)    819712      time_distributed_5[0][0]         \n",
      "__________________________________________________________________________________________________\n",
      "leaky_re_lu_39 (LeakyReLU)      (None, None, 512)    0           conv1d_5[0][0]                   \n",
      "__________________________________________________________________________________________________\n",
      "batch_normalization_38 (BatchNo (None, None, 512)    2048        leaky_re_lu_39[0][0]             \n",
      "__________________________________________________________________________________________________\n",
      "bidirectional_1 (Bidirectional) (None, None, 512)    1181184     batch_normalization_38[0][0]     \n",
      "__________________________________________________________________________________________________\n",
      "leaky_re_lu_40 (LeakyReLU)      (None, None, 512)    0           bidirectional_1[0][0]            \n",
      "__________________________________________________________________________________________________\n",
      "batch_normalization_39 (BatchNo (None, None, 512)    2048        leaky_re_lu_40[0][0]             \n",
      "__________________________________________________________________________________________________\n",
      "bidirectional_2 (Bidirectional) (None, None, 512)    1181184     batch_normalization_39[0][0]     \n",
      "__________________________________________________________________________________________________\n",
      "leaky_re_lu_41 (LeakyReLU)      (None, None, 512)    0           bidirectional_2[0][0]            \n",
      "__________________________________________________________________________________________________\n",
      "batch_normalization_40 (BatchNo (None, None, 512)    2048        leaky_re_lu_41[0][0]             \n",
      "__________________________________________________________________________________________________\n",
      "bidirectional_3 (Bidirectional) (None, None, 512)    1181184     batch_normalization_40[0][0]     \n",
      "__________________________________________________________________________________________________\n",
      "leaky_re_lu_42 (LeakyReLU)      (None, None, 512)    0           bidirectional_3[0][0]            \n",
      "__________________________________________________________________________________________________\n",
      "batch_normalization_41 (BatchNo (None, None, 512)    2048        leaky_re_lu_42[0][0]             \n",
      "__________________________________________________________________________________________________\n",
      "bidirectional_4 (Bidirectional) (None, None, 512)    1181184     batch_normalization_41[0][0]     \n",
      "__________________________________________________________________________________________________\n",
      "leaky_re_lu_43 (LeakyReLU)      (None, None, 512)    0           bidirectional_4[0][0]            \n",
      "__________________________________________________________________________________________________\n",
      "batch_normalization_42 (BatchNo (None, None, 512)    2048        leaky_re_lu_43[0][0]             \n",
      "__________________________________________________________________________________________________\n",
      "bidirectional_5 (Bidirectional) (None, None, 512)    1181184     batch_normalization_42[0][0]     \n",
      "__________________________________________________________________________________________________\n",
      "leaky_re_lu_44 (LeakyReLU)      (None, None, 512)    0           bidirectional_5[0][0]            \n",
      "__________________________________________________________________________________________________\n",
      "batch_normalization_43 (BatchNo (None, None, 512)    2048        leaky_re_lu_44[0][0]             \n",
      "__________________________________________________________________________________________________\n",
      "bidirectional_6 (Bidirectional) (None, None, 512)    1181184     batch_normalization_43[0][0]     \n",
      "__________________________________________________________________________________________________\n",
      "leaky_re_lu_45 (LeakyReLU)      (None, None, 512)    0           bidirectional_6[0][0]            \n",
      "__________________________________________________________________________________________________\n",
      "batch_normalization_44 (BatchNo (None, None, 512)    2048        leaky_re_lu_45[0][0]             \n",
      "__________________________________________________________________________________________________\n",
      "bidirectional_7 (Bidirectional) (None, None, 512)    1181184     batch_normalization_44[0][0]     \n",
      "__________________________________________________________________________________________________\n",
      "leaky_re_lu_46 (LeakyReLU)      (None, None, 512)    0           bidirectional_7[0][0]            \n",
      "__________________________________________________________________________________________________\n",
      "batch_normalization_45 (BatchNo (None, None, 512)    2048        leaky_re_lu_46[0][0]             \n",
      "__________________________________________________________________________________________________\n",
      "dense_6 (Dense)                 (None, None, 1024)   525312      batch_normalization_45[0][0]     \n",
      "__________________________________________________________________________________________________\n",
      "leaky_re_lu_47 (LeakyReLU)      (None, None, 1024)   0           dense_6[0][0]                    \n",
      "__________________________________________________________________________________________________\n",
      "batch_normalization_46 (BatchNo (None, None, 1024)   4096        leaky_re_lu_47[0][0]             \n",
      "__________________________________________________________________________________________________\n",
      "input_8 (InputLayer)            (None, 307)          0                                            \n",
      "__________________________________________________________________________________________________\n",
      "dense_7 (Dense)                 (None, None, 38)     38950       batch_normalization_46[0][0]     \n",
      "__________________________________________________________________________________________________\n",
      "input_length (InputLayer)       (None, 1)            0                                            \n",
      "__________________________________________________________________________________________________\n",
      "label_length (InputLayer)       (None, 1)            0                                            \n",
      "__________________________________________________________________________________________________\n",
      "ctc (Lambda)                    (None, 1)            0           input_8[0][0]                    \n",
      "                                                                 dense_7[0][0]                    \n",
      "                                                                 input_length[0][0]               \n",
      "                                                                 label_length[0][0]               \n",
      "==================================================================================================\n",
      "Total params: 9,673,902\n",
      "Trainable params: 9,663,606\n",
      "Non-trainable params: 10,296\n",
      "__________________________________________________________________________________________________\n"
     ]
    },
    {
     "name": "stdout",
     "output_type": "stream",
     "text": [
      "Epoch 1/100\n",
      "12416/12416 [==============================] - 3788s 305ms/step - loss: 477.7933\n",
      "Epoch 2/100\n",
      "12416/12416 [==============================] - 3776s 304ms/step - loss: 342.6235\n",
      "Epoch 3/100\n",
      "12416/12416 [==============================] - 3776s 304ms/step - loss: 239.9440\n",
      "Epoch 4/100\n",
      "12416/12416 [==============================] - 3778s 304ms/step - loss: 204.3700\n",
      "Epoch 5/100\n",
      "12416/12416 [==============================] - 3782s 305ms/step - loss: 184.1607\n",
      "Epoch 6/100\n",
      "12416/12416 [==============================] - 3781s 304ms/step - loss: 169.9461\n",
      "Epoch 7/100\n",
      "12416/12416 [==============================] - 3779s 304ms/step - loss: 159.2866\n",
      "Epoch 8/100\n",
      "12416/12416 [==============================] - 3780s 304ms/step - loss: 150.5535\n",
      "Epoch 9/100\n",
      "12416/12416 [==============================] - 3784s 305ms/step - loss: 142.5209\n",
      "Epoch 10/100\n",
      "12416/12416 [==============================] - 3780s 304ms/step - loss: 135.9331\n",
      "Epoch 11/100\n",
      "12416/12416 [==============================] - 3782s 305ms/step - loss: 130.2390\n",
      "Epoch 12/100\n",
      "12416/12416 [==============================] - 3780s 304ms/step - loss: 124.7638\n",
      "Epoch 13/100\n",
      "12416/12416 [==============================] - 3779s 304ms/step - loss: 120.0046\n",
      "Epoch 14/100\n",
      "12416/12416 [==============================] - 3781s 304ms/step - loss: 115.7468\n",
      "Epoch 15/100\n",
      "12416/12416 [==============================] - 3778s 304ms/step - loss: 111.4135\n",
      "Epoch 16/100\n",
      "12416/12416 [==============================] - 3779s 304ms/step - loss: 107.4849\n",
      "Epoch 17/100\n",
      "12416/12416 [==============================] - 3779s 304ms/step - loss: 104.0342\n",
      "Epoch 18/100\n",
      " 3520/12416 [=======>......................] - ETA: 45:08 - loss: 97.7875"
     ]
    }
   ],
   "source": [
    "mc = keras.callbacks.ModelCheckpoint('models/mfcc-ctc-{epoch:08d}-bigger.h5', \n",
    "                                     save_weights_only=False, period=5)\n",
    "\n",
    "class MyCallback(keras.callbacks.Callback):\n",
    "    def __init__(self, fname):\n",
    "        self.fname = fname\n",
    "        super(MyCallback, self).__init__()\n",
    "        \n",
    "    def on_epoch_end(self, epoch, logs={}):\n",
    "        content = \"Epoch: {}, loss: {}\\n\".format(epoch, logs.get('loss'))\n",
    "        with open(self.fname, \"a\") as f:\n",
    "            f.write(content)\n",
    "\n",
    "logger = MyCallback(\"./training-bigger-log.txt\")\n",
    "            \n",
    "def mk_model(max_label_length):\n",
    "    feature_input = Input(shape = (None, NFEATS))\n",
    "    layer = Lambda(lambda x: (x - MEAN) / STD)(feature_input)\n",
    "    layer = Lambda(K.expand_dims)(layer)\n",
    "    layer_1 = Conv2D(12, [5,1], activation='linear', strides=(2,1), kernel_initializer=Orthogonal(), padding='same')(layer)\n",
    "    layer_2 = LeakyReLU(0.01)(layer_1)\n",
    "    layer = BatchNormalization()(layer_2)\n",
    "    layer_1 = Conv2D(16, [5,1], activation='linear', strides=(2,1), kernel_initializer=Orthogonal(), padding='same')(layer)\n",
    "    layer_2 = LeakyReLU(0.01)(layer_1)\n",
    "    layer = BatchNormalization()(layer_2)\n",
    "    layer = TimeDistributed(Flatten())(layer)\n",
    "    layer_1 = Conv1D(512, 5, activation='linear', kernel_initializer=Orthogonal(), padding='same')(layer)\n",
    "    layer_2 = LeakyReLU(0.01)(layer_1)\n",
    "    layer = BatchNormalization()(layer_2)\n",
    "    for i in range(7):\n",
    "        layer = Bidirectional(GRU(256, return_sequences = True, recurrent_dropout=0.01, kernel_initializer=Orthogonal(), activation='linear'))(layer)\n",
    "        layer = LeakyReLU(0.01)(layer)\n",
    "        layer = BatchNormalization()(layer)\n",
    "    layer = Dense(1024)(layer)\n",
    "    layer = LeakyReLU(0.01)(layer)\n",
    "    layer = BatchNormalization()(layer)\n",
    "    layer_15 = Dense(NPHONES + 1, activation = 'softmax')(layer)\n",
    "    label_input = Input(shape = (max_label_length,))\n",
    "    input_length = Input(name='input_length', shape=[1], dtype='int64')\n",
    "    label_length = Input(name='label_length', shape=[1], dtype='int64')\n",
    "    loss_lambda = Lambda(lambda args:ctc_batch_cost(*args), output_shape=(1,), name='ctc')([label_input, layer_15, input_length, label_length])\n",
    "    model = Model([feature_input, label_input, input_length, label_length], [loss_lambda])\n",
    "    model.summary()\n",
    "    predictive = Model(feature_input, layer_15)\n",
    "    return model, predictive\n",
    "\n",
    "def train(model, trainX, trainy, trainXl, trainyl, epochs = 50):\n",
    "    # important: batch_size=1 bugs Tensorflow\n",
    "    optimizer = Adam(0.0003, clipnorm=1.)\n",
    "    model.compile(loss={'ctc': lambda y_true, y_pred: y_pred}, optimizer=optimizer)\n",
    "    return model.fit([trainX, trainy, trainXl, trainyl], np.zeros(trainX.shape[0]), epochs = 100,\n",
    "                     batch_size = 32, callbacks=[mc])\n",
    "\n",
    "def validate(predictions, valid_length, groundtruth, target_length):\n",
    "    predictions = keras.backend.ctc_decode(predictions, valid_length, False, 1)\n",
    "    predictions = predictions[0][0].eval(session=keras.backend.get_session())\n",
    "    DERs = []\n",
    "    for index in range(predictions.shape[0]):\n",
    "        dist = float(editdistance.eval(\n",
    "            [x for x in predictions[index, :] if x != -1],\n",
    "            [x for x in groundtruth[index, :] if x != NPHONES]))\n",
    "        DER = dist / target_length[index]\n",
    "        DERs.append((DER, target_length[index]))\n",
    "    return DERs\n",
    "\n",
    "def try_else(exp, exp_else):\n",
    "    try:\n",
    "        return exp()\n",
    "    except:\n",
    "        return exp_else\n",
    "\n",
    "if __name__=='__main__':\n",
    "    data = X, Y\n",
    "    NPHONES = Y.max()\n",
    "    NFEATS = data[0].shape[2]\n",
    "    X_lens = np.array([try_else(\n",
    "            (lambda:np.where((x).mean(1) == (x).std(1))[0][0]),\n",
    "            X.shape[1])\n",
    "        for x in X])\n",
    "    X_lens = np.ceil(X_lens / 4.0)\n",
    "    Y_lens = np.array([np.where(x == NPHONES)[0] for x in data[1]])\n",
    "    Y_lens = np.array([x[0] if len(x) else 0 for x in Y_lens])\n",
    "    data = data[0][np.where(Y_lens)], data[1][np.where(Y_lens)], X_lens[np.where(Y_lens)].reshape(-1, 1), Y_lens[np.where(Y_lens)].reshape(-1, 1)\n",
    "    print(list(map(lambda x:x.shape, data)))\n",
    "    trn, predict = mk_model(data[1].shape[1])\n",
    "    train(trn, *data, epochs=1000) # at 300 it makes sensible predictions\n",
    "    valid_data = make_data(*load_data(VALIDDATA))\n",
    "    predictions = predict.predict(valid_data[0])\n",
    "    DERs = validate(predictions, valid_data[2], valid_data[1], valid_data[3])\n",
    "    print(\"Validation Digit Error Rate: {}\".format(sum([x[0] * x[1] for x in DERs]) / sum([x[1] for x in DERs])))\n",
    "    predict.save('cyfry.pred.h5')"
   ]
  },
  {
   "cell_type": "code",
   "execution_count": 13,
   "metadata": {},
   "outputs": [
    {
     "ename": "TypeError",
     "evalue": "only size-1 arrays can be converted to Python scalars",
     "output_type": "error",
     "traceback": [
      "\u001b[0;31m---------------------------------------------------------------------------\u001b[0m",
      "\u001b[0;31mTypeError\u001b[0m                                 Traceback (most recent call last)",
      "\u001b[0;32m<ipython-input-13-8999ceb6f11d>\u001b[0m in \u001b[0;36m<module>\u001b[0;34m()\u001b[0m\n\u001b[0;32m----> 1\u001b[0;31m \u001b[0mGRU\u001b[0m\u001b[0;34m(\u001b[0m\u001b[0mnp\u001b[0m\u001b[0;34m.\u001b[0m\u001b[0mzeros\u001b[0m\u001b[0;34m(\u001b[0m\u001b[0mNPHONES\u001b[0m \u001b[0;34m+\u001b[0m \u001b[0;36m1\u001b[0m\u001b[0;34m)\u001b[0m\u001b[0;34m)\u001b[0m\u001b[0;34m(\u001b[0m\u001b[0mInput\u001b[0m\u001b[0;34m(\u001b[0m\u001b[0;34m(\u001b[0m\u001b[0;36m30\u001b[0m\u001b[0;34m,\u001b[0m\u001b[0;36m10\u001b[0m\u001b[0;34m)\u001b[0m\u001b[0;34m)\u001b[0m\u001b[0;34m)\u001b[0m\u001b[0;34m\u001b[0m\u001b[0m\n\u001b[0m",
      "\u001b[0;32m/venv/lib/python3.5/site-packages/keras/layers/recurrent.py\u001b[0m in \u001b[0;36m__call__\u001b[0;34m(self, inputs, initial_state, constants, **kwargs)\u001b[0m\n\u001b[1;32m    497\u001b[0m \u001b[0;34m\u001b[0m\u001b[0m\n\u001b[1;32m    498\u001b[0m         \u001b[0;32mif\u001b[0m \u001b[0minitial_state\u001b[0m \u001b[0;32mis\u001b[0m \u001b[0;32mNone\u001b[0m \u001b[0;32mand\u001b[0m \u001b[0mconstants\u001b[0m \u001b[0;32mis\u001b[0m \u001b[0;32mNone\u001b[0m\u001b[0;34m:\u001b[0m\u001b[0;34m\u001b[0m\u001b[0m\n\u001b[0;32m--> 499\u001b[0;31m             \u001b[0;32mreturn\u001b[0m \u001b[0msuper\u001b[0m\u001b[0;34m(\u001b[0m\u001b[0mRNN\u001b[0m\u001b[0;34m,\u001b[0m \u001b[0mself\u001b[0m\u001b[0;34m)\u001b[0m\u001b[0;34m.\u001b[0m\u001b[0m__call__\u001b[0m\u001b[0;34m(\u001b[0m\u001b[0minputs\u001b[0m\u001b[0;34m,\u001b[0m \u001b[0;34m**\u001b[0m\u001b[0mkwargs\u001b[0m\u001b[0;34m)\u001b[0m\u001b[0;34m\u001b[0m\u001b[0m\n\u001b[0m\u001b[1;32m    500\u001b[0m \u001b[0;34m\u001b[0m\u001b[0m\n\u001b[1;32m    501\u001b[0m         \u001b[0;31m# If any of `initial_state` or `constants` are specified and are Keras\u001b[0m\u001b[0;34m\u001b[0m\u001b[0;34m\u001b[0m\u001b[0m\n",
      "\u001b[0;32m/venv/lib/python3.5/site-packages/keras/engine/topology.py\u001b[0m in \u001b[0;36m__call__\u001b[0;34m(self, inputs, **kwargs)\u001b[0m\n\u001b[1;32m    590\u001b[0m                                          '`layer.build(batch_input_shape)`')\n\u001b[1;32m    591\u001b[0m                 \u001b[0;32mif\u001b[0m \u001b[0mlen\u001b[0m\u001b[0;34m(\u001b[0m\u001b[0minput_shapes\u001b[0m\u001b[0;34m)\u001b[0m \u001b[0;34m==\u001b[0m \u001b[0;36m1\u001b[0m\u001b[0;34m:\u001b[0m\u001b[0;34m\u001b[0m\u001b[0m\n\u001b[0;32m--> 592\u001b[0;31m                     \u001b[0mself\u001b[0m\u001b[0;34m.\u001b[0m\u001b[0mbuild\u001b[0m\u001b[0;34m(\u001b[0m\u001b[0minput_shapes\u001b[0m\u001b[0;34m[\u001b[0m\u001b[0;36m0\u001b[0m\u001b[0;34m]\u001b[0m\u001b[0;34m)\u001b[0m\u001b[0;34m\u001b[0m\u001b[0m\n\u001b[0m\u001b[1;32m    593\u001b[0m                 \u001b[0;32melse\u001b[0m\u001b[0;34m:\u001b[0m\u001b[0;34m\u001b[0m\u001b[0m\n\u001b[1;32m    594\u001b[0m                     \u001b[0mself\u001b[0m\u001b[0;34m.\u001b[0m\u001b[0mbuild\u001b[0m\u001b[0;34m(\u001b[0m\u001b[0minput_shapes\u001b[0m\u001b[0;34m)\u001b[0m\u001b[0;34m\u001b[0m\u001b[0m\n",
      "\u001b[0;32m/venv/lib/python3.5/site-packages/keras/layers/recurrent.py\u001b[0m in \u001b[0;36mbuild\u001b[0;34m(self, input_shape)\u001b[0m\n\u001b[1;32m    459\u001b[0m                 \u001b[0mself\u001b[0m\u001b[0;34m.\u001b[0m\u001b[0mcell\u001b[0m\u001b[0;34m.\u001b[0m\u001b[0mbuild\u001b[0m\u001b[0;34m(\u001b[0m\u001b[0;34m[\u001b[0m\u001b[0mstep_input_shape\u001b[0m\u001b[0;34m]\u001b[0m \u001b[0;34m+\u001b[0m \u001b[0mconstants_shape\u001b[0m\u001b[0;34m)\u001b[0m\u001b[0;34m\u001b[0m\u001b[0m\n\u001b[1;32m    460\u001b[0m             \u001b[0;32melse\u001b[0m\u001b[0;34m:\u001b[0m\u001b[0;34m\u001b[0m\u001b[0m\n\u001b[0;32m--> 461\u001b[0;31m                 \u001b[0mself\u001b[0m\u001b[0;34m.\u001b[0m\u001b[0mcell\u001b[0m\u001b[0;34m.\u001b[0m\u001b[0mbuild\u001b[0m\u001b[0;34m(\u001b[0m\u001b[0mstep_input_shape\u001b[0m\u001b[0;34m)\u001b[0m\u001b[0;34m\u001b[0m\u001b[0m\n\u001b[0m\u001b[1;32m    462\u001b[0m \u001b[0;34m\u001b[0m\u001b[0m\n\u001b[1;32m    463\u001b[0m         \u001b[0;31m# set or validate state_spec\u001b[0m\u001b[0;34m\u001b[0m\u001b[0;34m\u001b[0m\u001b[0m\n",
      "\u001b[0;32m/venv/lib/python3.5/site-packages/keras/layers/recurrent.py\u001b[0m in \u001b[0;36mbuild\u001b[0;34m(self, input_shape)\u001b[0m\n\u001b[1;32m   1261\u001b[0m                                       \u001b[0minitializer\u001b[0m\u001b[0;34m=\u001b[0m\u001b[0mself\u001b[0m\u001b[0;34m.\u001b[0m\u001b[0mkernel_initializer\u001b[0m\u001b[0;34m,\u001b[0m\u001b[0;34m\u001b[0m\u001b[0m\n\u001b[1;32m   1262\u001b[0m                                       \u001b[0mregularizer\u001b[0m\u001b[0;34m=\u001b[0m\u001b[0mself\u001b[0m\u001b[0;34m.\u001b[0m\u001b[0mkernel_regularizer\u001b[0m\u001b[0;34m,\u001b[0m\u001b[0;34m\u001b[0m\u001b[0m\n\u001b[0;32m-> 1263\u001b[0;31m                                       constraint=self.kernel_constraint)\n\u001b[0m\u001b[1;32m   1264\u001b[0m         self.recurrent_kernel = self.add_weight(\n\u001b[1;32m   1265\u001b[0m             \u001b[0mshape\u001b[0m\u001b[0;34m=\u001b[0m\u001b[0;34m(\u001b[0m\u001b[0mself\u001b[0m\u001b[0;34m.\u001b[0m\u001b[0munits\u001b[0m\u001b[0;34m,\u001b[0m \u001b[0mself\u001b[0m\u001b[0;34m.\u001b[0m\u001b[0munits\u001b[0m \u001b[0;34m*\u001b[0m \u001b[0;36m3\u001b[0m\u001b[0;34m)\u001b[0m\u001b[0;34m,\u001b[0m\u001b[0;34m\u001b[0m\u001b[0m\n",
      "\u001b[0;32m/venv/lib/python3.5/site-packages/keras/legacy/interfaces.py\u001b[0m in \u001b[0;36mwrapper\u001b[0;34m(*args, **kwargs)\u001b[0m\n\u001b[1;32m     89\u001b[0m                 warnings.warn('Update your `' + object_name +\n\u001b[1;32m     90\u001b[0m                               '` call to the Keras 2 API: ' + signature, stacklevel=2)\n\u001b[0;32m---> 91\u001b[0;31m             \u001b[0;32mreturn\u001b[0m \u001b[0mfunc\u001b[0m\u001b[0;34m(\u001b[0m\u001b[0;34m*\u001b[0m\u001b[0margs\u001b[0m\u001b[0;34m,\u001b[0m \u001b[0;34m**\u001b[0m\u001b[0mkwargs\u001b[0m\u001b[0;34m)\u001b[0m\u001b[0;34m\u001b[0m\u001b[0m\n\u001b[0m\u001b[1;32m     92\u001b[0m         \u001b[0mwrapper\u001b[0m\u001b[0;34m.\u001b[0m\u001b[0m_original_function\u001b[0m \u001b[0;34m=\u001b[0m \u001b[0mfunc\u001b[0m\u001b[0;34m\u001b[0m\u001b[0m\n\u001b[1;32m     93\u001b[0m         \u001b[0;32mreturn\u001b[0m \u001b[0mwrapper\u001b[0m\u001b[0;34m\u001b[0m\u001b[0m\n",
      "\u001b[0;32m/venv/lib/python3.5/site-packages/keras/engine/topology.py\u001b[0m in \u001b[0;36madd_weight\u001b[0;34m(self, name, shape, dtype, initializer, regularizer, trainable, constraint)\u001b[0m\n\u001b[1;32m    411\u001b[0m         \u001b[0;32mif\u001b[0m \u001b[0mdtype\u001b[0m \u001b[0;32mis\u001b[0m \u001b[0;32mNone\u001b[0m\u001b[0;34m:\u001b[0m\u001b[0;34m\u001b[0m\u001b[0m\n\u001b[1;32m    412\u001b[0m             \u001b[0mdtype\u001b[0m \u001b[0;34m=\u001b[0m \u001b[0mK\u001b[0m\u001b[0;34m.\u001b[0m\u001b[0mfloatx\u001b[0m\u001b[0;34m(\u001b[0m\u001b[0;34m)\u001b[0m\u001b[0;34m\u001b[0m\u001b[0m\n\u001b[0;32m--> 413\u001b[0;31m         weight = K.variable(initializer(shape),\n\u001b[0m\u001b[1;32m    414\u001b[0m                             \u001b[0mdtype\u001b[0m\u001b[0;34m=\u001b[0m\u001b[0mdtype\u001b[0m\u001b[0;34m,\u001b[0m\u001b[0;34m\u001b[0m\u001b[0m\n\u001b[1;32m    415\u001b[0m                             \u001b[0mname\u001b[0m\u001b[0;34m=\u001b[0m\u001b[0mname\u001b[0m\u001b[0;34m,\u001b[0m\u001b[0;34m\u001b[0m\u001b[0m\n",
      "\u001b[0;32m/venv/lib/python3.5/site-packages/keras/initializers.py\u001b[0m in \u001b[0;36m__call__\u001b[0;34m(self, shape, dtype)\u001b[0m\n\u001b[1;32m    207\u001b[0m             \u001b[0mscale\u001b[0m \u001b[0;34m/=\u001b[0m \u001b[0mmax\u001b[0m\u001b[0;34m(\u001b[0m\u001b[0;36m1.\u001b[0m\u001b[0;34m,\u001b[0m \u001b[0mfan_out\u001b[0m\u001b[0;34m)\u001b[0m\u001b[0;34m\u001b[0m\u001b[0m\n\u001b[1;32m    208\u001b[0m         \u001b[0;32melse\u001b[0m\u001b[0;34m:\u001b[0m\u001b[0;34m\u001b[0m\u001b[0m\n\u001b[0;32m--> 209\u001b[0;31m             \u001b[0mscale\u001b[0m \u001b[0;34m/=\u001b[0m \u001b[0mmax\u001b[0m\u001b[0;34m(\u001b[0m\u001b[0;36m1.\u001b[0m\u001b[0;34m,\u001b[0m \u001b[0mfloat\u001b[0m\u001b[0;34m(\u001b[0m\u001b[0mfan_in\u001b[0m \u001b[0;34m+\u001b[0m \u001b[0mfan_out\u001b[0m\u001b[0;34m)\u001b[0m \u001b[0;34m/\u001b[0m \u001b[0;36m2\u001b[0m\u001b[0;34m)\u001b[0m\u001b[0;34m\u001b[0m\u001b[0m\n\u001b[0m\u001b[1;32m    210\u001b[0m         \u001b[0;32mif\u001b[0m \u001b[0mself\u001b[0m\u001b[0;34m.\u001b[0m\u001b[0mdistribution\u001b[0m \u001b[0;34m==\u001b[0m \u001b[0;34m'normal'\u001b[0m\u001b[0;34m:\u001b[0m\u001b[0;34m\u001b[0m\u001b[0m\n\u001b[1;32m    211\u001b[0m             \u001b[0mstddev\u001b[0m \u001b[0;34m=\u001b[0m \u001b[0mnp\u001b[0m\u001b[0;34m.\u001b[0m\u001b[0msqrt\u001b[0m\u001b[0;34m(\u001b[0m\u001b[0mscale\u001b[0m\u001b[0;34m)\u001b[0m\u001b[0;34m\u001b[0m\u001b[0m\n",
      "\u001b[0;31mTypeError\u001b[0m: only size-1 arrays can be converted to Python scalars"
     ]
    }
   ],
   "source": [
    "GRU(np.zeros(NPHONES + 1))(Input((30,10)))"
   ]
  },
  {
   "cell_type": "code",
   "execution_count": 11,
   "metadata": {
    "scrolled": true
   },
   "outputs": [
    {
     "data": {
      "text/plain": [
       "array([20, 20, 20, 20, 20, 37, 37, 37, 37, 37, 37, 37, 37, 37, 37, 37, 37,\n",
       "       37, 37, 37, 37, 37, 37, 37, 37, 37, 37, 37, 37, 37, 37, 37, 37, 37,\n",
       "       37, 37, 37, 37, 37, 37, 37, 37, 37, 37, 37, 37, 37, 37, 37, 37, 37,\n",
       "       37, 37, 37, 37, 37, 37, 37, 37, 37, 37, 37, 37, 37, 37, 37, 37, 37,\n",
       "       37,  3, 37, 31, 37, 37, 28, 28, 28, 37,  4, 37, 37, 29, 20, 28, 37,\n",
       "       37, 34, 37, 37, 31, 37, 21, 37, 37, 34, 34, 37,  4, 37,  6, 20, 34,\n",
       "       37,  8, 37, 37, 28, 37, 37, 15, 37, 24, 33, 33, 14, 14, 37, 29, 37,\n",
       "       23, 37, 37,  8, 37, 10, 20,  8, 37, 37, 34, 37,  0,  0, 37,  6, 37,\n",
       "       34, 37, 37, 37, 33, 37, 37,  0, 37, 37, 30, 37, 37,  6, 37, 37, 37,\n",
       "       37, 37, 37, 20, 20, 20, 37, 37, 37, 37, 37, 37, 37, 37, 37, 31, 37,\n",
       "       20, 28, 37, 37, 28, 37, 37, 37, 29, 37, 28, 37, 37, 37,  6, 37, 10,\n",
       "       37, 37, 27, 27, 37, 37,  3,  3, 37, 37, 29, 37, 30, 37, 37,  0, 37,\n",
       "       37, 37, 37, 12, 37,  6, 37, 37, 37,  5, 37, 37, 22, 37,  6, 37, 28,\n",
       "        4,  4,  4, 37, 37, 21, 37, 37,  6, 37,  4, 37, 37, 31, 31, 37, 37,\n",
       "       36, 37, 37, 37, 37, 37, 37, 37, 37, 37, 37, 37, 37, 37, 20, 20, 20,\n",
       "       20, 20, 20, 20, 20, 20, 20, 20, 20, 20, 20, 20, 20, 20, 20, 20, 20,\n",
       "       20, 20, 20, 20, 20, 20, 20, 20, 20, 20, 20, 20, 20, 20, 20, 20, 20,\n",
       "       20, 20, 20, 20, 20, 20, 20, 20, 20, 20, 20, 20, 20, 20, 20,  3,  3,\n",
       "        3,  3,  3,  3,  3,  3, 16, 16, 16, 16, 16, 16, 16, 16, 16, 16, 16,\n",
       "       16, 16, 16, 16, 16, 16, 16, 16, 16, 16, 16, 16, 16, 16, 16, 16, 16,\n",
       "       16, 16, 16, 16, 16, 16, 16, 16, 16, 16, 16, 16, 16, 16, 16, 16, 16,\n",
       "       16, 16, 16, 16, 16, 16, 16, 16, 16, 16, 16, 16, 16, 16, 16, 16, 16,\n",
       "       16, 16, 16, 16, 16, 16, 16, 16, 16, 16, 16, 16, 16, 16, 16, 16, 16,\n",
       "       16, 16, 16, 16, 16, 16, 16, 16, 16, 16, 16, 16, 16, 16, 16, 16, 16,\n",
       "       16, 16, 16, 16, 16, 16, 16, 16, 16, 16, 16, 16, 16, 16, 16, 16, 16,\n",
       "       16, 16, 16, 16, 16, 16, 16, 16, 16, 16, 16, 16, 16, 16, 16, 16, 16,\n",
       "       16, 16, 16, 16, 16, 16, 16, 16, 16, 16, 16, 16, 16, 16, 16, 16, 16,\n",
       "       16, 16, 16, 16, 16, 16, 16, 16, 16, 16, 16, 16, 16, 16, 16, 16, 16,\n",
       "       16, 16, 16, 16, 16, 16, 16, 16, 16, 16, 16, 16, 16, 16, 16, 16, 16,\n",
       "       16, 16, 16, 16, 16, 16, 16, 16, 16, 16, 16, 16, 16, 16, 16, 16, 16,\n",
       "       16, 16, 16, 16, 16, 16, 16, 16, 16, 16, 16, 16, 16, 16, 16, 16, 16,\n",
       "       16, 16, 16, 16, 16, 16, 16, 16, 16, 16, 16, 16, 16, 16, 16, 16, 16,\n",
       "       16, 16, 16, 16, 16, 16, 16, 16, 16, 16, 16, 16, 16, 16, 16, 16, 16,\n",
       "       16, 16, 16, 16, 16, 16, 16, 16, 16, 16, 16, 16, 16, 16, 16, 16, 16,\n",
       "       16, 16, 16, 16, 16, 16, 16, 16, 16, 16, 16, 16, 16, 16, 16, 16, 16,\n",
       "       16, 16, 16, 16, 16, 16, 16, 16, 16, 16, 16, 16, 16, 16, 16, 16, 16,\n",
       "       16, 16, 16, 16, 16, 16, 16, 16, 16, 16, 16, 16, 16, 16, 16, 16, 16,\n",
       "       16, 16, 16, 16, 16, 16, 16, 16, 16,  3, 15, 15, 15, 21, 21, 21, 21,\n",
       "       21, 21, 21, 21, 21,  6,  6,  6,  6, 22, 22, 35, 35, 35, 32, 32])"
      ]
     },
     "execution_count": 11,
     "metadata": {},
     "output_type": "execute_result"
    }
   ],
   "source": [
    "pr = predict.predict(X[:1])\n",
    "pr = pr.argmax(2)[0]\n",
    "pr"
   ]
  },
  {
   "cell_type": "code",
   "execution_count": 12,
   "metadata": {},
   "outputs": [
    {
     "name": "stdout",
     "output_type": "stream",
     "text": [
      "WARNING:tensorflow:From /venv/lib/python3.5/site-packages/keras/backend/tensorflow_backend.py:3996: sparse_to_dense (from tensorflow.python.ops.sparse_ops) is deprecated and will be removed in a future version.\n",
      "Instructions for updating:\n",
      "Create a `tf.sparse.SparseTensor` and use `tf.sparse.to_dense` instead.\n"
     ]
    },
    {
     "data": {
      "text/plain": [
       "<tf.Tensor 'SparseToDense:0' shape=(1, 63) dtype=int64>"
      ]
     },
     "execution_count": 12,
     "metadata": {},
     "output_type": "execute_result"
    }
   ],
   "source": [
    "pr = predict.predict(X[:1])\n",
    "pr = K.ctc_decode(pr, [271])[0][0]\n",
    "pr"
   ]
  },
  {
   "cell_type": "code",
   "execution_count": 13,
   "metadata": {},
   "outputs": [],
   "source": [
    "pred_tr = pr.eval(session=K.get_session())"
   ]
  },
  {
   "cell_type": "code",
   "execution_count": 14,
   "metadata": {},
   "outputs": [
    {
     "data": {
      "text/plain": [
       "array([[20,  3, 31, 28,  4, 29, 20, 28, 34, 31, 21,  8, 34,  0,  6, 20,\n",
       "        34,  8, 28, 15, 24, 33, 14, 29, 23,  8, 10, 20,  8, 34, 20,  0,\n",
       "         6, 34, 33, 20,  0, 30,  6, 20, 31, 20, 28, 28, 29, 28,  6, 20,\n",
       "        10, 27,  3, 29, 30,  0, 20, 12, 29,  5, 22,  6, 20, 28,  4, 21,\n",
       "         6,  4, 20, 31, 36, 20, 37, 37, 37, 37, 37, 37, 37, 37, 37, 37,\n",
       "        37, 37, 37, 37, 37, 37, 37, 37, 37, 37, 37, 37, 37, 37, 37, 37,\n",
       "        37, 37, 37, 37, 37, 37, 37, 37, 37, 37, 37, 37, 37, 37, 37, 37,\n",
       "        37, 37, 37, 37, 37, 37, 37, 37, 37, 37, 37, 37, 37, 37, 37, 37,\n",
       "        37, 37, 37, 37, 37, 37, 37, 37, 37, 37, 37, 37, 37, 37, 37, 37,\n",
       "        37, 37, 37, 37, 37, 37, 37, 37, 37, 37, 37, 37, 37, 37,  0,  0,\n",
       "         0,  0,  0,  0,  0,  0,  0,  0,  0,  0,  0,  0,  0,  0,  0,  0,\n",
       "         0,  0,  0,  0,  0,  0,  0,  0,  0,  0,  0,  0,  0,  0,  0,  0,\n",
       "         0,  0,  0,  0,  0,  0,  0,  0,  0,  0,  0,  0,  0,  0,  0,  0,\n",
       "         0,  0,  0,  0,  0,  0,  0,  0,  0,  0,  0,  0,  0,  0,  0,  0,\n",
       "         0,  0,  0,  0,  0,  0,  0,  0,  0,  0,  0,  0,  0,  0,  0,  0,\n",
       "         0,  0,  0,  0,  0,  0,  0,  0,  0,  0,  0,  0,  0,  0,  0,  0,\n",
       "         0,  0,  0,  0,  0,  0,  0,  0,  0,  0,  0,  0,  0,  0,  0,  0,\n",
       "         0,  0,  0,  0,  0,  0,  0,  0,  0,  0,  0,  0,  0,  0,  0,  0,\n",
       "         0,  0,  0,  0,  0,  0,  0,  0,  0,  0,  0,  0,  0,  0,  0,  0,\n",
       "         0,  0,  0]], dtype=int16)"
      ]
     },
     "execution_count": 14,
     "metadata": {},
     "output_type": "execute_result"
    }
   ],
   "source": [
    "Y[:1]"
   ]
  },
  {
   "cell_type": "code",
   "execution_count": 15,
   "metadata": {},
   "outputs": [
    {
     "data": {
      "text/plain": [
       "9"
      ]
     },
     "execution_count": 15,
     "metadata": {},
     "output_type": "execute_result"
    }
   ],
   "source": [
    "import editdistance\n",
    "editdistance.eval(list(pred_tr[0]), list(Y[0, :70]))"
   ]
  },
  {
   "cell_type": "code",
   "execution_count": 16,
   "metadata": {},
   "outputs": [
    {
     "data": {
      "text/plain": [
       "array([20,  3, 31, 28,  4, 29, 20, 28, 34, 31, 21, 34,  4,  6, 20, 34,  8,\n",
       "       28, 15, 24, 33, 14, 29, 23,  8, 10, 20,  8, 34,  0,  6, 34, 33,  0,\n",
       "       30,  6, 20, 31, 20, 28, 28, 29, 28,  6, 10, 27,  3, 29, 30,  0, 12,\n",
       "        6,  5, 22,  6, 28,  4, 21,  6,  4, 31, 36, 20])"
      ]
     },
     "execution_count": 16,
     "metadata": {},
     "output_type": "execute_result"
    }
   ],
   "source": [
    "pred_tr[0]"
   ]
  },
  {
   "cell_type": "code",
   "execution_count": 17,
   "metadata": {},
   "outputs": [],
   "source": [
    "preds = predict.predict(X[:160])"
   ]
  },
  {
   "cell_type": "code",
   "execution_count": 18,
   "metadata": {},
   "outputs": [],
   "source": [
    "pr = K.ctc_decode(preds, X_lens[:160])[0][0]"
   ]
  },
  {
   "cell_type": "code",
   "execution_count": 19,
   "metadata": {},
   "outputs": [
    {
     "data": {
      "text/plain": [
       "array([[20,  3, 31, ..., -1, -1, -1],\n",
       "       [20, 24, 22, ..., -1, -1, -1],\n",
       "       [20, 10,  2, ..., -1, -1, -1],\n",
       "       ...,\n",
       "       [20, 18, 20, ..., -1, -1, -1],\n",
       "       [20, 22,  6, ..., -1, -1, -1],\n",
       "       [20, 28, 31, ..., -1, -1, -1]])"
      ]
     },
     "execution_count": 19,
     "metadata": {},
     "output_type": "execute_result"
    }
   ],
   "source": [
    "pr.eval(session=K.get_session())"
   ]
  },
  {
   "cell_type": "code",
   "execution_count": 21,
   "metadata": {},
   "outputs": [],
   "source": [
    "hypos = [list(x) for x in pr.eval(session=K.get_session())]\n",
    "lens = [x.index(-1) if -1 in x else len(x) for x in hypos]\n",
    "hypos = [x[:lim] for x, lim in zip(hypos, lens)]"
   ]
  },
  {
   "cell_type": "code",
   "execution_count": 22,
   "metadata": {},
   "outputs": [],
   "source": [
    "gts = [list(x) for x in Y[:160]]\n",
    "lens = [x.index(37) if 37 in x else len(x) for x in gts]\n",
    "gts = [x[:lim] for x, lim in zip(gts, lens)]"
   ]
  },
  {
   "cell_type": "code",
   "execution_count": 23,
   "metadata": {},
   "outputs": [
    {
     "data": {
      "text/plain": [
       "[0.12857142857142856,\n",
       " 0.06976744186046512,\n",
       " 0.04838709677419355,\n",
       " 0.0875,\n",
       " 0.09917355371900827,\n",
       " 0.031914893617021274,\n",
       " 0.18518518518518517,\n",
       " 0.1,\n",
       " 0.04411764705882353,\n",
       " 0.043478260869565216,\n",
       " 0.13924050632911392,\n",
       " 0.05555555555555555,\n",
       " 0.07692307692307693,\n",
       " 0.23529411764705882,\n",
       " 0.07692307692307693,\n",
       " 0.23529411764705882,\n",
       " 0.14473684210526316,\n",
       " 0.24390243902439024,\n",
       " 0.11235955056179775,\n",
       " 0.1686746987951807,\n",
       " 0.05357142857142857,\n",
       " 0.023255813953488372,\n",
       " 0.08247422680412371,\n",
       " 0.13725490196078433,\n",
       " 0.08653846153846154,\n",
       " 0.06930693069306931,\n",
       " 0.05194805194805195,\n",
       " 0.09090909090909091,\n",
       " 0.09722222222222222,\n",
       " 0.06060606060606061,\n",
       " 0.0898876404494382,\n",
       " 0.06944444444444445,\n",
       " 0.012345679012345678,\n",
       " 0.1791044776119403,\n",
       " 0.09375,\n",
       " 0.038461538461538464,\n",
       " 0.10843373493975904,\n",
       " 0.10126582278481013,\n",
       " 0.09302325581395349,\n",
       " 0.05747126436781609,\n",
       " 0.06172839506172839,\n",
       " 0.05952380952380952,\n",
       " 0.04819277108433735,\n",
       " 0.11494252873563218,\n",
       " 0.13186813186813187,\n",
       " 0.15217391304347827,\n",
       " 0.11267605633802817,\n",
       " 0.12658227848101267,\n",
       " 0.13513513513513514,\n",
       " 0.07017543859649122,\n",
       " 0.02631578947368421,\n",
       " 0.10344827586206896,\n",
       " 0.027777777777777776,\n",
       " 0.021505376344086023,\n",
       " 0.09090909090909091,\n",
       " 0.03333333333333333,\n",
       " 0.06493506493506493,\n",
       " 0.07692307692307693,\n",
       " 0.12037037037037036,\n",
       " 0.06493506493506493,\n",
       " 0.10227272727272728,\n",
       " 0.01639344262295082,\n",
       " 0.08450704225352113,\n",
       " 0.057971014492753624,\n",
       " 0.12698412698412698,\n",
       " 0.08235294117647059,\n",
       " 0.04918032786885246,\n",
       " 0.07954545454545454,\n",
       " 0.025974025974025976,\n",
       " 0.08,\n",
       " 0.11538461538461539,\n",
       " 0.08928571428571429,\n",
       " 0.09523809523809523,\n",
       " 0.16279069767441862,\n",
       " 0.14492753623188406,\n",
       " 0.15584415584415584,\n",
       " 0.17647058823529413,\n",
       " 0.08771929824561403,\n",
       " 0.13157894736842105,\n",
       " 0.04477611940298507,\n",
       " 0.02531645569620253,\n",
       " 0.05263157894736842,\n",
       " 0.06172839506172839,\n",
       " 0.0821917808219178,\n",
       " 0.03571428571428571,\n",
       " 0.07692307692307693,\n",
       " 0.09090909090909091,\n",
       " 0.023255813953488372,\n",
       " 0.07575757575757576,\n",
       " 0.042105263157894736,\n",
       " 0.2054794520547945,\n",
       " 0.07142857142857142,\n",
       " 0.05319148936170213,\n",
       " 0.10714285714285714,\n",
       " 0.07575757575757576,\n",
       " 0.13793103448275862,\n",
       " 0.058394160583941604,\n",
       " 0.10236220472440945,\n",
       " 0.14393939393939395,\n",
       " 0.11965811965811966,\n",
       " 0.10077519379844961,\n",
       " 0.15454545454545454,\n",
       " 0.038461538461538464,\n",
       " 0.1171875,\n",
       " 0.07633587786259542,\n",
       " 0.08527131782945736,\n",
       " 0.11627906976744186,\n",
       " 0.15873015873015872,\n",
       " 0.08181818181818182,\n",
       " 0.1391304347826087,\n",
       " 0.11428571428571428,\n",
       " 0.1323529411764706,\n",
       " 0.034482758620689655,\n",
       " 0.0975609756097561,\n",
       " 0.08536585365853659,\n",
       " 0.1328125,\n",
       " 0.09090909090909091,\n",
       " 0.10784313725490197,\n",
       " 0.06930693069306931,\n",
       " 0.04854368932038835,\n",
       " 0.09473684210526316,\n",
       " 0.0958904109589041,\n",
       " 0.045454545454545456,\n",
       " 0.09195402298850575,\n",
       " 0.07777777777777778,\n",
       " 0.06557377049180328,\n",
       " 0.1111111111111111,\n",
       " 0.07446808510638298,\n",
       " 0.05128205128205128,\n",
       " 0.10126582278481013,\n",
       " 0.041666666666666664,\n",
       " 0.16666666666666666,\n",
       " 0.10638297872340426,\n",
       " 0.17045454545454544,\n",
       " 0.1232876712328767,\n",
       " 0.0958904109589041,\n",
       " 0.09302325581395349,\n",
       " 0.07692307692307693,\n",
       " 0.16091954022988506,\n",
       " 0.043478260869565216,\n",
       " 0.07317073170731707,\n",
       " 0.125,\n",
       " 0.08823529411764706,\n",
       " 0.15384615384615385,\n",
       " 0.08695652173913043,\n",
       " 0.11267605633802817,\n",
       " 0.07228915662650602,\n",
       " 0.1111111111111111,\n",
       " 0.05263157894736842,\n",
       " 0.08888888888888889,\n",
       " 0.07352941176470588,\n",
       " 0.06818181818181818,\n",
       " 0.05952380952380952,\n",
       " 0.07792207792207792,\n",
       " 0.1095890410958904,\n",
       " 0.1038961038961039,\n",
       " 0.0375,\n",
       " 0.03076923076923077,\n",
       " 0.09722222222222222,\n",
       " 0.0]"
      ]
     },
     "execution_count": 23,
     "metadata": {},
     "output_type": "execute_result"
    }
   ],
   "source": [
    "[editdistance.eval(gt, hypo) / len(gt) for gt, hypo in zip(gts, hypos)]"
   ]
  },
  {
   "cell_type": "code",
   "execution_count": 20,
   "metadata": {},
   "outputs": [
    {
     "ename": "NameError",
     "evalue": "name 'hypos' is not defined",
     "output_type": "error",
     "traceback": [
      "\u001b[0;31m---------------------------------------------------------------------------\u001b[0m",
      "\u001b[0;31mNameError\u001b[0m                                 Traceback (most recent call last)",
      "\u001b[0;32m<ipython-input-20-ba0ade4fc9cb>\u001b[0m in \u001b[0;36m<module>\u001b[0;34m()\u001b[0m\n\u001b[0;32m----> 1\u001b[0;31m \u001b[0mhypos\u001b[0m\u001b[0;34m\u001b[0m\u001b[0m\n\u001b[0m",
      "\u001b[0;31mNameError\u001b[0m: name 'hypos' is not defined"
     ]
    }
   ],
   "source": [
    "hypos"
   ]
  },
  {
   "cell_type": "code",
   "execution_count": 24,
   "metadata": {},
   "outputs": [
    {
     "name": "stdout",
     "output_type": "stream",
     "text": [
      "12416/12416 [==============================] - 615s 50ms/step\n"
     ]
    },
    {
     "data": {
      "text/plain": [
       "29.3532679695444"
      ]
     },
     "execution_count": 24,
     "metadata": {},
     "output_type": "execute_result"
    }
   ],
   "source": [
    "trn.evaluate(list(data), [np.zeros(len(data[0]))])"
   ]
  },
  {
   "cell_type": "code",
   "execution_count": 1,
   "metadata": {},
   "outputs": [
    {
     "ename": "NameError",
     "evalue": "name 'trn' is not defined",
     "output_type": "error",
     "traceback": [
      "\u001b[0;31m---------------------------------------------------------------------------\u001b[0m",
      "\u001b[0;31mNameError\u001b[0m                                 Traceback (most recent call last)",
      "\u001b[0;32m<ipython-input-1-e311a60c07b7>\u001b[0m in \u001b[0;36m<module>\u001b[0;34m()\u001b[0m\n\u001b[1;32m      1\u001b[0m \u001b[0;31m##\u001b[0m\u001b[0;34m\u001b[0m\u001b[0;34m\u001b[0m\u001b[0m\n\u001b[1;32m      2\u001b[0m \u001b[0;34m\u001b[0m\u001b[0m\n\u001b[0;32m----> 3\u001b[0;31m \u001b[0mtrn\u001b[0m\u001b[0;34m\u001b[0m\u001b[0m\n\u001b[0m",
      "\u001b[0;31mNameError\u001b[0m: name 'trn' is not defined"
     ]
    }
   ],
   "source": [
    "## \n"
   ]
  },
  {
   "cell_type": "code",
   "execution_count": null,
   "metadata": {},
   "outputs": [],
   "source": []
  }
 ],
 "metadata": {
  "kernelspec": {
   "display_name": "Python 3",
   "language": "python",
   "name": "python3"
  },
  "language_info": {
   "codemirror_mode": {
    "name": "ipython",
    "version": 3
   },
   "file_extension": ".py",
   "mimetype": "text/x-python",
   "name": "python",
   "nbconvert_exporter": "python",
   "pygments_lexer": "ipython3",
   "version": "3.5.2"
  }
 },
 "nbformat": 4,
 "nbformat_minor": 2
}
