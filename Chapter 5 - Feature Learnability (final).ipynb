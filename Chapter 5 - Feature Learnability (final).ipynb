{
 "cells": [
  {
   "cell_type": "code",
   "execution_count": null,
   "metadata": {},
   "outputs": [],
   "source": [
    "import sys\n",
    "sys.path.append(\"fwks_lib\")"
   ]
  },
  {
   "cell_type": "code",
   "execution_count": null,
   "metadata": {},
   "outputs": [],
   "source": [
    "from fwks.tasks import FeatureLearnabilityTask, Task\n",
    "from dissertation_model import (\n",
    "    mfcc_model,\n",
    "    handcrafted_model,\n",
    "    plc_model,\n",
    "    czt_model\n",
    ")\n",
    "\n",
    "\n",
    "import keras\n",
    "\n",
    "FeatureLearnabilityTask.how_much = 9000\n",
    "FeatureLearnabilityTask.mock = True\n",
    "\n",
    "\n",
    "class MFCCLearnability(metaclass=FeatureLearnabilityTask):\n",
    "    @classmethod\n",
    "    def get_mapping(self):\n",
    "        return mfcc_model()\n",
    "    \n",
    "    @classmethod\n",
    "    def get_mapper_network(self, mapping_size):\n",
    "        mapping = self.get_mapping()\n",
    "        mdl = keras.model.Sequential()\n",
    "        mdl.add(keras.layer.Dense(512, input_shape=(None, 257)))\n",
    "        mdl.add(keras.layer.Dense(512))\n",
    "        mdl.add(keras.layer.Dense(mapping_size))\n",
    "        return mdl\n",
    "\n",
    "\n",
    "class PLCLearnability(metaclass=FeatureLearnabilityTask):\n",
    "    @classmethod\n",
    "    def get_mapping(self):\n",
    "        return plc_model()\n",
    "    \n",
    "    @classmethod\n",
    "    def get_mapper_network(self, mapping_size):\n",
    "        mapping = self.get_mapping()\n",
    "        mdl = keras.model.Sequential()\n",
    "        mdl.add(keras.layer.Dense(512, input_shape=(None, 257)))\n",
    "        mdl.add(keras.layer.Dense(512))\n",
    "        mdl.add(keras.layer.Dense(mapping_size))\n",
    "        return mdl\n",
    "\n",
    "\n",
    "class CZTLearnability(metaclass=FeatureLearnabilityTask):\n",
    "    @classmethod\n",
    "    def get_mapping(self):\n",
    "        return czt_model()\n",
    "    \n",
    "    @classmethod\n",
    "    def get_mapper_network(self, mapping_size):\n",
    "        mapping = self.get_mapping()\n",
    "        mdl = keras.model.Sequential()\n",
    "        mdl.add(keras.layer.Dense(512, input_shape=(None, 257)))\n",
    "        mdl.add(keras.layer.Dense(512))\n",
    "        mdl.add(keras.layer.Dense(mapping_size))\n",
    "        return mdl\n",
    "\n",
    "\n",
    "class HandcraftedLearnability(metaclass=FeatureLearnabilityTask):\n",
    "    @classmethod\n",
    "    def get_mapping(self):\n",
    "        return handcrafted_model()\n",
    "    \n",
    "    @classmethod\n",
    "    def get_mapper_network(self, mapping_size):\n",
    "        mapping = self.get_mapping()\n",
    "        mdl = keras.model.Sequential()\n",
    "        mdl.add(keras.layer.Dense(512, input_shape=(None, 257)))\n",
    "        mdl.add(keras.layer.Dense(512))\n",
    "        mdl.add(keras.layer.Dense(mapping_size))\n",
    "        return mdl\n",
    "\n"
   ]
  },
  {
   "cell_type": "code",
   "execution_count": null,
   "metadata": {},
   "outputs": [],
   "source": [
    "for task in Task.all():\n",
    "    print(task)\n",
    "    task.run(\"/tmp/cache\")"
   ]
  }
 ],
 "metadata": {
  "kernelspec": {
   "display_name": "Python 3",
   "language": "python",
   "name": "python3"
  },
  "language_info": {
   "codemirror_mode": {
    "name": "ipython",
    "version": 3
   },
   "file_extension": ".py",
   "mimetype": "text/x-python",
   "name": "python",
   "nbconvert_exporter": "python",
   "pygments_lexer": "ipython3",
   "version": "3.5.2"
  }
 },
 "nbformat": 4,
 "nbformat_minor": 2
}
