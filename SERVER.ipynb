{
 "cells": [
  {
   "cell_type": "code",
   "execution_count": 11,
   "metadata": {},
   "outputs": [],
   "source": [
    "# port: 8900"
   ]
  },
  {
   "cell_type": "code",
   "execution_count": 19,
   "metadata": {},
   "outputs": [
    {
     "name": "stderr",
     "output_type": "stream",
     "text": [
      "/venv/lib/python3.5/site-packages/keras/models.py:255: UserWarning: No training configuration found in save file: the model was *not* compiled. Compile it manually.\n",
      "  warnings.warn('No training configuration found in save file: '\n",
      " * Running on http://0.0.0.0:8900/ (Press CTRL+C to quit)\n"
     ]
    }
   ],
   "source": [
    "import flask\n",
    "import json\n",
    "import librosa\n",
    "import scipy\n",
    "import scipy.io.wavfile as sio\n",
    "import tempfile\n",
    "\n",
    "def pcen(S, sr=22050, hop_length=512, gain=0.98, bias=2, power=0.5,\n",
    "         time_constant=0.400, eps=1e-6, b=None, max_size=1, ref=None,\n",
    "         axis=-1, max_axis=None):\n",
    "    \"\"\"\n",
    "    Adapted from librosa\n",
    "    \"\"\"\n",
    "    if b is None:\n",
    "        t_frames = time_constant * sr / float(hop_length)\n",
    "        # By default, this solves the equation for b:\n",
    "        #   b**2  + (1 - b) / t_frames  - 2 = 0\n",
    "        # which approximates the full-width half-max of the\n",
    "        # squared frequency response of the IIR low-pass filter\n",
    "        b = (np.sqrt(1 + 4 * t_frames**2) - 1) / (2 * t_frames**2)\n",
    "\n",
    "    if np.issubdtype(S.dtype, np.complexfloating):\n",
    "        S = np.abs(S)\n",
    "\n",
    "    if ref is None:\n",
    "        if max_size == 1:\n",
    "            ref = S\n",
    "        elif S.ndim == 1:\n",
    "            raise ParameterError('Max-filtering cannot be applied to 1-dimensional input')\n",
    "        else:\n",
    "            if max_axis is None:\n",
    "                if S.ndim != 2:\n",
    "                    raise ParameterError('Max-filtering a {:d}-dimensional spectrogram '\n",
    "                                         'requires you to specify max_axis'.format(S.ndim))\n",
    "                # if axis = 0, max_axis=1\n",
    "                # if axis = +- 1, max_axis = 0\n",
    "                max_axis = np.mod(1 - axis, 2)\n",
    "\n",
    "            ref = scipy.ndimage.maximum_filter1d(S, max_size, axis=max_axis)\n",
    "\n",
    "    S_smooth = scipy.signal.lfilter([b], [1, b - 1], ref, axis=axis)\n",
    "\n",
    "    # Working in log-space gives us some stability, and a slight speedup\n",
    "    smooth = np.exp(-gain * (np.log(eps) + np.log1p(S_smooth / eps)))\n",
    "    return (S * smooth + bias)**power - bias**power\n",
    "\n",
    "def callback(data):\n",
    "    spec = librosa.stft(data, n_fft=512, hop_length=128)\n",
    "    spec = pcen(spec, sr=16000, hop_length=128)\n",
    "    return librosa.feature.mfcc(S=spec, sr=16000, hop_length=128, n_mfcc=24).T\n",
    "\n",
    "import keras\n",
    "import keras.backend as K\n",
    "import numpy as np\n",
    "import tensorflow as tf\n",
    "\n",
    "class PcenFeature():\n",
    "    # class stub\n",
    "    def __call__(self, recording):\n",
    "        return callback(recording)\n",
    "\n",
    "\n",
    "class ASR:\n",
    "\n",
    "    _MEAN, _STD = 0.15655953, 1.3286684\n",
    "    _model_path = \"models/pcen_model.h5\"\n",
    "    _transform = PcenFeature()\n",
    "\n",
    "    def __init__(self):\n",
    "        self.mdl = keras.models.load_model(self._model_path, {\n",
    "            \"MEAN\": self._MEAN, \"STD\": self._STD, \"tf\": tf})\n",
    "        self.transform = self._transform\n",
    "        self.mdl.predict(np.zeros([1, 1, self.mdl.input_shape[2]]))\n",
    "    \n",
    "    def predict(self, X):\n",
    "        feats = np.stack([self.transform(X)])\n",
    "        phonemes = self.mdl.predict(feats)\n",
    "        return phonemes\n",
    "        # map phonemes to words\n",
    "        # use lattices\n",
    "\n",
    "    def predict_phones(self, X):\n",
    "        feats = np.stack([self.transform(X)])\n",
    "        phonemes = self.mdl.predict(feats)\n",
    "        trans = K.ctc_decode(phonemes, [phonemes.shape[1]], greedy=False, beam_width=2500, top_paths=5)\n",
    "        trans = trans[0][0].eval(session=K.get_session())\n",
    "        return [lang[x] for x in trans[0]]\n",
    "        # map phonemes to words\n",
    "        # use lattices\n",
    "\n",
    "        \n",
    "    \n",
    "    \n",
    "    def predict_words(self, X):\n",
    "        # stub\n",
    "        phoneme_likelihoods = self.mdl.predict(feats)\n",
    "        \n",
    "\n",
    "asr = ASR()\n",
    "phonemes = asr.predict(rec)\n",
    "\n",
    "\n",
    "\n",
    "app = flask.Flask(__name__)\n",
    "\n",
    "lang = ['tS', 'dz', 'sil', 'en', 'e', 'I', 'v', 'S', 'i', 'r', 'dzi', 'on', 'f', 'n', 'si', 'o', 't', 'k', 'l', 'ts', 's', 'x', 'z', 'ni', 'b', 'j', 'zi', 'g', 'p', 'dZ', 'Z', 'tsi', 'a', 'd', 'm', 'w', 'u']\n",
    "\n",
    "@app.route('/')\n",
    "def api_index():\n",
    "    # do this automatically\n",
    "    return json.dumps({\"endpoints\": [\n",
    "        {\"url\": \"/recognize\", \"description\": \"main endpoint for recognition of phonemes\"},\n",
    "        {\"url\": \"/probabilities\", \"description\": \"main endpoint for recognition of phonemes\"},\n",
    "        {\"url\": \"/recognize\", \"description\": \"main endpoint for recognition of phonemes\"}\n",
    "    ]})\n",
    "\n",
    "@app.route('/recognize', methods=[\"POST\"])\n",
    "def recognize():\n",
    "    if 'file' not in request.files:\n",
    "        return (\"No file in the request\", 400)\n",
    "    file = request.files['file']\n",
    "    if file.filename == '':\n",
    "        return (\"No file in the request\", 400)\n",
    "    if file:\n",
    "        filename = tempfile.mktemp()\n",
    "        try:\n",
    "            file.save(os.path.join(app.config['UPLOAD_FOLDER'], filename))\n",
    "            rec = sio.read(filename)[1].astype(np.float32) / 2**15\n",
    "            return asr.predict_phones(rec)\n",
    "        finally:\n",
    "            os.remove(filename)\n",
    "\n",
    "@app.route('/probabilities')\n",
    "def calculate_probability_matrices():\n",
    "    if 'file' not in request.files:\n",
    "        return (\"No file in the request\", 400)\n",
    "    file = request.files['file']\n",
    "    if file.filename == '':\n",
    "        return (\"No file in the request\", 400)\n",
    "    if file:\n",
    "        filename = tempfile.mktemp()\n",
    "        try:\n",
    "            file.save(os.path.join(app.config['UPLOAD_FOLDER'], filename))\n",
    "            return asr.predict(filename)\n",
    "        finally:\n",
    "            os.remove(filename)\n",
    "\n",
    "@app.route('/phoneme_map')\n",
    "def phoneme_map():\n",
    "    return json.dumps(lang)\n",
    "\n",
    "if __name__ == \"__main__\":\n",
    "    app.run(\"0.0.0.0\", 8900)\n"
   ]
  },
  {
   "cell_type": "code",
   "execution_count": 15,
   "metadata": {},
   "outputs": [],
   "source": []
  },
  {
   "cell_type": "code",
   "execution_count": 17,
   "metadata": {},
   "outputs": [],
   "source": []
  },
  {
   "cell_type": "code",
   "execution_count": 18,
   "metadata": {},
   "outputs": [
    {
     "name": "stderr",
     "output_type": "stream",
     "text": [
      "/venv/lib/python3.5/site-packages/keras/models.py:255: UserWarning: No training configuration found in save file: the model was *not* compiled. Compile it manually.\n",
      "  warnings.warn('No training configuration found in save file: '\n"
     ]
    }
   ],
   "source": []
  },
  {
   "cell_type": "code",
   "execution_count": null,
   "metadata": {},
   "outputs": [],
   "source": []
  },
  {
   "cell_type": "code",
   "execution_count": 20,
   "metadata": {},
   "outputs": [
    {
     "data": {
      "text/plain": [
       "0.9655172413793104"
      ]
     },
     "execution_count": 20,
     "metadata": {},
     "output_type": "execute_result"
    }
   ],
   "source": []
  },
  {
   "cell_type": "code",
   "execution_count": null,
   "metadata": {},
   "outputs": [],
   "source": []
  }
 ],
 "metadata": {
  "kernelspec": {
   "display_name": "Python 3",
   "language": "python",
   "name": "python3"
  },
  "language_info": {
   "codemirror_mode": {
    "name": "ipython",
    "version": 3
   },
   "file_extension": ".py",
   "mimetype": "text/x-python",
   "name": "python",
   "nbconvert_exporter": "python",
   "pygments_lexer": "ipython3",
   "version": "3.5.2"
  }
 },
 "nbformat": 4,
 "nbformat_minor": 2
}
