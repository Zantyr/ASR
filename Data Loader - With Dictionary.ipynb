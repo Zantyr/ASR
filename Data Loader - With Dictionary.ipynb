{
 "cells": [
  {
   "cell_type": "code",
   "execution_count": 1,
   "metadata": {},
   "outputs": [],
   "source": [
    "import numpy as np\n",
    "import scipy.io.wavfile as sio\n",
    "import os"
   ]
  },
  {
   "cell_type": "code",
   "execution_count": 2,
   "metadata": {},
   "outputs": [],
   "source": [
    "ROOT = \"./datasets/clarin-long/data\""
   ]
  },
  {
   "cell_type": "code",
   "execution_count": 3,
   "metadata": {},
   "outputs": [],
   "source": [
    "def get_fnames_from_clarin_corpus(ROOT):\n",
    "    rec_fnames, trans_fnames = [], []\n",
    "    for i in [x for x in os.listdir(ROOT) if os.path.isdir(os.path.join(ROOT, x))]:\n",
    "        recordings = os.path.join(ROOT, i, \"wav\")\n",
    "        transcripts = os.path.join(ROOT, i, \"lab\")\n",
    "        for fname in os.listdir(recordings):\n",
    "            core, extension = fname.split(\".\")\n",
    "            assert extension == \"wav\"\n",
    "            if os.path.isfile(os.path.join(transcripts, core + \".hlb\")):\n",
    "                rec_fnames.append(os.path.join(recordings, fname))\n",
    "                trans_fnames.append(os.path.join(transcripts, core + \".hlb\"))\n",
    "    return rec_fnames, trans_fnames\n",
    "\n",
    "rec_fnames, trans_fnames = get_fnames_from_clarin_corpus(ROOT)"
   ]
  },
  {
   "cell_type": "code",
   "execution_count": 5,
   "metadata": {},
   "outputs": [],
   "source": [
    "def get_recording_lengths(fnames):\n",
    "    lens = []\n",
    "    for f in fnames:\n",
    "        sr, data = sio.read(f)\n",
    "        assert sr == 16000\n",
    "        assert len(data.shape) == 1\n",
    "        lens.append(len(data))\n",
    "    return lens\n",
    "\n",
    "lens = get_recording_lengths(rec_fnames)"
   ]
  },
  {
   "cell_type": "code",
   "execution_count": 6,
   "metadata": {},
   "outputs": [],
   "source": [
    "sorted_lens = np.array(sorted(lens))\n",
    "step = len(sorted_lens) // 10\n",
    "delimiter_lens = [sorted_lens[step * i] for i in range(10)]\n",
    "delimiters = [step * i for i in range(11)]"
   ]
  },
  {
   "cell_type": "code",
   "execution_count": 7,
   "metadata": {},
   "outputs": [],
   "source": [
    "delimiter_lens.append(sorted_lens[-1] + 128)\n",
    "indices = []\n",
    "for i in range(10):\n",
    "    lb, hb = delimiter_lens[i], delimiter_lens[i+1]\n",
    "    indices.append((lb <= np.array(lens)) * (np.array(lens) < hb))"
   ]
  },
  {
   "cell_type": "code",
   "execution_count": 8,
   "metadata": {},
   "outputs": [
    {
     "data": {
      "text/plain": [
       "(['dz',\n",
       "  'b',\n",
       "  'zi',\n",
       "  'dZ',\n",
       "  'Z',\n",
       "  't',\n",
       "  'f',\n",
       "  'ts',\n",
       "  'i',\n",
       "  'I',\n",
       "  'o',\n",
       "  'si',\n",
       "  'j',\n",
       "  's',\n",
       "  'g',\n",
       "  'on',\n",
       "  'r',\n",
       "  'ni',\n",
       "  'sil',\n",
       "  'z',\n",
       "  'a',\n",
       "  'v',\n",
       "  'e',\n",
       "  'd',\n",
       "  'm',\n",
       "  'k',\n",
       "  'u',\n",
       "  'S',\n",
       "  'w',\n",
       "  'x',\n",
       "  'l',\n",
       "  'tsi',\n",
       "  'n',\n",
       "  'tS',\n",
       "  'dzi',\n",
       "  'p',\n",
       "  'en'],\n",
       " 423,\n",
       " 37)"
      ]
     },
     "execution_count": 8,
     "metadata": {},
     "output_type": "execute_result"
    }
   ],
   "source": [
    "def get_phones_clarin(fname):\n",
    "    with open(fname, \"r\", encoding=\"utf-8\") as f:\n",
    "        s = f.read()\n",
    "        s = s.split(\"Phoneme Phoneme\")[1]\n",
    "        s = s.split(\"\\n\\n\")[0]\n",
    "        s = [x.split(' ')[1] for x in s.split('\\n') if x.strip()]\n",
    "        s = [x.split('_')[0] for x in s]\n",
    "    return s\n",
    "\n",
    "transes = (get_phones_clarin(x) for x in trans_fnames)\n",
    "all_phones = set()\n",
    "\n",
    "def len_add_set(trans):\n",
    "    global all_phones\n",
    "    all_phones |= set(trans)\n",
    "    return len(trans)\n",
    "\n",
    "trans_lens = [len_add_set(x) for x in transes]\n",
    "list(all_phones), max(trans_lens), len(list(all_phones))"
   ]
  },
  {
   "cell_type": "code",
   "execution_count": 10,
   "metadata": {},
   "outputs": [
    {
     "name": "stdout",
     "output_type": "stream",
     "text": [
      "Saved batch 0\n",
      "Saved batch 1\n",
      "Saved batch 2\n",
      "Saved batch 3\n",
      "Saved batch 4\n",
      "Saved batch 5\n",
      "Saved batch 6\n",
      "Saved batch 7\n",
      "Saved batch 8\n",
      "Saved batch 9\n"
     ]
    }
   ],
   "source": [
    "import librosa\n",
    "\n",
    "\n",
    "phone_dict = list(all_phones)\n",
    "phone_zero = len(phone_dict)\n",
    "\n",
    "callback = lambda x: x.reshape(-1, 1)\n",
    "\n",
    "# callback = lambda x: np.log(np.abs(librosa.stft(x, n_fft=512, hop_length=128).T) ** 2) + 2e-12)\n",
    "# callback = lambda x: librosa.feature.mfcc(S=librosa.feature.melspectrogram(x, sr=16000, n_fft=512, hop_length=128), sr=16000).T\n",
    "\n",
    "BIN_SIZE = 1\n",
    "# BIN_SIZE = 257\n",
    "# BIN_SIZE = 20\n",
    "LENGTHS = [x for x in delimiter_lens[1:]]\n",
    "\n",
    "for ix, stratum in enumerate(indices):\n",
    "    ixes = np.where(stratum)[0]\n",
    "    shape = [len(ixes), LENGTHS[ix] + 4, BIN_SIZE]\n",
    "    phones_shape = [len(ixes), max([trans_lens[x] for x in ixes]) + 1]\n",
    "    specs, transes = None, None\n",
    "    specs = np.zeros(shape, np.float32)\n",
    "    transes = np.ones(phones_shape, np.uint16) * phone_zero\n",
    "    for num, rec_ix in enumerate(ixes):\n",
    "        fname = rec_fnames[rec_ix]\n",
    "        data = sio.read(fname)[1].astype(np.float32) / 2**15\n",
    "        stft = callback(data)\n",
    "        # print(stft.shape, specs.shape)\n",
    "        specs[num, :stft.shape[0], :BIN_SIZE] = stft\n",
    "        trans = get_phones_clarin(trans_fnames[rec_ix])\n",
    "        trans = np.array([phone_dict.index(x) for x in trans])\n",
    "        transes[num, :len(trans)] = trans\n",
    "    np.save(os.path.join(ROOT, \"clarin-mfcc-rec-pure-timedomain-{}\".format(ix)), specs)\n",
    "    np.save(os.path.join(ROOT, \"clarin-mfcc-trans-pure-timedomain-{}\".format(ix)), transes)\n",
    "    print(\"Saved batch\", ix)"
   ]
  },
  {
   "cell_type": "code",
   "execution_count": 139,
   "metadata": {},
   "outputs": [
    {
     "name": "stdout",
     "output_type": "stream",
     "text": [
      "\u001b[?1h\u001b=\u001b[H\u001b[2J\u001b[mtop - 10:56:44 up 1 day, 16:41,  0 users,  load average: 1.33, 1.59, 1.68\u001b[m\u001b[m\u001b[m\u001b[m\u001b[K\n",
      "Tasks:\u001b[m\u001b[m\u001b[1m   6 \u001b[m\u001b[mtotal,\u001b[m\u001b[m\u001b[1m   1 \u001b[m\u001b[mrunning,\u001b[m\u001b[m\u001b[1m   5 \u001b[m\u001b[msleeping,\u001b[m\u001b[m\u001b[1m   0 \u001b[m\u001b[mstopped,\u001b[m\u001b[m\u001b[1m   0 \u001b[m\u001b[mzombie\u001b[m\u001b[m\u001b[m\u001b[m\u001b[K\n",
      "%Cpu(s):\u001b[m\u001b[m\u001b[1m  2.1 \u001b[m\u001b[mus,\u001b[m\u001b[m\u001b[1m  0.3 \u001b[m\u001b[msy,\u001b[m\u001b[m\u001b[1m  0.0 \u001b[m\u001b[mni,\u001b[m\u001b[m\u001b[1m 97.6 \u001b[m\u001b[mid,\u001b[m\u001b[m\u001b[1m  0.0 \u001b[m\u001b[mwa,\u001b[m\u001b[m\u001b[1m  0.0 \u001b[m\u001b[mhi,\u001b[m\u001b[m\u001b[1m  0.0 \u001b[m\u001b[msi,\u001b[m\u001b[m\u001b[1m  0.0 \u001b[m\u001b[mst\u001b[m\u001b[m\u001b[m\u001b[m\u001b[K\n",
      "KiB Mem :\u001b[m\u001b[m\u001b[1m 32931504 \u001b[m\u001b[mtotal,\u001b[m\u001b[m\u001b[1m 16264216 \u001b[m\u001b[mfree,\u001b[m\u001b[m\u001b[1m   488724 \u001b[m\u001b[mused,\u001b[m\u001b[m\u001b[1m 16178564 \u001b[m\u001b[mbuff/cache\u001b[m\u001b[m\u001b[m\u001b[m\u001b[K\n",
      "KiB Swap:\u001b[m\u001b[m\u001b[1m        0 \u001b[m\u001b[mtotal,\u001b[m\u001b[m\u001b[1m        0 \u001b[m\u001b[mfree,\u001b[m\u001b[m\u001b[1m        0 \u001b[m\u001b[mused.\u001b[m\u001b[m\u001b[1m 31869656 \u001b[m\u001b[mavail Mem \u001b[m\u001b[m\u001b[m\u001b[m\u001b[K\n",
      "\u001b[K\n",
      "\u001b[7m  PID USER      PR  NI    VIRT    RES    SHR S  %CPU %MEM     TIME+ COMMAND     \u001b[m\u001b[m\u001b[K\n",
      "\u001b[m   15 root      20   0  329408  73140  13128 S   6.7  0.2   1:05.93 jupyter-no+ \u001b[m\u001b[m\u001b[K\n",
      "\u001b[m  925 root      20   0 17.912g 177708  65912 S   6.7  0.5   0:23.73 python      \u001b[m\u001b[m\u001b[K\n",
      "\u001b[m    1 root      20   0   18068   2948   2672 S   0.0  0.0   0:00.02 bash        \u001b[m\u001b[m\u001b[K\n",
      "\u001b[m 1013 root      20   0   29096  10216   5072 S   0.0  0.0   0:00.02 python      \u001b[m\u001b[m\u001b[K\n",
      "\u001b[m 1014 root      20   0    4504    740    668 S   0.0  0.0   0:00.15 sh          \u001b[m\u001b[m\u001b[K\n",
      "\u001b[m\u001b[1m 1015 root      20   0   36672   3136   2732 R   0.0  0.0   0:00.00 top         \u001b[m\u001b[m\u001b[K\n",
      "\u001b[J\u001b[?1l\u001b>\u001b[25;1H\n",
      "\u001b[K"
     ]
    }
   ],
   "source": [
    "! top"
   ]
  },
  {
   "cell_type": "code",
   "execution_count": 3,
   "metadata": {},
   "outputs": [
    {
     "data": {
      "text/plain": [
       "<function librosa.feature.spectral.mfcc>"
      ]
     },
     "execution_count": 3,
     "metadata": {},
     "output_type": "execute_result"
    }
   ],
   "source": [
    "import librosa\n",
    "librosa.feature.mfcc"
   ]
  },
  {
   "cell_type": "code",
   "execution_count": 24,
   "metadata": {},
   "outputs": [],
   "source": [
    "librosa.feature.mfcc?"
   ]
  },
  {
   "cell_type": "code",
   "execution_count": 5,
   "metadata": {},
   "outputs": [],
   "source": [
    "import numpy as np"
   ]
  },
  {
   "cell_type": "code",
   "execution_count": 16,
   "metadata": {},
   "outputs": [],
   "source": [
    "time = np.random.normal(size=[32000,])"
   ]
  },
  {
   "cell_type": "code",
   "execution_count": 15,
   "metadata": {},
   "outputs": [
    {
     "data": {
      "text/plain": [
       "(20, 63)"
      ]
     },
     "execution_count": 15,
     "metadata": {},
     "output_type": "execute_result"
    }
   ],
   "source": [
    "librosa.feature.mfcc(time, sr=16000).shape"
   ]
  },
  {
   "cell_type": "code",
   "execution_count": 23,
   "metadata": {},
   "outputs": [
    {
     "data": {
      "text/plain": [
       "(257, 251)"
      ]
     },
     "execution_count": 23,
     "metadata": {},
     "output_type": "execute_result"
    }
   ],
   "source": [
    "librosa.stft(time, n_fft=512)"
   ]
  },
  {
   "cell_type": "code",
   "execution_count": 29,
   "metadata": {},
   "outputs": [
    {
     "data": {
      "text/plain": [
       "(20, 251)"
      ]
     },
     "execution_count": 29,
     "metadata": {},
     "output_type": "execute_result"
    }
   ],
   "source": [
    "librosa.feature.mfcc(S=librosa.feature.melspectrogram(time, sr=16000, n_fft=512, hop_length=128), sr=16000).shape"
   ]
  },
  {
   "cell_type": "code",
   "execution_count": 16,
   "metadata": {},
   "outputs": [],
   "source": [
    "with open(\"/pictec/datasets/clarin-long/data/SES0001/lab/sent001.plb\", encoding=\"utf-8\") as f:\n",
    "    text = f.read()"
   ]
  },
  {
   "cell_type": "code",
   "execution_count": 18,
   "metadata": {},
   "outputs": [
    {
     "name": "stdout",
     "output_type": "stream",
     "text": [
      "#\n",
      "0 100 #\n",
      "0.52 100 sil\n",
      "0.59 100 s\n",
      "0.66 100 t\n",
      "0.66 100 sil\n",
      "0.69 100 f\n",
      "0.75 100 j\n",
      "0.8 100 e\n",
      "0.86 100 r\n",
      "0.91 100 dz\n",
      "0.98 100 a\n",
      "1.04 100 m\n",
      "1.26 100 sil\n",
      "1.38 100 Z\n",
      "1.44 100 e\n",
      "1.55 100 s\n",
      "1.59 100 e\n",
      "1.65 100 n\n",
      "1.73 100 a\n",
      "1.79 100 t\n",
      "1.83 100 o\n",
      "1.92 100 r\n",
      "2.08 100 s\n",
      "2.14 100 t\n",
      "2.19 100 a\n",
      "2.25 100 ni\n",
      "2.3 100 i\n",
      "2.42 100 s\n",
      "2.46 100 w\n",
      "2.51 100 a\n",
      "2.56 100 f\n",
      "2.56 100 sil\n",
      "2.72 100 x\n",
      "2.76 100 u\n",
      "2.83 100 s\n",
      "2.83 100 sil\n",
      "2.94 100 k\n",
      "3.0 100 o\n",
      "3.06 100 f\n",
      "3.16 100 s\n",
      "3.24 100 k\n",
      "3.4 100 i\n",
      "3.57 100 sil\n",
      "3.72 100 z\n",
      "3.72 100 sil\n",
      "3.9 100 w\n",
      "3.95 100 o\n",
      "3.95 100 sil\n",
      "4.04 100 Z\n",
      "4.1 100 I\n",
      "4.28 100 w\n",
      "4.28 100 sil\n",
      "4.45 100 si\n",
      "4.49 100 l\n",
      "4.53 100 u\n",
      "4.59 100 b\n",
      "4.66 100 o\n",
      "4.72 100 v\n",
      "4.8 100 a\n",
      "4.88 100 ni\n",
      "4.95 100 e\n",
      "5.66 100 sil\n",
      "5.72 100 p\n",
      "5.77 100 a\n",
      "5.85 100 ni\n",
      "5.88 100 e\n",
      "5.99 100 s\n",
      "6.02 100 e\n",
      "6.05 100 n\n",
      "6.11 100 a\n",
      "6.11 100 sil\n",
      "6.19 100 t\n",
      "6.25 100 o\n",
      "6.32 100 Z\n",
      "6.37 100 e\n",
      "6.45 100 g\n",
      "6.5 100 r\n",
      "6.56 100 a\n",
      "6.64 100 t\n",
      "6.68 100 u\n",
      "6.73 100 l\n",
      "6.73 100 sil\n",
      "6.82 100 u\n",
      "6.86 100 j\n",
      "6.93 100 e\n",
      "7.71 100 sil\n",
      "7.79 100 o\n",
      "7.86 100 k\n",
      "7.9 100 l\n",
      "7.97 100 a\n",
      "8.03 100 s\n",
      "8.08 100 k\n",
      "8.13 100 i\n",
      "8.25 100 s\n",
      "8.28 100 o\n",
      "8.31 100 m\n",
      "8.31 100 sil\n",
      "8.39 100 m\n",
      "8.46 100 i\n",
      "8.53 100 l\n",
      "8.59 100 e\n",
      "8.63 100 v\n",
      "8.63 100 sil\n",
      "8.68 100 i\n",
      "8.79 100 dzi\n",
      "8.89 100 a\n",
      "8.89 100 sil\n",
      "8.95 100 n\n",
      "9.1 100 e\n",
      "9.42 100 sil\n",
      "9.49 100 t\n",
      "9.52 100 I\n",
      "9.59 100 m\n",
      "9.63 100 b\n",
      "9.63 100 sil\n",
      "9.72 100 a\n",
      "9.79 100 r\n",
      "9.89 100 dzi\n",
      "9.89 100 sil\n",
      "9.93 100 e\n",
      "10.09 100 j\n",
      "10.52 100 sil\n",
      "10.67 100 Z\n",
      "10.77 100 e\n",
      "10.84 100 d\n",
      "10.89 100 o\n",
      "10.96 100 n\n",
      "11.01 100 a\n",
      "11.12 100 S\n",
      "11.16 100 e\n",
      "11.16 100 sil\n",
      "11.21 100 g\n",
      "11.27 100 o\n",
      "11.32 100 g\n",
      "11.38 100 r\n",
      "11.44 100 o\n",
      "11.49 100 n\n",
      "11.55 100 a\n",
      "11.61 100 s\n",
      "11.64 100 e\n",
      "11.64 100 sil\n",
      "11.72 100 n\n",
      "11.78 100 a\n",
      "11.85 100 t\n",
      "11.88 100 o\n",
      "11.88 100 sil\n",
      "11.91 100 r\n",
      "11.99 100 s\n",
      "12.05 100 k\n",
      "12.09 100 j\n",
      "12.12 100 e\n",
      "12.2 100 g\n",
      "12.27 100 o\n",
      "12.35 100 d\n",
      "12.4 100 o\n",
      "12.48 100 w\n",
      "12.54 100 o\n",
      "12.58 100 n\n",
      "12.58 100 sil\n",
      "12.65 100 tS\n",
      "12.7 100 a\n",
      "12.75 100 o\n",
      "12.84 100 s\n",
      "12.89 100 o\n",
      "12.96 100 b\n",
      "13.0 100 a\n",
      "13.09 100 o\n",
      "13.16 100 d\n",
      "13.2 100 u\n",
      "13.28 100 Z\n",
      "13.32 100 I\n",
      "13.32 100 sil\n",
      "13.38 100 m\n",
      "13.42 100 d\n",
      "13.46 100 o\n",
      "13.46 100 sil\n",
      "13.53 100 si\n",
      "13.58 100 f\n",
      "13.61 100 j\n",
      "13.65 100 a\n",
      "13.65 100 sil\n",
      "13.68 100 t\n",
      "13.75 100 tS\n",
      "13.79 100 e\n",
      "13.86 100 ni\n",
      "13.9 100 u\n",
      "13.9 100 sil\n",
      "14.0 100 s\n",
      "14.04 100 a\n",
      "14.11 100 m\n",
      "14.15 100 o\n",
      "14.15 100 sil\n",
      "14.21 100 Z\n",
      "14.25 100 o\n",
      "14.31 100 n\n",
      "14.35 100 d\n",
      "14.4 100 o\n",
      "14.45 100 v\n",
      "14.49 100 I\n",
      "14.49 100 sil\n",
      "14.55 100 m\n",
      "14.78325 100 sil\n",
      "\n"
     ]
    }
   ],
   "source": [
    "print(text)"
   ]
  },
  {
   "cell_type": "code",
   "execution_count": null,
   "metadata": {},
   "outputs": [],
   "source": []
  }
 ],
 "metadata": {
  "kernelspec": {
   "display_name": "Python 3",
   "language": "python",
   "name": "python3"
  },
  "language_info": {
   "codemirror_mode": {
    "name": "ipython",
    "version": 3
   },
   "file_extension": ".py",
   "mimetype": "text/x-python",
   "name": "python",
   "nbconvert_exporter": "python",
   "pygments_lexer": "ipython3",
   "version": "3.5.2"
  }
 },
 "nbformat": 4,
 "nbformat_minor": 2
}
