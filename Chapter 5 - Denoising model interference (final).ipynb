{
 "cells": [
  {
   "cell_type": "code",
   "execution_count": null,
   "metadata": {},
   "outputs": [],
   "source": [
    "import sys\n",
    "sys.path.append(\"fwks_lib\")\n",
    "\n",
    "# limit the memory usage - this actually uses very small amount of memory\n",
    "import keras.backend as K\n",
    "import tensorflow as tf\n",
    "gpu_options = tf.GPUOptions(per_process_gpu_memory_fraction=0.75)\n",
    "sess = tf.Session(config=tf.ConfigProto(gpu_options=gpu_options))\n",
    "K.set_session(sess)"
   ]
  },
  {
   "cell_type": "code",
   "execution_count": null,
   "metadata": {},
   "outputs": [],
   "source": [
    "# generate denoising models\n",
    "\n",
    "from fwks.tasks import Task, make_training_task\n",
    "from fwks.model import DenoisingModel\n",
    "from fwks import stage\n",
    "from fwks.noise_gen import Static\n",
    "\n",
    "def mk_model():\n",
    "    return DenoisingModel([\n",
    "        stage.Window(512, 256),\n",
    "        stage.LogPowerFourier(),\n",
    "        stage.RNN(width=257, depth=3),\n",
    "        stage.L2Loss()\n",
    "    ])\n",
    "\n",
    "\n",
    "# this does not generate recordings for some reason\n",
    "\n",
    "model = mk_model()\n",
    "DenoisingTask = make_training_task(Static())\n",
    "DenoisingTask.how_much = 80\n",
    "DenoisingTask.mock = True\n",
    "\n",
    "\n",
    "class MkDenoisingModel(metaclass=DenoisingTask):\n",
    "    @classmethod\n",
    "    def get_acoustic_model(self):\n",
    "        return model\n"
   ]
  },
  {
   "cell_type": "code",
   "execution_count": null,
   "metadata": {},
   "outputs": [],
   "source": [
    "MkDenoisingModel.run(\"/tmp/newcache\")"
   ]
  },
  {
   "cell_type": "code",
   "execution_count": null,
   "metadata": {},
   "outputs": [],
   "source": [
    "from fwks.tasks import AbstractModelTraining\n",
    "\n",
    "denoising_model = MkDenoisingModel.get_model()\n",
    "\n",
    "\n",
    "class BaselineMFCCModel(metaclass=AbstractModelTraining):\n",
    "    @classmethod\n",
    "    def get_acoustic_model(self):\n",
    "        return mfcc_model(denoising_model)\n",
    "\n",
    "\n",
    "class HandcraftedModel(metaclass=AbstractModelTraining):\n",
    "    @classmethod\n",
    "    def get_acoustic_model(self):\n",
    "        return handcrafted_model(denoising_model)\n",
    "\n",
    "    \n",
    "class PLCModel(metaclass=AbstractModelTraining):\n",
    "    @classmethod\n",
    "    def get_acoustic_model(self):\n",
    "        return plc_model(denoising_model)\n",
    "\n",
    "    \n",
    "class MelFBModel(metaclass=AbstractModelTraining):\n",
    "    @classmethod\n",
    "    def get_acoustic_model(self):\n",
    "        return melfilterbank(denoising_model)\n",
    "\n",
    "    \n",
    "class CochleagramModel(metaclass=AbstractModelTraining):\n",
    "    @classmethod\n",
    "    def get_acoustic_model(self):\n",
    "        return cochleagram(denoising_model)\n"
   ]
  }
 ],
 "metadata": {
  "kernelspec": {
   "display_name": "Python 3.7",
   "language": "python",
   "name": "python3"
  },
  "language_info": {
   "codemirror_mode": {
    "name": "ipython",
    "version": 3
   },
   "file_extension": ".py",
   "mimetype": "text/x-python",
   "name": "python",
   "nbconvert_exporter": "python",
   "pygments_lexer": "ipython3",
   "version": "3.7.4"
  }
 },
 "nbformat": 4,
 "nbformat_minor": 2
}
