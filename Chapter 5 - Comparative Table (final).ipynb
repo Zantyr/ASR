{
 "cells": [
  {
   "cell_type": "code",
   "execution_count": null,
   "metadata": {},
   "outputs": [],
   "source": [
    "import sys\n",
    "sys.path.append(\"fwks_lib\")"
   ]
  },
  {
   "cell_type": "code",
   "execution_count": null,
   "metadata": {
    "scrolled": false
   },
   "outputs": [],
   "source": [
    "import fwks.model as model_mod\n",
    "import fwks.noise_gen\n",
    "import fwks.stage as stage\n",
    "import fwks.miscellanea as miscellanea\n",
    "\n",
    "import keras\n",
    "\n",
    "from dissertation_model import (\n",
    "    mfcc_model,\n",
    "    handcrafted_model,\n",
    "    plc_model,\n",
    "    melfilterbank,\n",
    "    cochleagram\n",
    ")\n",
    "\n",
    "noise_generators = [\n",
    "    fwks.noise_gen.Static(),\n",
    "    fwks.noise_gen\n",
    "    fwks.noise_gen.CodecSox(\"mp3-lq\"),\n",
    "    fwks.noise_gen.CodecSox(\"amr-nb-lq\"),\n",
    "    fwks.noise_gen.CodecSox(\"amr-nb-hq\")\n",
    "]\n",
    "\n",
    "models = [\n",
    "    mfcc_model,\n",
    "    handcrafted_model,\n",
    "    plc_model,\n",
    "    melfilterbank,\n",
    "    cochleagram\n",
    "]\n",
    "\n",
    "\n",
    "tasks_noise_metric = []\n",
    "\n",
    "\n",
    "for noise_gen in noise_generators:\n",
    "    for model in models:\n",
    "        print(noise_gen, model)\n",
    "        #try:\n",
    "        if True:\n",
    "\n",
    "            StaticAB = make_ab_feature_test(\n",
    "                noise_gen=noise_gen\n",
    "            )\n",
    "\n",
    "            StaticAB.how_much = 160\n",
    "            StaticAB.mock = True\n",
    "\n",
    "            class ComparisonTask(metaclass=StaticAB):\n",
    "                @classmethod\n",
    "                def get_acoustic_model(self):\n",
    "                    return model()\n",
    "\n",
    "            ComparisonTask.run(\"/tmp/cache\")\n",
    "            tasks_noise_metric.append((noise_gen.__class__.__name__, model.__name__, ComparisonTask))\n",
    "#        except:\n",
    "#            print(\"Task failed\")\n",
    "\n",
    "        \n"
   ]
  },
  {
   "cell_type": "code",
   "execution_count": null,
   "metadata": {},
   "outputs": [],
   "source": [
    "tasks_noise_metric"
   ]
  },
  {
   "cell_type": "code",
   "execution_count": null,
   "metadata": {},
   "outputs": [],
   "source": [
    "for noise_gen in noise_generators:\n",
    "    for model in models:\n",
    "        NoisyTraining = make_training_task(\n",
    "            noise=noise_gen\n",
    "        )\n",
    "\n",
    "        NoisyTraining.how_much = 3200\n",
    "        NoisyTraining.epochs = 50\n",
    "\n",
    "        class TrainingTask(metaclass=NoisyTraining):\n",
    "            @classmethod\n",
    "            def get_acoustic_model(self):\n",
    "                return model()\n",
    "\n",
    "        TrainingTask.run(\"/tmp/cache\")\n"
   ]
  },
  {
   "cell_type": "code",
   "execution_count": null,
   "metadata": {},
   "outputs": [],
   "source": []
  }
 ],
 "metadata": {
  "kernelspec": {
   "display_name": "Python 3.7",
   "language": "python",
   "name": "python3"
  },
  "language_info": {
   "codemirror_mode": {
    "name": "ipython",
    "version": 3
   },
   "file_extension": ".py",
   "mimetype": "text/x-python",
   "name": "python",
   "nbconvert_exporter": "python",
   "pygments_lexer": "ipython3",
   "version": "3.7.4"
  }
 },
 "nbformat": 4,
 "nbformat_minor": 2
}
