{
 "cells": [
  {
   "cell_type": "code",
   "execution_count": 4,
   "metadata": {},
   "outputs": [],
   "source": [
    "import sys\n",
    "sys.path.append(\"fwks_lib\")"
   ]
  },
  {
   "cell_type": "code",
   "execution_count": 5,
   "metadata": {
    "scrolled": false
   },
   "outputs": [
    {
     "name": "stdout",
     "output_type": "stream",
     "text": [
      "<fwks.noise_gen.Static object at 0x7fb4606272b0> <function mfcc_model at 0x7fb499d6d6a8>\n",
      "Getting dataset lengths\n"
     ]
    },
    {
     "name": "stderr",
     "output_type": "stream",
     "text": [
      "13810it [00:01, 10060.98it/s]\n",
      "  2%|▎         | 4/160 [00:00<00:05, 29.50it/s]"
     ]
    },
    {
     "name": "stdout",
     "output_type": "stream",
     "text": [
      "Getting clean recordings\n"
     ]
    },
    {
     "name": "stderr",
     "output_type": "stream",
     "text": [
      "100%|██████████| 160/160 [00:08<00:00, 19.60it/s]\n",
      "  2%|▏         | 3/160 [00:00<00:06, 26.10it/s]"
     ]
    },
    {
     "name": "stdout",
     "output_type": "stream",
     "text": [
      "Applying normalization\n",
      "Featural statistics: 0.22399926452267538 +- 1.8254280769116034\n",
      "Normalized to mean and std: -0.011130702681839466 +- 0.9542155265808105\n",
      "Getting distorted recordings\n"
     ]
    },
    {
     "name": "stderr",
     "output_type": "stream",
     "text": [
      "100%|██████████| 160/160 [00:09<00:00, 17.63it/s]\n",
      "100%|██████████| 160/160 [00:00<00:00, 3917.30it/s]\n"
     ]
    },
    {
     "name": "stdout",
     "output_type": "stream",
     "text": [
      "Applying normalization\n",
      "Featural statistics: -0.1709622098051537 +- 0.2536709051646737\n",
      "Normalized to mean and std: 0.06113229691982269 +- 0.9730098843574524\n",
      "Shape of the data: (160, 838, 24)\n",
      "ManhattanMetric: 4.202429294586182 +- 0.0696997120976448\n",
      "EuclidMetric: 8.12985897064209 +- 0.47820451855659485\n",
      "CosineMetric: -0.5308055877685547 +- 0.15601494908332825\n",
      "============================================================\n",
      "Task done!\n",
      "\n",
      "<fwks.noise_gen.Static object at 0x7fb4606272b0> <function handcrafted_model at 0x7fb484154c80>\n",
      "Getting dataset lengths\n"
     ]
    },
    {
     "name": "stderr",
     "output_type": "stream",
     "text": [
      "13810it [00:01, 9922.00it/s]\n",
      "  1%|          | 1/160 [00:00<00:26,  5.98it/s]"
     ]
    },
    {
     "name": "stdout",
     "output_type": "stream",
     "text": [
      "Getting clean recordings\n"
     ]
    },
    {
     "name": "stderr",
     "output_type": "stream",
     "text": [
      "100%|██████████| 160/160 [00:40<00:00,  3.99it/s]\n",
      "  1%|          | 1/160 [00:00<00:26,  5.93it/s]"
     ]
    },
    {
     "name": "stdout",
     "output_type": "stream",
     "text": [
      "Applying normalization\n",
      "Featural statistics: 552.7444747214009 +- 840.3931920852941\n",
      "Normalized to mean and std: -0.06001796945929527 +- 0.9719126224517822\n",
      "Getting distorted recordings\n"
     ]
    },
    {
     "name": "stderr",
     "output_type": "stream",
     "text": [
      "100%|██████████| 160/160 [00:40<00:00,  3.97it/s]\n",
      "100%|██████████| 160/160 [00:00<00:00, 5871.14it/s]\n"
     ]
    },
    {
     "name": "stdout",
     "output_type": "stream",
     "text": [
      "Applying normalization\n",
      "Featural statistics: 0.009480044041115186 +- 0.9717807867335193\n",
      "Normalized to mean and std: -0.0008901894325390458 +- 0.9532831311225891\n",
      "Shape of the data: (160, 833, 14)\n",
      "ManhattanMetric: 1.191943883895874 +- 0.05827443674206734\n",
      "EuclidMetric: 0.5964528918266296 +- 0.06330001354217529\n",
      "CosineMetric: 0.9923421740531921 +- 0.0014088944299146533\n",
      "============================================================\n",
      "Task done!\n",
      "\n",
      "<fwks.noise_gen.Static object at 0x7fb4606272b0> <function plc_model at 0x7fb55012a2f0>\n",
      "Getting dataset lengths\n"
     ]
    },
    {
     "name": "stderr",
     "output_type": "stream",
     "text": [
      "13810it [00:01, 9986.86it/s]\n",
      "  0%|          | 0/160 [00:00<?, ?it/s]"
     ]
    },
    {
     "name": "stdout",
     "output_type": "stream",
     "text": [
      "Getting clean recordings\n"
     ]
    },
    {
     "name": "stderr",
     "output_type": "stream",
     "text": [
      "100%|██████████| 160/160 [02:22<00:00,  1.12it/s]\n",
      "  0%|          | 0/160 [00:00<?, ?it/s]"
     ]
    },
    {
     "name": "stdout",
     "output_type": "stream",
     "text": [
      "Applying normalization\n",
      "Featural statistics: 0.04026287336804273 +- 0.804409636501388\n",
      "Normalized to mean and std: -0.0045401304960250854 +- 0.9536727666854858\n",
      "Getting distorted recordings\n"
     ]
    },
    {
     "name": "stderr",
     "output_type": "stream",
     "text": [
      "100%|██████████| 160/160 [02:31<00:00,  1.06it/s]\n",
      "100%|██████████| 160/160 [00:00<00:00, 5206.84it/s]\n"
     ]
    },
    {
     "name": "stdout",
     "output_type": "stream",
     "text": [
      "Applying normalization\n",
      "Featural statistics: -0.04229241221910094 +- 0.06640564938597783\n",
      "Normalized to mean and std: 0.05776946619153023 +- 0.970948338508606\n",
      "Shape of the data: (160, 838, 24)\n",
      "ManhattanMetric: 4.779196739196777 +- 0.2260323017835617\n",
      "EuclidMetric: 6.171842575073242 +- 0.7943639159202576\n",
      "CosineMetric: 0.040036607533693314 +- 0.019220639020204544\n",
      "============================================================\n",
      "Task done!\n",
      "\n",
      "<fwks.noise_gen.Static object at 0x7fb4606272b0> <function melfilterbank at 0x7fb484154f28>\n",
      "Getting dataset lengths\n"
     ]
    },
    {
     "name": "stderr",
     "output_type": "stream",
     "text": [
      "13810it [00:01, 9747.09it/s]\n",
      " 16%|█▋        | 26/160 [00:00<00:00, 251.51it/s]"
     ]
    },
    {
     "name": "stdout",
     "output_type": "stream",
     "text": [
      "Getting clean recordings\n"
     ]
    },
    {
     "name": "stderr",
     "output_type": "stream",
     "text": [
      "100%|██████████| 160/160 [00:00<00:00, 167.81it/s]\n",
      "  9%|▉         | 14/160 [00:00<00:01, 134.04it/s]"
     ]
    },
    {
     "name": "stdout",
     "output_type": "stream",
     "text": [
      "Applying normalization\n",
      "Featural statistics: -8.753677518374204e-07 +- 0.001917321182348356\n",
      "Normalized to mean and std: 4.141703902860172e-05 +- 0.9535651803016663\n",
      "Getting distorted recordings\n"
     ]
    },
    {
     "name": "stderr",
     "output_type": "stream",
     "text": [
      "100%|██████████| 160/160 [00:02<00:00, 76.89it/s]\n",
      "100%|██████████| 160/160 [00:00<00:00, 2722.62it/s]\n"
     ]
    },
    {
     "name": "stdout",
     "output_type": "stream",
     "text": [
      "Applying normalization\n",
      "Featural statistics: 0.0004434601003174245 +- 1.5853561977255342\n",
      "Normalized to mean and std: -2.537199907237664e-05 +- 0.9535647630691528\n",
      "Shape of the data: (160, 838, 64)\n",
      "ManhattanMetric: 6.424055576324463 +- 0.17508704960346222\n",
      "EuclidMetric: 6.747262477874756 +- 0.3624965250492096\n",
      "CosineMetric: 0.32053378224372864 +- 0.09873718023300171\n",
      "============================================================\n",
      "Task done!\n",
      "\n",
      "<fwks.noise_gen.Static object at 0x7fb4606272b0> <function cochleagram at 0x7fb499d6d598>\n"
     ]
    },
    {
     "name": "stderr",
     "output_type": "stream",
     "text": [
      "\r",
      "0it [00:00, ?it/s]"
     ]
    },
    {
     "name": "stdout",
     "output_type": "stream",
     "text": [
      "Getting dataset lengths\n"
     ]
    },
    {
     "name": "stderr",
     "output_type": "stream",
     "text": [
      "13810it [00:01, 9769.00it/s]\n",
      "  1%|          | 1/160 [00:00<00:16,  9.58it/s]"
     ]
    },
    {
     "name": "stdout",
     "output_type": "stream",
     "text": [
      "Getting clean recordings\n"
     ]
    },
    {
     "name": "stderr",
     "output_type": "stream",
     "text": [
      "100%|██████████| 160/160 [00:25<00:00,  6.37it/s]\n",
      "  1%|          | 1/160 [00:00<00:21,  7.53it/s]"
     ]
    },
    {
     "name": "stdout",
     "output_type": "stream",
     "text": [
      "Applying normalization\n",
      "Featural statistics: 7.9955842596797435 +- 1.893083788566453\n",
      "Normalized to mean and std: -0.3849456310272217 +- 1.5448341369628906\n",
      "Getting distorted recordings\n"
     ]
    },
    {
     "name": "stderr",
     "output_type": "stream",
     "text": [
      "100%|██████████| 160/160 [00:25<00:00,  6.30it/s]\n",
      "100%|██████████| 160/160 [00:00<00:00, 4635.33it/s]\n"
     ]
    },
    {
     "name": "stdout",
     "output_type": "stream",
     "text": [
      "Applying normalization\n",
      "Featural statistics: -1.9653872692635515 +- 0.30068870424322425\n",
      "Normalized to mean and std: 0.5957311987876892 +- 2.1089868545532227\n",
      "Shape of the data: (160, 834, 36)\n",
      "ManhattanMetric: 6.680264949798584 +- 0.15998569130897522\n",
      "EuclidMetric: 8.879971504211426 +- 0.34911033511161804\n",
      "CosineMetric: -0.16589763760566711 +- 0.12254904955625534\n",
      "============================================================\n",
      "Task done!\n",
      "\n",
      "<fwks.noise_gen.CodecSox object at 0x7fb4606355f8> <function mfcc_model at 0x7fb499d6d6a8>\n",
      "Getting dataset lengths\n"
     ]
    },
    {
     "name": "stderr",
     "output_type": "stream",
     "text": [
      "13810it [00:01, 9720.42it/s]\n",
      "  2%|▎         | 4/160 [00:00<00:05, 29.57it/s]"
     ]
    },
    {
     "name": "stdout",
     "output_type": "stream",
     "text": [
      "Getting clean recordings\n"
     ]
    },
    {
     "name": "stderr",
     "output_type": "stream",
     "text": [
      "100%|██████████| 160/160 [00:08<00:00, 19.52it/s]\n",
      "  1%|          | 1/160 [00:00<00:24,  6.46it/s]"
     ]
    },
    {
     "name": "stdout",
     "output_type": "stream",
     "text": [
      "Applying normalization\n",
      "Featural statistics: 0.22399926452267538 +- 1.8254280769116034\n",
      "Normalized to mean and std: -0.011130702681839466 +- 0.9542155265808105\n",
      "Getting distorted recordings\n"
     ]
    },
    {
     "name": "stderr",
     "output_type": "stream",
     "text": [
      "100%|██████████| 160/160 [00:34<00:00,  4.69it/s]\n",
      "100%|██████████| 160/160 [00:00<00:00, 4199.08it/s]\n"
     ]
    },
    {
     "name": "stdout",
     "output_type": "stream",
     "text": [
      "Applying normalization\n",
      "Featural statistics: -0.795646395272659 +- 2.7758133348912466\n",
      "Normalized to mean and std: 0.025999831035733223 +- 0.9571114182472229\n",
      "Shape of the data: (160, 838, 24)\n",
      "ManhattanMetric: 4.0788164138793945 +- 0.060761742293834686\n",
      "EuclidMetric: 8.570459365844727 +- 0.43491268157958984\n",
      "CosineMetric: -0.6758157014846802 +- 0.14819157123565674\n",
      "============================================================\n",
      "Task done!\n",
      "\n",
      "<fwks.noise_gen.CodecSox object at 0x7fb4606355f8> <function handcrafted_model at 0x7fb484154c80>\n",
      "Getting dataset lengths\n"
     ]
    },
    {
     "name": "stderr",
     "output_type": "stream",
     "text": [
      "13810it [00:01, 9712.13it/s]\n",
      "  1%|          | 1/160 [00:00<00:26,  5.98it/s]"
     ]
    },
    {
     "name": "stdout",
     "output_type": "stream",
     "text": [
      "Getting clean recordings\n"
     ]
    },
    {
     "name": "stderr",
     "output_type": "stream",
     "text": [
      "100%|██████████| 160/160 [00:40<00:00,  3.99it/s]\n",
      "  0%|          | 0/160 [00:00<?, ?it/s]"
     ]
    },
    {
     "name": "stdout",
     "output_type": "stream",
     "text": [
      "Applying normalization\n",
      "Featural statistics: 552.7444747214009 +- 840.3931920852941\n",
      "Normalized to mean and std: -0.06001796945929527 +- 0.9719126224517822\n",
      "Getting distorted recordings\n"
     ]
    },
    {
     "name": "stderr",
     "output_type": "stream",
     "text": [
      "  1%|          | 1/160 [00:00<00:51,  3.10it/s]/venv/lib/python3.5/site-packages/pyAudioAnalysis/audioFeatureExtraction.py:57: RuntimeWarning: invalid value encountered in true_divide\n",
      "  Xt = Xt / Xt.max()\n",
      "  3%|▎         | 5/160 [00:01<00:50,  3.06it/s]/venv/lib/python3.5/site-packages/pyAudioAnalysis/audioFeatureExtraction.py:57: RuntimeWarning: invalid value encountered in true_divide\n",
      "  Xt = Xt / Xt.max()\n",
      "  5%|▌         | 8/160 [00:02<00:53,  2.87it/s]/venv/lib/python3.5/site-packages/pyAudioAnalysis/audioFeatureExtraction.py:57: RuntimeWarning: invalid value encountered in true_divide\n",
      "  Xt = Xt / Xt.max()\n",
      "  7%|▋         | 11/160 [00:03<00:51,  2.90it/s]/venv/lib/python3.5/site-packages/pyAudioAnalysis/audioFeatureExtraction.py:57: RuntimeWarning: invalid value encountered in true_divide\n",
      "  Xt = Xt / Xt.max()\n",
      "  8%|▊         | 12/160 [00:04<00:51,  2.88it/s]/venv/lib/python3.5/site-packages/pyAudioAnalysis/audioFeatureExtraction.py:57: RuntimeWarning: invalid value encountered in true_divide\n",
      "  Xt = Xt / Xt.max()\n",
      " 11%|█▏        | 18/160 [00:06<00:54,  2.61it/s]/venv/lib/python3.5/site-packages/pyAudioAnalysis/audioFeatureExtraction.py:57: RuntimeWarning: invalid value encountered in true_divide\n",
      "  Xt = Xt / Xt.max()\n",
      " 14%|█▍        | 23/160 [00:08<00:52,  2.59it/s]/venv/lib/python3.5/site-packages/pyAudioAnalysis/audioFeatureExtraction.py:57: RuntimeWarning: invalid value encountered in true_divide\n",
      "  Xt = Xt / Xt.max()\n",
      " 16%|█▋        | 26/160 [00:09<00:51,  2.61it/s]/venv/lib/python3.5/site-packages/pyAudioAnalysis/audioFeatureExtraction.py:57: RuntimeWarning: invalid value encountered in true_divide\n",
      "  Xt = Xt / Xt.max()\n",
      " 22%|██▏       | 35/160 [00:12<00:47,  2.63it/s]/venv/lib/python3.5/site-packages/pyAudioAnalysis/audioFeatureExtraction.py:57: RuntimeWarning: invalid value encountered in true_divide\n",
      "  Xt = Xt / Xt.max()\n",
      " 22%|██▎       | 36/160 [00:13<00:47,  2.62it/s]/venv/lib/python3.5/site-packages/pyAudioAnalysis/audioFeatureExtraction.py:57: RuntimeWarning: invalid value encountered in true_divide\n",
      "  Xt = Xt / Xt.max()\n",
      " 24%|██▍       | 39/160 [00:14<00:46,  2.62it/s]/venv/lib/python3.5/site-packages/pyAudioAnalysis/audioFeatureExtraction.py:57: RuntimeWarning: invalid value encountered in true_divide\n",
      "  Xt = Xt / Xt.max()\n",
      " 25%|██▌       | 40/160 [00:14<00:46,  2.59it/s]/venv/lib/python3.5/site-packages/pyAudioAnalysis/audioFeatureExtraction.py:57: RuntimeWarning: invalid value encountered in true_divide\n",
      "  Xt = Xt / Xt.max()\n",
      " 29%|██▉       | 47/160 [00:17<00:45,  2.51it/s]/venv/lib/python3.5/site-packages/pyAudioAnalysis/audioFeatureExtraction.py:57: RuntimeWarning: invalid value encountered in true_divide\n",
      "  Xt = Xt / Xt.max()\n",
      " 32%|███▏      | 51/160 [00:19<00:42,  2.56it/s]/venv/lib/python3.5/site-packages/pyAudioAnalysis/audioFeatureExtraction.py:57: RuntimeWarning: invalid value encountered in true_divide\n",
      "  Xt = Xt / Xt.max()\n",
      " 33%|███▎      | 53/160 [00:19<00:42,  2.55it/s]/venv/lib/python3.5/site-packages/pyAudioAnalysis/audioFeatureExtraction.py:57: RuntimeWarning: invalid value encountered in true_divide\n",
      "  Xt = Xt / Xt.max()\n",
      " 36%|███▋      | 58/160 [00:21<00:40,  2.51it/s]/venv/lib/python3.5/site-packages/pyAudioAnalysis/audioFeatureExtraction.py:57: RuntimeWarning: invalid value encountered in true_divide\n",
      "  Xt = Xt / Xt.max()\n",
      " 40%|████      | 64/160 [00:24<00:39,  2.45it/s]/venv/lib/python3.5/site-packages/pyAudioAnalysis/audioFeatureExtraction.py:57: RuntimeWarning: invalid value encountered in true_divide\n",
      "  Xt = Xt / Xt.max()\n",
      " 42%|████▏     | 67/160 [00:25<00:37,  2.47it/s]/venv/lib/python3.5/site-packages/pyAudioAnalysis/audioFeatureExtraction.py:57: RuntimeWarning: invalid value encountered in true_divide\n",
      "  Xt = Xt / Xt.max()\n",
      " 45%|████▌     | 72/160 [00:27<00:35,  2.47it/s]/venv/lib/python3.5/site-packages/pyAudioAnalysis/audioFeatureExtraction.py:57: RuntimeWarning: invalid value encountered in true_divide\n",
      "  Xt = Xt / Xt.max()\n",
      " 47%|████▋     | 75/160 [00:28<00:34,  2.45it/s]/venv/lib/python3.5/site-packages/pyAudioAnalysis/audioFeatureExtraction.py:57: RuntimeWarning: invalid value encountered in true_divide\n",
      "  Xt = Xt / Xt.max()\n",
      " 48%|████▊     | 76/160 [00:29<00:34,  2.45it/s]/venv/lib/python3.5/site-packages/pyAudioAnalysis/audioFeatureExtraction.py:57: RuntimeWarning: invalid value encountered in true_divide\n",
      "  Xt = Xt / Xt.max()\n",
      " 48%|████▊     | 77/160 [00:29<00:34,  2.39it/s]/venv/lib/python3.5/site-packages/pyAudioAnalysis/audioFeatureExtraction.py:57: RuntimeWarning: invalid value encountered in true_divide\n",
      "  Xt = Xt / Xt.max()\n",
      " 49%|████▉     | 78/160 [00:30<00:33,  2.42it/s]/venv/lib/python3.5/site-packages/pyAudioAnalysis/audioFeatureExtraction.py:57: RuntimeWarning: invalid value encountered in true_divide\n",
      "  Xt = Xt / Xt.max()\n",
      " 53%|█████▎    | 85/160 [00:33<00:31,  2.35it/s]/venv/lib/python3.5/site-packages/pyAudioAnalysis/audioFeatureExtraction.py:57: RuntimeWarning: invalid value encountered in true_divide\n",
      "  Xt = Xt / Xt.max()\n",
      " 54%|█████▍    | 86/160 [00:33<00:31,  2.36it/s]/venv/lib/python3.5/site-packages/pyAudioAnalysis/audioFeatureExtraction.py:57: RuntimeWarning: invalid value encountered in true_divide\n",
      "  Xt = Xt / Xt.max()\n",
      " 55%|█████▌    | 88/160 [00:34<00:30,  2.34it/s]/venv/lib/python3.5/site-packages/pyAudioAnalysis/audioFeatureExtraction.py:57: RuntimeWarning: invalid value encountered in true_divide\n",
      "  Xt = Xt / Xt.max()\n",
      " 56%|█████▌    | 89/160 [00:34<00:30,  2.32it/s]/venv/lib/python3.5/site-packages/pyAudioAnalysis/audioFeatureExtraction.py:57: RuntimeWarning: invalid value encountered in true_divide\n",
      "  Xt = Xt / Xt.max()\n",
      " 57%|█████▋    | 91/160 [00:35<00:29,  2.34it/s]/venv/lib/python3.5/site-packages/pyAudioAnalysis/audioFeatureExtraction.py:57: RuntimeWarning: invalid value encountered in true_divide\n",
      "  Xt = Xt / Xt.max()\n",
      " 58%|█████▊    | 93/160 [00:36<00:28,  2.38it/s]/venv/lib/python3.5/site-packages/pyAudioAnalysis/audioFeatureExtraction.py:57: RuntimeWarning: invalid value encountered in true_divide\n",
      "  Xt = Xt / Xt.max()\n",
      " 60%|██████    | 96/160 [00:37<00:26,  2.41it/s]/venv/lib/python3.5/site-packages/pyAudioAnalysis/audioFeatureExtraction.py:57: RuntimeWarning: invalid value encountered in true_divide\n",
      "  Xt = Xt / Xt.max()\n",
      " 62%|██████▏   | 99/160 [00:38<00:25,  2.39it/s]/venv/lib/python3.5/site-packages/pyAudioAnalysis/audioFeatureExtraction.py:57: RuntimeWarning: invalid value encountered in true_divide\n",
      "  Xt = Xt / Xt.max()\n",
      " 64%|██████▍   | 102/160 [00:40<00:24,  2.36it/s]/venv/lib/python3.5/site-packages/pyAudioAnalysis/audioFeatureExtraction.py:57: RuntimeWarning: invalid value encountered in true_divide\n",
      "  Xt = Xt / Xt.max()\n",
      " 64%|██████▍   | 103/160 [00:40<00:24,  2.37it/s]/venv/lib/python3.5/site-packages/pyAudioAnalysis/audioFeatureExtraction.py:57: RuntimeWarning: invalid value encountered in true_divide\n",
      "  Xt = Xt / Xt.max()\n",
      " 69%|██████▉   | 111/160 [00:44<00:21,  2.31it/s]/venv/lib/python3.5/site-packages/pyAudioAnalysis/audioFeatureExtraction.py:57: RuntimeWarning: invalid value encountered in true_divide\n",
      "  Xt = Xt / Xt.max()\n",
      " 73%|███████▎  | 117/160 [00:46<00:17,  2.39it/s]/venv/lib/python3.5/site-packages/pyAudioAnalysis/audioFeatureExtraction.py:57: RuntimeWarning: invalid value encountered in true_divide\n",
      "  Xt = Xt / Xt.max()\n",
      " 75%|███████▌  | 120/160 [00:47<00:17,  2.29it/s]/venv/lib/python3.5/site-packages/pyAudioAnalysis/audioFeatureExtraction.py:57: RuntimeWarning: invalid value encountered in true_divide\n",
      "  Xt = Xt / Xt.max()\n",
      " 78%|███████▊  | 125/160 [00:50<00:14,  2.36it/s]/venv/lib/python3.5/site-packages/pyAudioAnalysis/audioFeatureExtraction.py:57: RuntimeWarning: invalid value encountered in true_divide\n",
      "  Xt = Xt / Xt.max()\n",
      " 79%|███████▉  | 126/160 [00:50<00:14,  2.36it/s]/venv/lib/python3.5/site-packages/pyAudioAnalysis/audioFeatureExtraction.py:57: RuntimeWarning: invalid value encountered in true_divide\n",
      "  Xt = Xt / Xt.max()\n",
      " 82%|████████▏ | 131/160 [00:52<00:12,  2.30it/s]/venv/lib/python3.5/site-packages/pyAudioAnalysis/audioFeatureExtraction.py:57: RuntimeWarning: invalid value encountered in true_divide\n",
      "  Xt = Xt / Xt.max()\n",
      " 86%|████████▌ | 137/160 [00:55<00:10,  2.28it/s]/venv/lib/python3.5/site-packages/pyAudioAnalysis/audioFeatureExtraction.py:57: RuntimeWarning: invalid value encountered in true_divide\n",
      "  Xt = Xt / Xt.max()\n"
     ]
    },
    {
     "name": "stderr",
     "output_type": "stream",
     "text": [
      " 88%|████████▊ | 140/160 [00:56<00:08,  2.30it/s]/venv/lib/python3.5/site-packages/pyAudioAnalysis/audioFeatureExtraction.py:57: RuntimeWarning: invalid value encountered in true_divide\n",
      "  Xt = Xt / Xt.max()\n",
      " 89%|████████▉ | 142/160 [00:57<00:07,  2.32it/s]/venv/lib/python3.5/site-packages/pyAudioAnalysis/audioFeatureExtraction.py:57: RuntimeWarning: invalid value encountered in true_divide\n",
      "  Xt = Xt / Xt.max()\n",
      " 91%|█████████ | 145/160 [00:58<00:06,  2.33it/s]/venv/lib/python3.5/site-packages/pyAudioAnalysis/audioFeatureExtraction.py:57: RuntimeWarning: invalid value encountered in true_divide\n",
      "  Xt = Xt / Xt.max()\n",
      " 96%|█████████▋| 154/160 [01:02<00:02,  2.25it/s]/venv/lib/python3.5/site-packages/pyAudioAnalysis/audioFeatureExtraction.py:57: RuntimeWarning: invalid value encountered in true_divide\n",
      "  Xt = Xt / Xt.max()\n",
      " 97%|█████████▋| 155/160 [01:03<00:02,  2.27it/s]/venv/lib/python3.5/site-packages/pyAudioAnalysis/audioFeatureExtraction.py:57: RuntimeWarning: invalid value encountered in true_divide\n",
      "  Xt = Xt / Xt.max()\n",
      " 98%|█████████▊| 156/160 [01:03<00:01,  2.28it/s]/venv/lib/python3.5/site-packages/pyAudioAnalysis/audioFeatureExtraction.py:57: RuntimeWarning: invalid value encountered in true_divide\n",
      "  Xt = Xt / Xt.max()\n",
      "100%|██████████| 160/160 [01:05<00:00,  2.45it/s]\n",
      "100%|██████████| 160/160 [00:00<00:00, 5980.92it/s]\n"
     ]
    },
    {
     "name": "stdout",
     "output_type": "stream",
     "text": [
      "Applying normalization\n",
      "Featural statistics: nan +- nan\n",
      "Normalized to mean and std: nan +- nan\n",
      "Shape of the data: (160, 833, 14)\n",
      "ManhattanMetric: nan +- nan\n",
      "EuclidMetric: nan +- nan\n",
      "CosineMetric: nan +- nan\n",
      "============================================================\n",
      "Task done!\n",
      "\n",
      "<fwks.noise_gen.CodecSox object at 0x7fb4606355f8> <function plc_model at 0x7fb55012a2f0>\n",
      "Getting dataset lengths\n"
     ]
    },
    {
     "name": "stderr",
     "output_type": "stream",
     "text": [
      "13810it [00:01, 9709.84it/s]\n",
      "  0%|          | 0/160 [00:00<?, ?it/s]"
     ]
    },
    {
     "name": "stdout",
     "output_type": "stream",
     "text": [
      "Getting clean recordings\n"
     ]
    },
    {
     "name": "stderr",
     "output_type": "stream",
     "text": [
      "100%|██████████| 160/160 [02:21<00:00,  1.13it/s]\n",
      "  0%|          | 0/160 [00:00<?, ?it/s]"
     ]
    },
    {
     "name": "stdout",
     "output_type": "stream",
     "text": [
      "Applying normalization\n",
      "Featural statistics: 0.04026287336804273 +- 0.804409636501388\n",
      "Normalized to mean and std: -0.0045401304960250854 +- 0.9536727666854858\n",
      "Getting distorted recordings\n"
     ]
    },
    {
     "name": "stderr",
     "output_type": "stream",
     "text": [
      "100%|██████████| 160/160 [02:50<00:00,  1.07s/it]\n",
      "100%|██████████| 160/160 [00:00<00:00, 5146.03it/s]\n"
     ]
    },
    {
     "name": "stdout",
     "output_type": "stream",
     "text": [
      "Applying normalization\n",
      "Featural statistics: 6.564600406160443e-05 +- 3.5705127140665334\n",
      "Normalized to mean and std: -1.670693677624513e-06 +- 0.9535647034645081\n",
      "Shape of the data: (160, 838, 24)\n",
      "ManhattanMetric: 3.88030743598938 +- 0.43914857506752014\n",
      "EuclidMetric: 4.312654972076416 +- 1.1909898519515991\n",
      "CosineMetric: 0.5297879576683044 +- 0.06320831924676895\n",
      "============================================================\n",
      "Task done!\n",
      "\n",
      "<fwks.noise_gen.CodecSox object at 0x7fb4606355f8> <function melfilterbank at 0x7fb484154f28>\n",
      "Getting dataset lengths\n"
     ]
    },
    {
     "name": "stderr",
     "output_type": "stream",
     "text": [
      "13810it [00:01, 9788.50it/s]\n",
      " 18%|█▊        | 28/160 [00:00<00:00, 279.62it/s]"
     ]
    },
    {
     "name": "stdout",
     "output_type": "stream",
     "text": [
      "Getting clean recordings\n"
     ]
    },
    {
     "name": "stderr",
     "output_type": "stream",
     "text": [
      "100%|██████████| 160/160 [00:00<00:00, 240.36it/s]\n",
      "  0%|          | 0/160 [00:00<?, ?it/s]"
     ]
    },
    {
     "name": "stdout",
     "output_type": "stream",
     "text": [
      "Applying normalization\n",
      "Featural statistics: -8.753677518374204e-07 +- 0.001917321182348356\n",
      "Normalized to mean and std: 4.141703902860172e-05 +- 0.9535651803016663\n",
      "Getting distorted recordings\n"
     ]
    },
    {
     "name": "stderr",
     "output_type": "stream",
     "text": [
      "100%|██████████| 160/160 [00:27<00:00,  5.84it/s]\n",
      "100%|██████████| 160/160 [00:00<00:00, 3594.01it/s]\n"
     ]
    },
    {
     "name": "stdout",
     "output_type": "stream",
     "text": [
      "Applying normalization\n",
      "Featural statistics: -6.748358408921368 +- 31117.04604972543\n",
      "Normalized to mean and std: 1.9677263480843976e-05 +- 0.9535648226737976\n",
      "Shape of the data: (160, 838, 64)\n",
      "ManhattanMetric: 5.732194423675537 +- 1.2774122953414917\n",
      "EuclidMetric: 7.393755912780762 +- 3.0458436012268066\n",
      "CosineMetric: 0.01296832412481308 +- 0.05480939894914627\n",
      "============================================================\n",
      "Task done!\n",
      "\n",
      "<fwks.noise_gen.CodecSox object at 0x7fb4606355f8> <function cochleagram at 0x7fb499d6d598>\n"
     ]
    },
    {
     "name": "stderr",
     "output_type": "stream",
     "text": [
      "\r",
      "0it [00:00, ?it/s]"
     ]
    },
    {
     "name": "stdout",
     "output_type": "stream",
     "text": [
      "Getting dataset lengths\n"
     ]
    },
    {
     "name": "stderr",
     "output_type": "stream",
     "text": [
      "13810it [00:01, 9914.26it/s]\n",
      "  1%|▏         | 2/160 [00:00<00:15, 10.23it/s]"
     ]
    },
    {
     "name": "stdout",
     "output_type": "stream",
     "text": [
      "Getting clean recordings\n"
     ]
    },
    {
     "name": "stderr",
     "output_type": "stream",
     "text": [
      "100%|██████████| 160/160 [00:22<00:00,  6.99it/s]\n",
      "  0%|          | 0/160 [00:00<?, ?it/s]"
     ]
    },
    {
     "name": "stdout",
     "output_type": "stream",
     "text": [
      "Applying normalization\n",
      "Featural statistics: 7.9955842596797435 +- 1.893083788566453\n",
      "Normalized to mean and std: -0.3849456310272217 +- 1.5448341369628906\n",
      "Getting distorted recordings\n"
     ]
    },
    {
     "name": "stderr",
     "output_type": "stream",
     "text": [
      "  1%|          | 1/160 [00:00<00:42,  3.74it/s]fwks_lib/fwks/stage/stage_misc.py:27: RuntimeWarning: divide by zero encountered in log\n",
      "  return (-1 if self.negative else 1) * np.log(np.abs(recording))\n",
      "  3%|▎         | 5/160 [00:01<00:42,  3.66it/s]fwks_lib/fwks/stage/stage_misc.py:27: RuntimeWarning: divide by zero encountered in log\n",
      "  return (-1 if self.negative else 1) * np.log(np.abs(recording))\n",
      "  5%|▌         | 8/160 [00:02<00:40,  3.78it/s]fwks_lib/fwks/stage/stage_misc.py:27: RuntimeWarning: divide by zero encountered in log\n",
      "  return (-1 if self.negative else 1) * np.log(np.abs(recording))\n",
      "  7%|▋         | 11/160 [00:02<00:39,  3.80it/s]fwks_lib/fwks/stage/stage_misc.py:27: RuntimeWarning: divide by zero encountered in log\n",
      "  return (-1 if self.negative else 1) * np.log(np.abs(recording))\n",
      "  8%|▊         | 12/160 [00:03<00:39,  3.77it/s]fwks_lib/fwks/stage/stage_misc.py:27: RuntimeWarning: divide by zero encountered in log\n",
      "  return (-1 if self.negative else 1) * np.log(np.abs(recording))\n",
      " 11%|█▏        | 18/160 [00:04<00:40,  3.49it/s]fwks_lib/fwks/stage/stage_misc.py:27: RuntimeWarning: divide by zero encountered in log\n",
      "  return (-1 if self.negative else 1) * np.log(np.abs(recording))\n",
      " 14%|█▍        | 23/160 [00:06<00:40,  3.41it/s]fwks_lib/fwks/stage/stage_misc.py:27: RuntimeWarning: divide by zero encountered in log\n",
      "  return (-1 if self.negative else 1) * np.log(np.abs(recording))\n",
      " 16%|█▋        | 26/160 [00:07<00:40,  3.32it/s]fwks_lib/fwks/stage/stage_misc.py:27: RuntimeWarning: divide by zero encountered in log\n",
      "  return (-1 if self.negative else 1) * np.log(np.abs(recording))\n",
      " 22%|██▏       | 35/160 [00:09<00:37,  3.30it/s]fwks_lib/fwks/stage/stage_misc.py:27: RuntimeWarning: divide by zero encountered in log\n",
      "  return (-1 if self.negative else 1) * np.log(np.abs(recording))\n",
      " 22%|██▎       | 36/160 [00:10<00:38,  3.22it/s]fwks_lib/fwks/stage/stage_misc.py:27: RuntimeWarning: divide by zero encountered in log\n",
      "  return (-1 if self.negative else 1) * np.log(np.abs(recording))\n",
      " 24%|██▍       | 39/160 [00:11<00:37,  3.27it/s]fwks_lib/fwks/stage/stage_misc.py:27: RuntimeWarning: divide by zero encountered in log\n",
      "  return (-1 if self.negative else 1) * np.log(np.abs(recording))\n",
      " 25%|██▌       | 40/160 [00:11<00:36,  3.29it/s]fwks_lib/fwks/stage/stage_misc.py:27: RuntimeWarning: divide by zero encountered in log\n",
      "  return (-1 if self.negative else 1) * np.log(np.abs(recording))\n",
      " 29%|██▉       | 47/160 [00:13<00:34,  3.30it/s]fwks_lib/fwks/stage/stage_misc.py:27: RuntimeWarning: divide by zero encountered in log\n",
      "  return (-1 if self.negative else 1) * np.log(np.abs(recording))\n",
      " 32%|███▏      | 51/160 [00:14<00:33,  3.23it/s]fwks_lib/fwks/stage/stage_misc.py:27: RuntimeWarning: divide by zero encountered in log\n",
      "  return (-1 if self.negative else 1) * np.log(np.abs(recording))\n",
      " 33%|███▎      | 53/160 [00:15<00:33,  3.19it/s]fwks_lib/fwks/stage/stage_misc.py:27: RuntimeWarning: divide by zero encountered in log\n",
      "  return (-1 if self.negative else 1) * np.log(np.abs(recording))\n",
      " 36%|███▋      | 58/160 [00:17<00:32,  3.10it/s]fwks_lib/fwks/stage/stage_misc.py:27: RuntimeWarning: divide by zero encountered in log\n",
      "  return (-1 if self.negative else 1) * np.log(np.abs(recording))\n",
      " 40%|████      | 64/160 [00:19<00:30,  3.14it/s]fwks_lib/fwks/stage/stage_misc.py:27: RuntimeWarning: divide by zero encountered in log\n",
      "  return (-1 if self.negative else 1) * np.log(np.abs(recording))\n",
      " 42%|████▏     | 67/160 [00:20<00:29,  3.13it/s]fwks_lib/fwks/stage/stage_misc.py:27: RuntimeWarning: divide by zero encountered in log\n",
      "  return (-1 if self.negative else 1) * np.log(np.abs(recording))\n",
      " 45%|████▌     | 72/160 [00:21<00:28,  3.13it/s]fwks_lib/fwks/stage/stage_misc.py:27: RuntimeWarning: divide by zero encountered in log\n",
      "  return (-1 if self.negative else 1) * np.log(np.abs(recording))\n",
      " 47%|████▋     | 75/160 [00:22<00:27,  3.11it/s]fwks_lib/fwks/stage/stage_misc.py:27: RuntimeWarning: divide by zero encountered in log\n",
      "  return (-1 if self.negative else 1) * np.log(np.abs(recording))\n",
      " 48%|████▊     | 76/160 [00:22<00:26,  3.17it/s]fwks_lib/fwks/stage/stage_misc.py:27: RuntimeWarning: divide by zero encountered in log\n",
      "  return (-1 if self.negative else 1) * np.log(np.abs(recording))\n",
      " 48%|████▊     | 77/160 [00:23<00:26,  3.12it/s]fwks_lib/fwks/stage/stage_misc.py:27: RuntimeWarning: divide by zero encountered in log\n",
      "  return (-1 if self.negative else 1) * np.log(np.abs(recording))\n",
      " 49%|████▉     | 78/160 [00:23<00:26,  3.11it/s]fwks_lib/fwks/stage/stage_misc.py:27: RuntimeWarning: divide by zero encountered in log\n",
      "  return (-1 if self.negative else 1) * np.log(np.abs(recording))\n",
      " 53%|█████▎    | 85/160 [00:25<00:23,  3.13it/s]fwks_lib/fwks/stage/stage_misc.py:27: RuntimeWarning: divide by zero encountered in log\n",
      "  return (-1 if self.negative else 1) * np.log(np.abs(recording))\n",
      " 54%|█████▍    | 86/160 [00:26<00:23,  3.09it/s]fwks_lib/fwks/stage/stage_misc.py:27: RuntimeWarning: divide by zero encountered in log\n",
      "  return (-1 if self.negative else 1) * np.log(np.abs(recording))\n",
      " 55%|█████▌    | 88/160 [00:26<00:22,  3.20it/s]fwks_lib/fwks/stage/stage_misc.py:27: RuntimeWarning: divide by zero encountered in log\n",
      "  return (-1 if self.negative else 1) * np.log(np.abs(recording))\n",
      " 56%|█████▌    | 89/160 [00:27<00:22,  3.18it/s]fwks_lib/fwks/stage/stage_misc.py:27: RuntimeWarning: divide by zero encountered in log\n",
      "  return (-1 if self.negative else 1) * np.log(np.abs(recording))\n",
      " 57%|█████▋    | 91/160 [00:27<00:21,  3.16it/s]fwks_lib/fwks/stage/stage_misc.py:27: RuntimeWarning: divide by zero encountered in log\n",
      "  return (-1 if self.negative else 1) * np.log(np.abs(recording))\n",
      " 58%|█████▊    | 93/160 [00:28<00:21,  3.11it/s]fwks_lib/fwks/stage/stage_misc.py:27: RuntimeWarning: divide by zero encountered in log\n",
      "  return (-1 if self.negative else 1) * np.log(np.abs(recording))\n",
      " 60%|██████    | 96/160 [00:29<00:19,  3.21it/s]fwks_lib/fwks/stage/stage_misc.py:27: RuntimeWarning: divide by zero encountered in log\n",
      "  return (-1 if self.negative else 1) * np.log(np.abs(recording))\n",
      " 62%|██████▏   | 99/160 [00:30<00:19,  3.17it/s]fwks_lib/fwks/stage/stage_misc.py:27: RuntimeWarning: divide by zero encountered in log\n",
      "  return (-1 if self.negative else 1) * np.log(np.abs(recording))\n",
      " 64%|██████▍   | 102/160 [00:31<00:17,  3.24it/s]fwks_lib/fwks/stage/stage_misc.py:27: RuntimeWarning: divide by zero encountered in log\n",
      "  return (-1 if self.negative else 1) * np.log(np.abs(recording))\n",
      " 64%|██████▍   | 103/160 [00:31<00:18,  3.14it/s]fwks_lib/fwks/stage/stage_misc.py:27: RuntimeWarning: divide by zero encountered in log\n",
      "  return (-1 if self.negative else 1) * np.log(np.abs(recording))\n",
      " 69%|██████▉   | 111/160 [00:33<00:14,  3.28it/s]fwks_lib/fwks/stage/stage_misc.py:27: RuntimeWarning: divide by zero encountered in log\n",
      "  return (-1 if self.negative else 1) * np.log(np.abs(recording))\n",
      " 73%|███████▎  | 117/160 [00:35<00:13,  3.19it/s]fwks_lib/fwks/stage/stage_misc.py:27: RuntimeWarning: divide by zero encountered in log\n",
      "  return (-1 if self.negative else 1) * np.log(np.abs(recording))\n",
      " 75%|███████▌  | 120/160 [00:36<00:13,  3.02it/s]fwks_lib/fwks/stage/stage_misc.py:27: RuntimeWarning: divide by zero encountered in log\n",
      "  return (-1 if self.negative else 1) * np.log(np.abs(recording))\n",
      " 78%|███████▊  | 125/160 [00:38<00:11,  3.03it/s]fwks_lib/fwks/stage/stage_misc.py:27: RuntimeWarning: divide by zero encountered in log\n",
      "  return (-1 if self.negative else 1) * np.log(np.abs(recording))\n",
      " 79%|███████▉  | 126/160 [00:38<00:11,  3.07it/s]fwks_lib/fwks/stage/stage_misc.py:27: RuntimeWarning: divide by zero encountered in log\n",
      "  return (-1 if self.negative else 1) * np.log(np.abs(recording))\n",
      " 82%|████████▏ | 131/160 [00:40<00:09,  3.20it/s]fwks_lib/fwks/stage/stage_misc.py:27: RuntimeWarning: divide by zero encountered in log\n",
      "  return (-1 if self.negative else 1) * np.log(np.abs(recording))\n",
      " 86%|████████▌ | 137/160 [00:42<00:07,  3.21it/s]fwks_lib/fwks/stage/stage_misc.py:27: RuntimeWarning: divide by zero encountered in log\n",
      "  return (-1 if self.negative else 1) * np.log(np.abs(recording))\n",
      " 88%|████████▊ | 140/160 [00:43<00:06,  3.05it/s]fwks_lib/fwks/stage/stage_misc.py:27: RuntimeWarning: divide by zero encountered in log\n",
      "  return (-1 if self.negative else 1) * np.log(np.abs(recording))\n"
     ]
    },
    {
     "name": "stderr",
     "output_type": "stream",
     "text": [
      " 89%|████████▉ | 142/160 [00:43<00:05,  3.10it/s]fwks_lib/fwks/stage/stage_misc.py:27: RuntimeWarning: divide by zero encountered in log\n",
      "  return (-1 if self.negative else 1) * np.log(np.abs(recording))\n",
      " 91%|█████████ | 145/160 [00:44<00:04,  3.07it/s]fwks_lib/fwks/stage/stage_misc.py:27: RuntimeWarning: divide by zero encountered in log\n",
      "  return (-1 if self.negative else 1) * np.log(np.abs(recording))\n",
      " 96%|█████████▋| 154/160 [00:47<00:01,  3.04it/s]fwks_lib/fwks/stage/stage_misc.py:27: RuntimeWarning: divide by zero encountered in log\n",
      "  return (-1 if self.negative else 1) * np.log(np.abs(recording))\n",
      " 97%|█████████▋| 155/160 [00:48<00:01,  3.05it/s]fwks_lib/fwks/stage/stage_misc.py:27: RuntimeWarning: divide by zero encountered in log\n",
      "  return (-1 if self.negative else 1) * np.log(np.abs(recording))\n",
      " 98%|█████████▊| 156/160 [00:48<00:01,  2.96it/s]fwks_lib/fwks/stage/stage_misc.py:27: RuntimeWarning: divide by zero encountered in log\n",
      "  return (-1 if self.negative else 1) * np.log(np.abs(recording))\n",
      "100%|██████████| 160/160 [00:49<00:00,  3.20it/s]\n",
      "fwks_lib/fwks/stage/stage_normalizers.py:16: RuntimeWarning: invalid value encountered in subtract\n",
      "  self.std += rec_len * ((rec[:rec_len] - self.mean) ** 2).mean()\n",
      "fwks_lib/fwks/stage/stage_normalizers.py:20: RuntimeWarning: invalid value encountered in subtract\n",
      "  returnable = (features - self.mean) / self.std\n",
      "100%|██████████| 160/160 [00:00<00:00, 4716.64it/s]\n"
     ]
    },
    {
     "name": "stdout",
     "output_type": "stream",
     "text": [
      "Applying normalization\n",
      "Featural statistics: inf +- nan\n",
      "Normalized to mean and std: nan +- nan\n",
      "Shape of the data: (160, 834, 36)\n",
      "ManhattanMetric: nan +- nan\n",
      "EuclidMetric: nan +- nan\n",
      "CosineMetric: nan +- nan\n",
      "============================================================\n",
      "Task done!\n",
      "\n",
      "<fwks.noise_gen.CodecSox object at 0x7fb4606356a0> <function mfcc_model at 0x7fb499d6d6a8>\n",
      "Getting dataset lengths\n"
     ]
    },
    {
     "name": "stderr",
     "output_type": "stream",
     "text": [
      "13810it [00:01, 9984.22it/s]\n",
      "  2%|▎         | 4/160 [00:00<00:05, 29.53it/s]"
     ]
    },
    {
     "name": "stdout",
     "output_type": "stream",
     "text": [
      "Getting clean recordings\n"
     ]
    },
    {
     "name": "stderr",
     "output_type": "stream",
     "text": [
      "100%|██████████| 160/160 [00:08<00:00, 19.60it/s]\n",
      "  1%|          | 1/160 [00:00<00:22,  7.01it/s]"
     ]
    },
    {
     "name": "stdout",
     "output_type": "stream",
     "text": [
      "Applying normalization\n",
      "Featural statistics: 0.22399926452267538 +- 1.8254280769116034\n",
      "Normalized to mean and std: -0.011130702681839466 +- 0.9542155265808105\n",
      "Getting distorted recordings\n"
     ]
    },
    {
     "name": "stderr",
     "output_type": "stream",
     "text": [
      "100%|██████████| 160/160 [00:30<00:00,  5.29it/s]\n",
      "100%|██████████| 160/160 [00:00<00:00, 4083.64it/s]\n"
     ]
    },
    {
     "name": "stdout",
     "output_type": "stream",
     "text": [
      "Applying normalization\n",
      "Featural statistics: -0.7273327278983129 +- 2.6746854241044042\n",
      "Normalized to mean and std: 0.024666156619787216 +- 0.9567572474479675\n",
      "Shape of the data: (160, 838, 24)\n",
      "ManhattanMetric: 4.07226037979126 +- 0.06435716897249222\n",
      "EuclidMetric: 8.531418800354004 +- 0.4415769875049591\n",
      "CosineMetric: -0.6676596403121948 +- 0.14983481168746948\n",
      "============================================================\n",
      "Task done!\n",
      "\n",
      "<fwks.noise_gen.CodecSox object at 0x7fb4606356a0> <function handcrafted_model at 0x7fb484154c80>\n",
      "Getting dataset lengths\n"
     ]
    },
    {
     "name": "stderr",
     "output_type": "stream",
     "text": [
      "13810it [00:01, 9960.45it/s]\n",
      "  1%|          | 1/160 [00:00<00:26,  5.99it/s]"
     ]
    },
    {
     "name": "stdout",
     "output_type": "stream",
     "text": [
      "Getting clean recordings\n"
     ]
    },
    {
     "name": "stderr",
     "output_type": "stream",
     "text": [
      "100%|██████████| 160/160 [00:40<00:00,  3.99it/s]\n",
      "  0%|          | 0/160 [00:00<?, ?it/s]"
     ]
    },
    {
     "name": "stdout",
     "output_type": "stream",
     "text": [
      "Applying normalization\n",
      "Featural statistics: 552.7444747214009 +- 840.3931920852941\n",
      "Normalized to mean and std: -0.06001796945929527 +- 0.9719126224517822\n",
      "Getting distorted recordings\n"
     ]
    },
    {
     "name": "stderr",
     "output_type": "stream",
     "text": [
      "100%|██████████| 160/160 [01:00<00:00,  2.65it/s]\n",
      "100%|██████████| 160/160 [00:00<00:00, 6136.68it/s]\n"
     ]
    },
    {
     "name": "stdout",
     "output_type": "stream",
     "text": [
      "Applying normalization\n",
      "Featural statistics: 84.38331953295845 +- 780.545106736104\n",
      "Normalized to mean and std: -0.009865030646324158 +- 0.9537872672080994\n",
      "Shape of the data: (160, 833, 14)\n",
      "ManhattanMetric: 3.523106098175049 +- 0.12607690691947937\n",
      "EuclidMetric: 4.662824630737305 +- 0.7735338807106018\n",
      "CosineMetric: -0.03411271423101425 +- 0.030556922778487206\n",
      "============================================================\n",
      "Task done!\n",
      "\n",
      "<fwks.noise_gen.CodecSox object at 0x7fb4606356a0> <function plc_model at 0x7fb55012a2f0>\n",
      "Getting dataset lengths\n"
     ]
    },
    {
     "name": "stderr",
     "output_type": "stream",
     "text": [
      "13810it [00:01, 9848.55it/s]\n",
      "  0%|          | 0/160 [00:00<?, ?it/s]"
     ]
    },
    {
     "name": "stdout",
     "output_type": "stream",
     "text": [
      "Getting clean recordings\n"
     ]
    },
    {
     "name": "stderr",
     "output_type": "stream",
     "text": [
      "100%|██████████| 160/160 [02:21<00:00,  1.13it/s]\n",
      "  0%|          | 0/160 [00:00<?, ?it/s]"
     ]
    },
    {
     "name": "stdout",
     "output_type": "stream",
     "text": [
      "Applying normalization\n",
      "Featural statistics: 0.04026287336804273 +- 0.804409636501388\n",
      "Normalized to mean and std: -0.0045401304960250854 +- 0.9536727666854858\n",
      "Getting distorted recordings\n"
     ]
    },
    {
     "name": "stderr",
     "output_type": "stream",
     "text": [
      "100%|██████████| 160/160 [02:39<00:00,  1.00it/s]\n",
      "100%|██████████| 160/160 [00:00<00:00, 5141.93it/s]\n"
     ]
    },
    {
     "name": "stdout",
     "output_type": "stream",
     "text": [
      "Applying normalization\n",
      "Featural statistics: 7.515645842883078e-05 +- 2.329932593171341\n",
      "Normalized to mean and std: -2.9269669994391734e-06 +- 0.953564465045929\n",
      "Shape of the data: (160, 838, 24)\n",
      "ManhattanMetric: 3.6160285472869873 +- 0.3276243507862091\n",
      "EuclidMetric: 4.145258903503418 +- 0.9077713489532471\n",
      "CosineMetric: 0.5123985409736633 +- 0.057877473533153534\n",
      "============================================================\n",
      "Task done!\n",
      "\n",
      "<fwks.noise_gen.CodecSox object at 0x7fb4606356a0> <function melfilterbank at 0x7fb484154f28>\n",
      "Getting dataset lengths\n"
     ]
    },
    {
     "name": "stderr",
     "output_type": "stream",
     "text": [
      "13810it [00:01, 9949.49it/s]\n",
      " 19%|█▉        | 30/160 [00:00<00:00, 292.74it/s]"
     ]
    },
    {
     "name": "stdout",
     "output_type": "stream",
     "text": [
      "Getting clean recordings\n"
     ]
    },
    {
     "name": "stderr",
     "output_type": "stream",
     "text": [
      "100%|██████████| 160/160 [00:00<00:00, 247.60it/s]\n",
      "  1%|          | 1/160 [00:00<00:17,  9.13it/s]"
     ]
    },
    {
     "name": "stdout",
     "output_type": "stream",
     "text": [
      "Applying normalization\n",
      "Featural statistics: -8.753677518374204e-07 +- 0.001917321182348356\n",
      "Normalized to mean and std: 4.141703902860172e-05 +- 0.9535651803016663\n",
      "Getting distorted recordings\n"
     ]
    },
    {
     "name": "stderr",
     "output_type": "stream",
     "text": [
      "100%|██████████| 160/160 [00:23<00:00,  6.85it/s]\n",
      "100%|██████████| 160/160 [00:00<00:00, 3606.92it/s]\n"
     ]
    },
    {
     "name": "stdout",
     "output_type": "stream",
     "text": [
      "Applying normalization\n",
      "Featural statistics: -120.45617191254419 +- 29312.116090790678\n",
      "Normalized to mean and std: 0.00037275388604030013 +- 0.9535654783248901\n",
      "Shape of the data: (160, 838, 64)\n",
      "ManhattanMetric: 4.964910984039307 +- 1.2100193500518799\n",
      "EuclidMetric: 6.085031509399414 +- 2.7707650661468506\n",
      "CosineMetric: 0.07185862958431244 +- 0.12882986664772034\n",
      "============================================================\n",
      "Task done!\n",
      "\n",
      "<fwks.noise_gen.CodecSox object at 0x7fb4606356a0> <function cochleagram at 0x7fb499d6d598>\n"
     ]
    },
    {
     "name": "stderr",
     "output_type": "stream",
     "text": [
      "\r",
      "0it [00:00, ?it/s]"
     ]
    },
    {
     "name": "stdout",
     "output_type": "stream",
     "text": [
      "Getting dataset lengths\n"
     ]
    },
    {
     "name": "stderr",
     "output_type": "stream",
     "text": [
      "13810it [00:01, 9831.37it/s]\n",
      "  1%|▏         | 2/160 [00:00<00:15, 10.27it/s]"
     ]
    },
    {
     "name": "stdout",
     "output_type": "stream",
     "text": [
      "Getting clean recordings\n"
     ]
    },
    {
     "name": "stderr",
     "output_type": "stream",
     "text": [
      "100%|██████████| 160/160 [00:22<00:00,  7.01it/s]\n",
      "  0%|          | 0/160 [00:00<?, ?it/s]"
     ]
    },
    {
     "name": "stdout",
     "output_type": "stream",
     "text": [
      "Applying normalization\n",
      "Featural statistics: 7.9955842596797435 +- 1.893083788566453\n",
      "Normalized to mean and std: -0.3849456310272217 +- 1.5448341369628906\n",
      "Getting distorted recordings\n"
     ]
    },
    {
     "name": "stderr",
     "output_type": "stream",
     "text": [
      "100%|██████████| 160/160 [00:44<00:00,  3.58it/s]\n",
      "100%|██████████| 160/160 [00:00<00:00, 4861.90it/s]\n"
     ]
    },
    {
     "name": "stdout",
     "output_type": "stream",
     "text": [
      "Applying normalization\n",
      "Featural statistics: -5.026631881356423 +- 1.14514856257424\n",
      "Normalized to mean and std: 0.4000686705112457 +- 1.5826855897903442\n",
      "Shape of the data: (160, 834, 36)\n",
      "ManhattanMetric: 3.7703185081481934 +- 0.16005998849868774\n",
      "EuclidMetric: 3.1581649780273438 +- 0.3032134771347046\n",
      "CosineMetric: 0.7944396138191223 +- 0.04027402028441429\n",
      "============================================================\n",
      "Task done!\n",
      "\n",
      "<fwks.noise_gen.CodecSox object at 0x7fb460635630> <function mfcc_model at 0x7fb499d6d6a8>\n",
      "Getting dataset lengths\n"
     ]
    },
    {
     "name": "stderr",
     "output_type": "stream",
     "text": [
      "13810it [00:01, 9957.13it/s]\n",
      "  2%|▎         | 4/160 [00:00<00:05, 29.58it/s]"
     ]
    },
    {
     "name": "stdout",
     "output_type": "stream",
     "text": [
      "Getting clean recordings\n"
     ]
    },
    {
     "name": "stderr",
     "output_type": "stream",
     "text": [
      "100%|██████████| 160/160 [00:08<00:00, 19.54it/s]\n",
      "  1%|          | 1/160 [00:00<00:22,  7.01it/s]"
     ]
    },
    {
     "name": "stdout",
     "output_type": "stream",
     "text": [
      "Applying normalization\n",
      "Featural statistics: 0.22399926452267538 +- 1.8254280769116034\n",
      "Normalized to mean and std: -0.011130702681839466 +- 0.9542155265808105\n",
      "Getting distorted recordings\n"
     ]
    },
    {
     "name": "stderr",
     "output_type": "stream",
     "text": [
      "100%|██████████| 160/160 [00:31<00:00,  5.10it/s]\n",
      "100%|██████████| 160/160 [00:00<00:00, 4078.55it/s]\n"
     ]
    },
    {
     "name": "stdout",
     "output_type": "stream",
     "text": [
      "Applying normalization\n",
      "Featural statistics: -0.7446848946536283 +- 2.7315526277870035\n",
      "Normalized to mean and std: 0.024728849530220032 +- 0.956773579120636\n",
      "Shape of the data: (160, 838, 24)\n",
      "ManhattanMetric: 4.077210426330566 +- 0.06649268418550491\n",
      "EuclidMetric: 8.5560941696167 +- 0.45065775513648987\n",
      "CosineMetric: -0.6689527630805969 +- 0.14962030947208405\n",
      "============================================================\n",
      "Task done!\n",
      "\n",
      "<fwks.noise_gen.CodecSox object at 0x7fb460635630> <function handcrafted_model at 0x7fb484154c80>\n",
      "Getting dataset lengths\n"
     ]
    },
    {
     "name": "stderr",
     "output_type": "stream",
     "text": [
      "13810it [00:01, 9554.89it/s]\n",
      "  1%|          | 1/160 [00:00<00:26,  5.97it/s]"
     ]
    },
    {
     "name": "stdout",
     "output_type": "stream",
     "text": [
      "Getting clean recordings\n"
     ]
    },
    {
     "name": "stderr",
     "output_type": "stream",
     "text": [
      "100%|██████████| 160/160 [00:40<00:00,  3.96it/s]\n",
      "  0%|          | 0/160 [00:00<?, ?it/s]"
     ]
    },
    {
     "name": "stdout",
     "output_type": "stream",
     "text": [
      "Applying normalization\n",
      "Featural statistics: 552.7444747214009 +- 840.3931920852941\n",
      "Normalized to mean and std: -0.06001796945929527 +- 0.9719126224517822\n",
      "Getting distorted recordings\n"
     ]
    },
    {
     "name": "stderr",
     "output_type": "stream",
     "text": [
      "100%|██████████| 160/160 [01:01<00:00,  2.59it/s]\n",
      "100%|██████████| 160/160 [00:00<00:00, 6091.67it/s]\n"
     ]
    },
    {
     "name": "stdout",
     "output_type": "stream",
     "text": [
      "Applying normalization\n",
      "Featural statistics: 90.0748306199155 +- 806.3351196266691\n",
      "Normalized to mean and std: -0.010193604975938797 +- 0.9538216590881348\n",
      "Shape of the data: (160, 833, 14)\n",
      "ManhattanMetric: 3.5278725624084473 +- 0.12868259847164154\n",
      "EuclidMetric: 4.6904401779174805 +- 0.7822900414466858\n",
      "CosineMetric: -0.036955516785383224 +- 0.03060861863195896\n",
      "============================================================\n",
      "Task done!\n",
      "\n",
      "<fwks.noise_gen.CodecSox object at 0x7fb460635630> <function plc_model at 0x7fb55012a2f0>\n",
      "Getting dataset lengths\n"
     ]
    },
    {
     "name": "stderr",
     "output_type": "stream",
     "text": [
      "13810it [00:01, 9861.57it/s]\n",
      "  0%|          | 0/160 [00:00<?, ?it/s]"
     ]
    },
    {
     "name": "stdout",
     "output_type": "stream",
     "text": [
      "Getting clean recordings\n"
     ]
    },
    {
     "name": "stderr",
     "output_type": "stream",
     "text": [
      "100%|██████████| 160/160 [02:22<00:00,  1.13it/s]\n",
      "  0%|          | 0/160 [00:00<?, ?it/s]"
     ]
    },
    {
     "name": "stdout",
     "output_type": "stream",
     "text": [
      "Applying normalization\n",
      "Featural statistics: 0.04026287336804273 +- 0.804409636501388\n",
      "Normalized to mean and std: -0.0045401304960250854 +- 0.9536727666854858\n",
      "Getting distorted recordings\n"
     ]
    },
    {
     "name": "stderr",
     "output_type": "stream",
     "text": [
      "100%|██████████| 160/160 [02:41<00:00,  1.01s/it]\n",
      "100%|██████████| 160/160 [00:00<00:00, 5122.15it/s]\n"
     ]
    },
    {
     "name": "stdout",
     "output_type": "stream",
     "text": [
      "Applying normalization\n",
      "Featural statistics: 0.0001756497783758928 +- 2.698647292078168\n",
      "Normalized to mean and std: -5.899798907194054e-06 +- 0.9535645842552185\n",
      "Shape of the data: (160, 838, 24)\n",
      "ManhattanMetric: 3.647066593170166 +- 0.33447781205177307\n",
      "EuclidMetric: 4.193830966949463 +- 0.9242787957191467\n",
      "CosineMetric: 0.5075247287750244 +- 0.05941805616021156\n",
      "============================================================\n",
      "Task done!\n",
      "\n",
      "<fwks.noise_gen.CodecSox object at 0x7fb460635630> <function melfilterbank at 0x7fb484154f28>\n",
      "Getting dataset lengths\n"
     ]
    },
    {
     "name": "stderr",
     "output_type": "stream",
     "text": [
      "13810it [00:01, 9914.63it/s]\n",
      " 18%|█▊        | 29/160 [00:00<00:00, 282.16it/s]"
     ]
    },
    {
     "name": "stdout",
     "output_type": "stream",
     "text": [
      "Getting clean recordings\n"
     ]
    },
    {
     "name": "stderr",
     "output_type": "stream",
     "text": [
      "100%|██████████| 160/160 [00:00<00:00, 240.71it/s]\n",
      "  1%|          | 1/160 [00:00<00:18,  8.38it/s]"
     ]
    },
    {
     "name": "stdout",
     "output_type": "stream",
     "text": [
      "Applying normalization\n",
      "Featural statistics: -8.753677518374204e-07 +- 0.001917321182348356\n",
      "Normalized to mean and std: 4.141703902860172e-05 +- 0.9535651803016663\n",
      "Getting distorted recordings\n"
     ]
    },
    {
     "name": "stderr",
     "output_type": "stream",
     "text": [
      "100%|██████████| 160/160 [00:24<00:00,  6.42it/s]\n",
      "100%|██████████| 160/160 [00:00<00:00, 3603.14it/s]\n"
     ]
    },
    {
     "name": "stdout",
     "output_type": "stream",
     "text": [
      "Applying normalization\n",
      "Featural statistics: -121.53264799988503 +- 30140.954593999864\n",
      "Normalized to mean and std: 0.0003657383203972131 +- 0.9535656571388245\n",
      "Shape of the data: (160, 838, 64)\n",
      "ManhattanMetric: 4.98737907409668 +- 1.2297494411468506\n",
      "EuclidMetric: 6.10845422744751 +- 2.8286850452423096\n",
      "CosineMetric: 0.07055981457233429 +- 0.1341724991798401\n",
      "============================================================\n",
      "Task done!\n",
      "\n",
      "<fwks.noise_gen.CodecSox object at 0x7fb460635630> <function cochleagram at 0x7fb499d6d598>\n"
     ]
    },
    {
     "name": "stderr",
     "output_type": "stream",
     "text": [
      "\r",
      "0it [00:00, ?it/s]"
     ]
    },
    {
     "name": "stdout",
     "output_type": "stream",
     "text": [
      "Getting dataset lengths\n"
     ]
    },
    {
     "name": "stderr",
     "output_type": "stream",
     "text": [
      "13810it [00:01, 9955.51it/s]\n",
      "  1%|          | 1/160 [00:00<00:16,  9.86it/s]"
     ]
    },
    {
     "name": "stdout",
     "output_type": "stream",
     "text": [
      "Getting clean recordings\n"
     ]
    },
    {
     "name": "stderr",
     "output_type": "stream",
     "text": [
      "100%|██████████| 160/160 [00:22<00:00,  7.01it/s]\n",
      "  0%|          | 0/160 [00:00<?, ?it/s]"
     ]
    },
    {
     "name": "stdout",
     "output_type": "stream",
     "text": [
      "Applying normalization\n",
      "Featural statistics: 7.9955842596797435 +- 1.893083788566453\n",
      "Normalized to mean and std: -0.3849456310272217 +- 1.5448341369628906\n",
      "Getting distorted recordings\n"
     ]
    },
    {
     "name": "stderr",
     "output_type": "stream",
     "text": [
      "100%|██████████| 160/160 [00:47<00:00,  3.39it/s]\n",
      "100%|██████████| 160/160 [00:00<00:00, 4879.76it/s]"
     ]
    },
    {
     "name": "stdout",
     "output_type": "stream",
     "text": [
      "Applying normalization\n",
      "Featural statistics: -5.140021046916842 +- 1.1366241792698148\n",
      "Normalized to mean and std: 0.41216087341308594 +- 1.6133323907852173\n",
      "Shape of the data: (160, 834, 36)\n",
      "ManhattanMetric: 3.731295108795166 +- 0.19303494691848755\n",
      "EuclidMetric: 3.1727004051208496 +- 0.3378463685512543\n",
      "CosineMetric: 0.7943729162216187 +- 0.0420672781765461\n",
      "============================================================\n",
      "Task done!\n",
      "\n"
     ]
    },
    {
     "name": "stderr",
     "output_type": "stream",
     "text": [
      "\n"
     ]
    }
   ],
   "source": [
    "import fwks.model as model_mod\n",
    "import fwks.noise_gen\n",
    "import fwks.stage as stage\n",
    "import fwks.miscellanea as miscellanea\n",
    "\n",
    "import keras\n",
    "\n",
    "from dissertation_model import (\n",
    "    mfcc_model,\n",
    "    handcrafted_model,\n",
    "    plc_model,\n",
    "    melfilterbank,\n",
    "    cochleagram\n",
    ")\n",
    "\n",
    "noise_generators = [\n",
    "    fwks.noise_gen.Static(),\n",
    "    fwks.noise_gen\n",
    "    fwks.noise_gen.CodecSox(\"mp3-lq\"),\n",
    "    fwks.noise_gen.CodecSox(\"amr-nb-lq\"),\n",
    "    fwks.noise_gen.CodecSox(\"amr-nb-hq\")\n",
    "]\n",
    "\n",
    "models = [\n",
    "    mfcc_model,\n",
    "    handcrafted_model,\n",
    "    plc_model,\n",
    "    melfilterbank,\n",
    "    cochleagram\n",
    "]\n",
    "\n",
    "\n",
    "tasks_noise_metric = []\n",
    "\n",
    "\n",
    "for noise_gen in noise_generators:\n",
    "    for model in models:\n",
    "        print(noise_gen, model)\n",
    "        #try:\n",
    "        if True:\n",
    "\n",
    "            StaticAB = make_ab_feature_test(\n",
    "                noise_gen=noise_gen\n",
    "            )\n",
    "\n",
    "            StaticAB.how_much = 160\n",
    "            StaticAB.mock = True\n",
    "\n",
    "            class ComparisonTask(metaclass=StaticAB):\n",
    "                @classmethod\n",
    "                def get_acoustic_model(self):\n",
    "                    return model()\n",
    "\n",
    "            ComparisonTask.run(\"/tmp/cache\")\n",
    "            tasks_noise_metric.append((noise_gen.__class__.__name__, model.__name__, ComparisonTask))\n",
    "#        except:\n",
    "#            print(\"Task failed\")\n",
    "\n",
    "        \n"
   ]
  },
  {
   "cell_type": "code",
   "execution_count": 6,
   "metadata": {},
   "outputs": [
    {
     "data": {
      "text/plain": [
       "[('Static', 'mfcc_model', __main__.ComparisonTask),\n",
       " ('Static', 'handcrafted_model', __main__.ComparisonTask),\n",
       " ('Static', 'plc_model', __main__.ComparisonTask),\n",
       " ('Static', 'melfilterbank', __main__.ComparisonTask),\n",
       " ('Static', 'cochleagram', __main__.ComparisonTask),\n",
       " ('CodecSox', 'mfcc_model', __main__.ComparisonTask),\n",
       " ('CodecSox', 'handcrafted_model', __main__.ComparisonTask),\n",
       " ('CodecSox', 'plc_model', __main__.ComparisonTask),\n",
       " ('CodecSox', 'melfilterbank', __main__.ComparisonTask),\n",
       " ('CodecSox', 'cochleagram', __main__.ComparisonTask),\n",
       " ('CodecSox', 'mfcc_model', __main__.ComparisonTask),\n",
       " ('CodecSox', 'handcrafted_model', __main__.ComparisonTask),\n",
       " ('CodecSox', 'plc_model', __main__.ComparisonTask),\n",
       " ('CodecSox', 'melfilterbank', __main__.ComparisonTask),\n",
       " ('CodecSox', 'cochleagram', __main__.ComparisonTask),\n",
       " ('CodecSox', 'mfcc_model', __main__.ComparisonTask),\n",
       " ('CodecSox', 'handcrafted_model', __main__.ComparisonTask),\n",
       " ('CodecSox', 'plc_model', __main__.ComparisonTask),\n",
       " ('CodecSox', 'melfilterbank', __main__.ComparisonTask),\n",
       " ('CodecSox', 'cochleagram', __main__.ComparisonTask)]"
      ]
     },
     "execution_count": 6,
     "metadata": {},
     "output_type": "execute_result"
    }
   ],
   "source": [
    "tasks_noise_metric"
   ]
  },
  {
   "cell_type": "code",
   "execution_count": 7,
   "metadata": {},
   "outputs": [
    {
     "name": "stderr",
     "output_type": "stream",
     "text": [
      "0it [00:00, ?it/s]"
     ]
    },
    {
     "name": "stdout",
     "output_type": "stream",
     "text": [
      "Getting dataset lengths\n"
     ]
    },
    {
     "name": "stderr",
     "output_type": "stream",
     "text": [
      "\n"
     ]
    },
    {
     "ename": "ValueError",
     "evalue": "max() arg is an empty sequence",
     "output_type": "error",
     "traceback": [
      "\u001b[0;31m---------------------------------------------------------------------------\u001b[0m",
      "\u001b[0;31mValueError\u001b[0m                                Traceback (most recent call last)",
      "\u001b[0;32m<ipython-input-7-4d6e53cc624f>\u001b[0m in \u001b[0;36m<module>\u001b[0;34m()\u001b[0m\n\u001b[1;32m     13\u001b[0m                 \u001b[0;32mreturn\u001b[0m \u001b[0mmodel\u001b[0m\u001b[0;34m(\u001b[0m\u001b[0;34m)\u001b[0m\u001b[0;34m\u001b[0m\u001b[0m\n\u001b[1;32m     14\u001b[0m \u001b[0;34m\u001b[0m\u001b[0m\n\u001b[0;32m---> 15\u001b[0;31m         \u001b[0mTrainingTask\u001b[0m\u001b[0;34m.\u001b[0m\u001b[0mrun\u001b[0m\u001b[0;34m(\u001b[0m\u001b[0;34m\"/tmp/cache\"\u001b[0m\u001b[0;34m)\u001b[0m\u001b[0;34m\u001b[0m\u001b[0m\n\u001b[0m",
      "\u001b[0;32m/pictec/fwks_lib/fwks/tasks.py\u001b[0m in \u001b[0;36mrun\u001b[0;34m(self, cache)\u001b[0m\n\u001b[1;32m     67\u001b[0m                 \u001b[0mam\u001b[0m\u001b[0;34m.\u001b[0m\u001b[0mnum_epochs\u001b[0m \u001b[0;34m=\u001b[0m \u001b[0mthis\u001b[0m\u001b[0;34m.\u001b[0m\u001b[0mepochs\u001b[0m\u001b[0;34m\u001b[0m\u001b[0m\n\u001b[1;32m     68\u001b[0m                 \u001b[0mam\u001b[0m\u001b[0;34m.\u001b[0m\u001b[0mname\u001b[0m \u001b[0;34m=\u001b[0m \u001b[0mname\u001b[0m\u001b[0;34m\u001b[0m\u001b[0m\n\u001b[0;32m---> 69\u001b[0;31m                 \u001b[0mam\u001b[0m\u001b[0;34m.\u001b[0m\u001b[0mbuild\u001b[0m\u001b[0;34m(\u001b[0m\u001b[0mdset\u001b[0m\u001b[0;34m)\u001b[0m\u001b[0;34m\u001b[0m\u001b[0m\n\u001b[0m\u001b[1;32m     70\u001b[0m                 \u001b[0mam\u001b[0m\u001b[0;34m.\u001b[0m\u001b[0msummary\u001b[0m\u001b[0;34m(\u001b[0m\u001b[0;34m)\u001b[0m\u001b[0;34m\u001b[0m\u001b[0m\n\u001b[1;32m     71\u001b[0m                 \u001b[0mam\u001b[0m\u001b[0;34m.\u001b[0m\u001b[0msave\u001b[0m\u001b[0;34m(\u001b[0m\u001b[0mos\u001b[0m\u001b[0;34m.\u001b[0m\u001b[0mpath\u001b[0m\u001b[0;34m.\u001b[0m\u001b[0mjoin\u001b[0m\u001b[0;34m(\u001b[0m\u001b[0mcache\u001b[0m\u001b[0;34m,\u001b[0m \u001b[0;34m\"model.zip\"\u001b[0m\u001b[0;34m)\u001b[0m\u001b[0;34m,\u001b[0m \u001b[0msave_full\u001b[0m\u001b[0;34m=\u001b[0m\u001b[0;32mTrue\u001b[0m\u001b[0;34m)\u001b[0m\u001b[0;34m\u001b[0m\u001b[0m\n",
      "\u001b[0;32m/pictec/fwks_lib/fwks/model/meta.py\u001b[0m in \u001b[0;36mbuild\u001b[0;34m(self, dataset, **config)\u001b[0m\n\u001b[1;32m    241\u001b[0m         \u001b[0mself\u001b[0m\u001b[0;34m.\u001b[0m\u001b[0mconfig\u001b[0m \u001b[0;34m=\u001b[0m \u001b[0mconfig\u001b[0m\u001b[0;34m\u001b[0m\u001b[0m\n\u001b[1;32m    242\u001b[0m         \u001b[0mmapping_generator\u001b[0m \u001b[0;34m=\u001b[0m \u001b[0mMappingGenerator\u001b[0m\u001b[0;34m(\u001b[0m\u001b[0mself\u001b[0m\u001b[0;34m.\u001b[0m\u001b[0mstages\u001b[0m\u001b[0;34m)\u001b[0m\u001b[0;34m\u001b[0m\u001b[0m\n\u001b[0;32m--> 243\u001b[0;31m         \u001b[0mmapping\u001b[0m\u001b[0;34m,\u001b[0m \u001b[0mtrain_network\u001b[0m\u001b[0;34m,\u001b[0m \u001b[0mnetwork\u001b[0m\u001b[0;34m,\u001b[0m \u001b[0mloss\u001b[0m \u001b[0;34m=\u001b[0m \u001b[0mmapping_generator\u001b[0m\u001b[0;34m.\u001b[0m\u001b[0mget_all\u001b[0m\u001b[0;34m(\u001b[0m\u001b[0mdataset\u001b[0m\u001b[0;34m)\u001b[0m\u001b[0;34m\u001b[0m\u001b[0m\n\u001b[0m\u001b[1;32m    244\u001b[0m         \u001b[0mdataset\u001b[0m\u001b[0;34m.\u001b[0m\u001b[0mgenerate\u001b[0m\u001b[0;34m(\u001b[0m\u001b[0mmapping\u001b[0m\u001b[0;34m,\u001b[0m \u001b[0mloss\u001b[0m\u001b[0;34m.\u001b[0m\u001b[0mrequirements\u001b[0m\u001b[0;34m)\u001b[0m\u001b[0;34m\u001b[0m\u001b[0m\n\u001b[1;32m    245\u001b[0m         \u001b[0mself\u001b[0m\u001b[0;34m.\u001b[0m\u001b[0mdataset_signature\u001b[0m \u001b[0;34m=\u001b[0m \u001b[0mdataset\u001b[0m\u001b[0;34m.\u001b[0m\u001b[0msignature\u001b[0m\u001b[0;34m\u001b[0m\u001b[0m\n",
      "\u001b[0;32m/pictec/fwks_lib/fwks/model/meta.py\u001b[0m in \u001b[0;36mget_all\u001b[0;34m(self, dataset)\u001b[0m\n\u001b[1;32m     45\u001b[0m             \u001b[0mmapping\u001b[0m \u001b[0;34m=\u001b[0m \u001b[0mstages\u001b[0m\u001b[0;34m.\u001b[0m\u001b[0mpop\u001b[0m\u001b[0;34m(\u001b[0m\u001b[0;34m)\u001b[0m\u001b[0;34m.\u001b[0m\u001b[0mbind\u001b[0m\u001b[0;34m(\u001b[0m\u001b[0mmapping\u001b[0m\u001b[0;34m)\u001b[0m\u001b[0;34m\u001b[0m\u001b[0m\n\u001b[1;32m     46\u001b[0m             \u001b[0mrepresentation_cnt\u001b[0m \u001b[0;34m+=\u001b[0m \u001b[0;36m1\u001b[0m\u001b[0;34m\u001b[0m\u001b[0m\n\u001b[0;32m---> 47\u001b[0;31m         \u001b[0mdset_dtype\u001b[0m \u001b[0;34m=\u001b[0m \u001b[0mdataset\u001b[0m\u001b[0;34m.\u001b[0m\u001b[0mgenerate_dtype\u001b[0m\u001b[0;34m(\u001b[0m\u001b[0mmapping\u001b[0m\u001b[0;34m)\u001b[0m\u001b[0;34m\u001b[0m\u001b[0m\n\u001b[0m\u001b[1;32m     48\u001b[0m         \u001b[0mstages\u001b[0m\u001b[0;34m.\u001b[0m\u001b[0mreverse\u001b[0m\u001b[0;34m(\u001b[0m\u001b[0;34m)\u001b[0m\u001b[0;34m\u001b[0m\u001b[0m\n\u001b[1;32m     49\u001b[0m         \u001b[0;32mfor\u001b[0m \u001b[0mstage\u001b[0m \u001b[0;32min\u001b[0m \u001b[0mstages\u001b[0m\u001b[0;34m:\u001b[0m\u001b[0;34m\u001b[0m\u001b[0m\n",
      "\u001b[0;32m/pictec/fwks_lib/fwks/dataset/dataset.py\u001b[0m in \u001b[0;36mgenerate_dtype\u001b[0;34m(self, mapping)\u001b[0m\n\u001b[1;32m     91\u001b[0m \u001b[0;34m\u001b[0m\u001b[0m\n\u001b[1;32m     92\u001b[0m     \u001b[0;32mdef\u001b[0m \u001b[0mgenerate_dtype\u001b[0m\u001b[0;34m(\u001b[0m\u001b[0mself\u001b[0m\u001b[0;34m,\u001b[0m \u001b[0mmapping\u001b[0m\u001b[0;34m)\u001b[0m\u001b[0;34m:\u001b[0m\u001b[0;34m\u001b[0m\u001b[0m\n\u001b[0;32m---> 93\u001b[0;31m         \u001b[0mdtype\u001b[0m \u001b[0;34m=\u001b[0m \u001b[0mstage\u001b[0m\u001b[0;34m.\u001b[0m\u001b[0mDType\u001b[0m\u001b[0;34m(\u001b[0m\u001b[0;34m\"Array\"\u001b[0m\u001b[0;34m,\u001b[0m \u001b[0;34m[\u001b[0m\u001b[0mmax\u001b[0m\u001b[0;34m(\u001b[0m\u001b[0mself\u001b[0m\u001b[0;34m.\u001b[0m\u001b[0mrecording_lengths\u001b[0m\u001b[0;34m)\u001b[0m\u001b[0;34m]\u001b[0m\u001b[0;34m,\u001b[0m \u001b[0mnp\u001b[0m\u001b[0;34m.\u001b[0m\u001b[0mfloat32\u001b[0m\u001b[0;34m)\u001b[0m\u001b[0;34m\u001b[0m\u001b[0m\n\u001b[0m\u001b[1;32m     94\u001b[0m         \u001b[0;32mreturn\u001b[0m \u001b[0mmapping\u001b[0m\u001b[0;34m.\u001b[0m\u001b[0moutput_dtype\u001b[0m\u001b[0;34m(\u001b[0m\u001b[0mdtype\u001b[0m\u001b[0;34m)\u001b[0m\u001b[0;34m\u001b[0m\u001b[0m\n\u001b[1;32m     95\u001b[0m \u001b[0;34m\u001b[0m\u001b[0m\n",
      "\u001b[0;31mValueError\u001b[0m: max() arg is an empty sequence"
     ]
    }
   ],
   "source": [
    "for noise_gen in noise_generators:\n",
    "    for model in models:\n",
    "        NoisyTraining = make_training_task(\n",
    "            noise=noise_gen\n",
    "        )\n",
    "\n",
    "        NoisyTraining.how_much = 3200\n",
    "        NoisyTraining.epochs = 50\n",
    "\n",
    "        class TrainingTask(metaclass=NoisyTraining):\n",
    "            @classmethod\n",
    "            def get_acoustic_model(self):\n",
    "                return model()\n",
    "\n",
    "        TrainingTask.run(\"/tmp/cache\")\n"
   ]
  },
  {
   "cell_type": "code",
   "execution_count": null,
   "metadata": {},
   "outputs": [],
   "source": []
  }
 ],
 "metadata": {
  "kernelspec": {
   "display_name": "Python 3",
   "language": "python",
   "name": "python3"
  },
  "language_info": {
   "codemirror_mode": {
    "name": "ipython",
    "version": 3
   },
   "file_extension": ".py",
   "mimetype": "text/x-python",
   "name": "python",
   "nbconvert_exporter": "python",
   "pygments_lexer": "ipython3",
   "version": "3.5.2"
  }
 },
 "nbformat": 4,
 "nbformat_minor": 2
}
