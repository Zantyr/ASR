{
 "cells": [
  {
   "cell_type": "code",
   "execution_count": null,
   "metadata": {},
   "outputs": [],
   "source": [
    "import sys\n",
    "sys.path.append(\"fwks_lib\")\n",
    "\n",
    "# limit the memory usage - this actually uses very small amount of memory\n",
    "import keras.backend as K\n",
    "import tensorflow as tf\n",
    "gpu_options = tf.GPUOptions(per_process_gpu_memory_fraction=0.75)\n",
    "sess = tf.Session(config=tf.ConfigProto(gpu_options=gpu_options))\n",
    "K.set_session(sess)"
   ]
  },
  {
   "cell_type": "code",
   "execution_count": null,
   "metadata": {},
   "outputs": [],
   "source": [
    "from fwks.tasks import AbstractModelTraining, Task, make_training_task, make_ab_feature_test\n",
    "\n",
    "from fwks import metricization\n",
    "\n",
    "from dissertation_model import (\n",
    "    mfcc_model,\n",
    "    handcrafted_model,\n",
    "    plc_model,\n",
    "    melfilterbank,\n",
    "    cochleagram,\n",
    "    MFCC_PCEN,\n",
    "    MFCCEqA,\n",
    "    MFCCEqB\n",
    ")\n",
    "\n",
    "\n",
    "AbstractModelTraining.how_much = 4500\n",
    "AbstractModelTraining.mock = True\n",
    "AbstractModelTraining.add_metric(metricization.PER())\n",
    "# AbstractModelTraining.add_metric(metricization.WER)\n",
    "\n",
    "\n",
    "class BaselineMFCCModel(metaclass=AbstractModelTraining):\n",
    "    @classmethod\n",
    "    def get_acoustic_model(self):\n",
    "        return mfcc_model()\n",
    "\n",
    "\n",
    "class HandcraftedModel(metaclass=AbstractModelTraining):\n",
    "    @classmethod\n",
    "    def get_acoustic_model(self):\n",
    "        return handcrafted_model()\n",
    "\n",
    "    \n",
    "class PLCModel(metaclass=AbstractModelTraining):\n",
    "    @classmethod\n",
    "    def get_acoustic_model(self):\n",
    "        return plc_model()\n",
    "\n",
    "    \n",
    "class MelFBModel(metaclass=AbstractModelTraining):\n",
    "    @classmethod\n",
    "    def get_acoustic_model(self):\n",
    "        return melfilterbank()\n",
    "\n",
    "\n",
    "class CochleagramModel(metaclass=AbstractModelTraining):\n",
    "    @classmethod\n",
    "    def get_acoustic_model(self):\n",
    "        return cochleagram()\n",
    "\n",
    "    \n",
    "class MFCCPCENModel(metaclass=AbstractModelTraining):\n",
    "    @classmethod\n",
    "    def get_acoustic_model(self):\n",
    "        return MFCC_PCEN()\n",
    "\n",
    "\n",
    "class MFCCEqAModel(metaclass=AbstractModelTraining):\n",
    "    @classmethod\n",
    "    def get_acoustic_model(self):\n",
    "        return MFCCEqA()\n",
    "\n",
    "    \n",
    "class MFCCEqBModel(metaclass=AbstractModelTraining):\n",
    "    @classmethod\n",
    "    def get_acoustic_model(self):\n",
    "        return MFCCEqB()\n"
   ]
  },
  {
   "cell_type": "code",
   "execution_count": null,
   "metadata": {
    "scrolled": false
   },
   "outputs": [],
   "source": [
    "for task in Task.all():\n",
    "    try:\n",
    "        print(task)\n",
    "        task.run(\"/tmp/cache\")\n",
    "    except:\n",
    "        print(\"Failed!\")"
   ]
  },
  {
   "cell_type": "code",
   "execution_count": null,
   "metadata": {},
   "outputs": [],
   "source": []
  },
  {
   "cell_type": "code",
   "execution_count": null,
   "metadata": {},
   "outputs": [],
   "source": []
  },
  {
   "cell_type": "code",
   "execution_count": null,
   "metadata": {},
   "outputs": [],
   "source": []
  }
 ],
 "metadata": {
  "kernelspec": {
   "display_name": "Python 3.7",
   "language": "python",
   "name": "python3"
  },
  "language_info": {
   "codemirror_mode": {
    "name": "ipython",
    "version": 3
   },
   "file_extension": ".py",
   "mimetype": "text/x-python",
   "name": "python",
   "nbconvert_exporter": "python",
   "pygments_lexer": "ipython3",
   "version": "3.7.4"
  }
 },
 "nbformat": 4,
 "nbformat_minor": 2
}
