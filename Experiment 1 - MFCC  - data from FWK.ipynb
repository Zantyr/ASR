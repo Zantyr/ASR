{
 "cells": [
  {
   "cell_type": "markdown",
   "metadata": {},
   "source": [
    "In speech processing we may use really huge networks cause majority of the processing bottleneck is on CPU and running the CTC function...\n",
    "\n",
    "Also, CLARIN mobile corpus seems to be too small for advanced network"
   ]
  },
  {
   "cell_type": "code",
   "execution_count": 3,
   "metadata": {},
   "outputs": [
    {
     "name": "stderr",
     "output_type": "stream",
     "text": [
      "  7%|▋         | 946/13810 [00:00<00:01, 9447.08it/s]"
     ]
    },
    {
     "name": "stdout",
     "output_type": "stream",
     "text": [
      "Getting dataset lengths\n"
     ]
    },
    {
     "name": "stderr",
     "output_type": "stream",
     "text": [
      "100%|██████████| 13810/13810 [00:01<00:00, 9596.20it/s]\n",
      "  0%|          | 21/9000 [00:00<00:44, 202.15it/s]"
     ]
    },
    {
     "name": "stdout",
     "output_type": "stream",
     "text": [
      "Getting clean recordings\n"
     ]
    },
    {
     "name": "stderr",
     "output_type": "stream",
     "text": [
      "100%|██████████| 9000/9000 [01:41<00:00, 88.52it/s] \n",
      " 13%|█▎        | 1152/9000 [00:00<00:00, 11515.70it/s]"
     ]
    },
    {
     "name": "stdout",
     "output_type": "stream",
     "text": [
      "Getting list of phones\n"
     ]
    },
    {
     "name": "stderr",
     "output_type": "stream",
     "text": [
      "100%|██████████| 9000/9000 [00:01<00:00, 8735.02it/s] \n",
      "834it [00:00, 8334.50it/s]"
     ]
    },
    {
     "name": "stdout",
     "output_type": "stream",
     "text": [
      "Getting transcriptions\n"
     ]
    },
    {
     "name": "stderr",
     "output_type": "stream",
     "text": [
      "9000it [00:01, 5783.14it/s]\n"
     ]
    }
   ],
   "source": [
    "#!/usr/bin/python3\n",
    "\n",
    "# For demonstration purposes - Paweł Tomasik\n",
    "# for CLARIN_MOBILE - generally it is unnormalized\n",
    "\n",
    "import os\n",
    "os.environ[\"CUDA_VISIBLE_DEVICES\"] = \"0\"\n",
    "\n",
    "from keras.models import Model\n",
    "from keras.layers import LSTM, Conv1D, Dropout, LeakyReLU, Dense, Input, Lambda, TimeDistributed, Flatten, Conv2D, BatchNormalization, GRU, Bidirectional\n",
    "from keras.optimizers import Adam\n",
    "from keras.utils import to_categorical\n",
    "from keras.initializers import Orthogonal\n",
    "from keras.callbacks import Callback\n",
    "\n",
    "from keras.backend import ctc_batch_cost, expand_dims\n",
    "import keras.backend as K\n",
    "\n",
    "import editdistance  # For digit error rate\n",
    "import keras\n",
    "import librosa\n",
    "import numpy as np\n",
    "import os\n",
    "\n",
    "from fwk import dataset, stage, acoustic\n",
    "\n",
    "dset = dataset.Dataset()\n",
    "dset.get_from(\"datasets/clarin-long/data\")\n",
    "dset.select_first(9000)\n",
    "am = acoustic.MappingGenerator([\n",
    "    stage.Window(512, 512),\n",
    "    stage.LogPowerFourier()\n",
    "]).get(dset)\n",
    "dset.generate(am, [\"clean\", \"transcripts\"])"
   ]
  },
  {
   "cell_type": "code",
   "execution_count": 5,
   "metadata": {},
   "outputs": [],
   "source": [
    "X = dset.clean\n",
    "Y = dset.transcriptions\n",
    "\n",
    "MEAN = X.mean()\n",
    "STD = X.std()\n",
    "\n",
    "valid = np.random.random(X.shape[0]) > 0.9"
   ]
  },
  {
   "cell_type": "code",
   "execution_count": 9,
   "metadata": {
    "scrolled": false
   },
   "outputs": [
    {
     "name": "stdout",
     "output_type": "stream",
     "text": [
      "(9000, 497, 257) (9000, 299) (9000,) (9000,)\n",
      "[(9000, 497, 257), (9000, 299), (9000, 1), (9000, 1)]\n",
      "__________________________________________________________________________________________________\n",
      "Layer (type)                    Output Shape         Param #     Connected to                     \n",
      "==================================================================================================\n",
      "input_3 (InputLayer)            (None, None, 257)    0                                            \n",
      "__________________________________________________________________________________________________\n",
      "lambda_3 (Lambda)               (None, None, 257)    0           input_3[0][0]                    \n",
      "__________________________________________________________________________________________________\n",
      "lambda_4 (Lambda)               (None, None, 257, 1) 0           lambda_3[0][0]                   \n",
      "__________________________________________________________________________________________________\n",
      "conv2d_3 (Conv2D)               (None, None, 257, 12 72          lambda_4[0][0]                   \n",
      "__________________________________________________________________________________________________\n",
      "leaky_re_lu_12 (LeakyReLU)      (None, None, 257, 12 0           conv2d_3[0][0]                   \n",
      "__________________________________________________________________________________________________\n",
      "batch_normalization_12 (BatchNo (None, None, 257, 12 48          leaky_re_lu_12[0][0]             \n",
      "__________________________________________________________________________________________________\n",
      "conv2d_4 (Conv2D)               (None, None, 257, 16 976         batch_normalization_12[0][0]     \n",
      "__________________________________________________________________________________________________\n",
      "leaky_re_lu_13 (LeakyReLU)      (None, None, 257, 16 0           conv2d_4[0][0]                   \n",
      "__________________________________________________________________________________________________\n",
      "batch_normalization_13 (BatchNo (None, None, 257, 16 64          leaky_re_lu_13[0][0]             \n",
      "__________________________________________________________________________________________________\n",
      "time_distributed_2 (TimeDistrib (None, None, 4112)   0           batch_normalization_13[0][0]     \n",
      "__________________________________________________________________________________________________\n",
      "conv1d_2 (Conv1D)               (None, None, 512)    10527232    time_distributed_2[0][0]         \n",
      "__________________________________________________________________________________________________\n",
      "leaky_re_lu_14 (LeakyReLU)      (None, None, 512)    0           conv1d_2[0][0]                   \n",
      "__________________________________________________________________________________________________\n",
      "batch_normalization_14 (BatchNo (None, None, 512)    2048        leaky_re_lu_14[0][0]             \n",
      "__________________________________________________________________________________________________\n",
      "bidirectional_8 (Bidirectional) (None, None, 512)    1181184     batch_normalization_14[0][0]     \n",
      "__________________________________________________________________________________________________\n",
      "leaky_re_lu_15 (LeakyReLU)      (None, None, 512)    0           bidirectional_8[0][0]            \n",
      "__________________________________________________________________________________________________\n",
      "batch_normalization_15 (BatchNo (None, None, 512)    2048        leaky_re_lu_15[0][0]             \n",
      "__________________________________________________________________________________________________\n",
      "bidirectional_9 (Bidirectional) (None, None, 512)    1181184     batch_normalization_15[0][0]     \n",
      "__________________________________________________________________________________________________\n",
      "leaky_re_lu_16 (LeakyReLU)      (None, None, 512)    0           bidirectional_9[0][0]            \n",
      "__________________________________________________________________________________________________\n",
      "batch_normalization_16 (BatchNo (None, None, 512)    2048        leaky_re_lu_16[0][0]             \n",
      "__________________________________________________________________________________________________\n",
      "bidirectional_10 (Bidirectional (None, None, 512)    1181184     batch_normalization_16[0][0]     \n",
      "__________________________________________________________________________________________________\n",
      "leaky_re_lu_17 (LeakyReLU)      (None, None, 512)    0           bidirectional_10[0][0]           \n",
      "__________________________________________________________________________________________________\n",
      "batch_normalization_17 (BatchNo (None, None, 512)    2048        leaky_re_lu_17[0][0]             \n",
      "__________________________________________________________________________________________________\n",
      "bidirectional_11 (Bidirectional (None, None, 512)    1181184     batch_normalization_17[0][0]     \n",
      "__________________________________________________________________________________________________\n",
      "leaky_re_lu_18 (LeakyReLU)      (None, None, 512)    0           bidirectional_11[0][0]           \n",
      "__________________________________________________________________________________________________\n",
      "batch_normalization_18 (BatchNo (None, None, 512)    2048        leaky_re_lu_18[0][0]             \n",
      "__________________________________________________________________________________________________\n",
      "bidirectional_12 (Bidirectional (None, None, 512)    1181184     batch_normalization_18[0][0]     \n",
      "__________________________________________________________________________________________________\n",
      "leaky_re_lu_19 (LeakyReLU)      (None, None, 512)    0           bidirectional_12[0][0]           \n",
      "__________________________________________________________________________________________________\n",
      "batch_normalization_19 (BatchNo (None, None, 512)    2048        leaky_re_lu_19[0][0]             \n",
      "__________________________________________________________________________________________________\n",
      "bidirectional_13 (Bidirectional (None, None, 512)    1181184     batch_normalization_19[0][0]     \n",
      "__________________________________________________________________________________________________\n",
      "leaky_re_lu_20 (LeakyReLU)      (None, None, 512)    0           bidirectional_13[0][0]           \n",
      "__________________________________________________________________________________________________\n",
      "batch_normalization_20 (BatchNo (None, None, 512)    2048        leaky_re_lu_20[0][0]             \n",
      "__________________________________________________________________________________________________\n",
      "bidirectional_14 (Bidirectional (None, None, 512)    1181184     batch_normalization_20[0][0]     \n",
      "__________________________________________________________________________________________________\n",
      "leaky_re_lu_21 (LeakyReLU)      (None, None, 512)    0           bidirectional_14[0][0]           \n",
      "__________________________________________________________________________________________________\n",
      "batch_normalization_21 (BatchNo (None, None, 512)    2048        leaky_re_lu_21[0][0]             \n",
      "__________________________________________________________________________________________________\n",
      "dense_3 (Dense)                 (None, None, 1024)   525312      batch_normalization_21[0][0]     \n",
      "__________________________________________________________________________________________________\n",
      "leaky_re_lu_22 (LeakyReLU)      (None, None, 1024)   0           dense_3[0][0]                    \n",
      "__________________________________________________________________________________________________\n",
      "batch_normalization_22 (BatchNo (None, None, 1024)   4096        leaky_re_lu_22[0][0]             \n",
      "__________________________________________________________________________________________________\n",
      "input_4 (InputLayer)            (None, 299)          0                                            \n",
      "__________________________________________________________________________________________________\n",
      "dense_4 (Dense)                 (None, None, 38)     38950       batch_normalization_22[0][0]     \n",
      "__________________________________________________________________________________________________\n",
      "input_length (InputLayer)       (None, 1)            0                                            \n",
      "__________________________________________________________________________________________________\n",
      "label_length (InputLayer)       (None, 1)            0                                            \n",
      "__________________________________________________________________________________________________\n",
      "ctc (Lambda)                    (None, 1)            0           input_4[0][0]                    \n",
      "                                                                 dense_4[0][0]                    \n",
      "                                                                 input_length[0][0]               \n",
      "                                                                 label_length[0][0]               \n",
      "==================================================================================================\n",
      "Total params: 19,381,422\n",
      "Trainable params: 19,371,126\n",
      "Non-trainable params: 10,296\n",
      "__________________________________________________________________________________________________\n"
     ]
    },
    {
     "name": "stdout",
     "output_type": "stream",
     "text": [
      "Train on 8119 samples, validate on 881 samples\n",
      "Epoch 1/100\n"
     ]
    },
    {
     "ename": "InvalidArgumentError",
     "evalue": "Not enough time for target transition sequence (required: 82, available: 73)0You can turn this error into a warning by using the flag ignore_longer_outputs_than_inputs\n\t [[node ctc_1/CTCLoss (defined at /venv/lib/python3.5/site-packages/keras/backend/tensorflow_backend.py:3950)  = CTCLoss[_class=[\"loc:@training_1/Adam/gradients/ctc_1/CTCLoss_grad/mul\"], ctc_merge_repeated=true, ignore_longer_outputs_than_inputs=false, preprocess_collapse_repeated=false, _device=\"/job:localhost/replica:0/task:0/device:CPU:0\"](ctc_1/Log/_1969, ctc_1/ToInt64/_1971, ctc_1/ToInt32_2/_1973, ctc_1/ToInt32_1/_1975)]]\n\nCaused by op 'ctc_1/CTCLoss', defined at:\n  File \"/usr/lib/python3.5/runpy.py\", line 184, in _run_module_as_main\n    \"__main__\", mod_spec)\n  File \"/usr/lib/python3.5/runpy.py\", line 85, in _run_code\n    exec(code, run_globals)\n  File \"/venv/lib/python3.5/site-packages/ipykernel_launcher.py\", line 16, in <module>\n    app.launch_new_instance()\n  File \"/venv/lib/python3.5/site-packages/traitlets/config/application.py\", line 658, in launch_instance\n    app.start()\n  File \"/venv/lib/python3.5/site-packages/ipykernel/kernelapp.py\", line 486, in start\n    self.io_loop.start()\n  File \"/venv/lib/python3.5/site-packages/tornado/platform/asyncio.py\", line 132, in start\n    self.asyncio_loop.run_forever()\n  File \"/usr/lib/python3.5/asyncio/base_events.py\", line 345, in run_forever\n    self._run_once()\n  File \"/usr/lib/python3.5/asyncio/base_events.py\", line 1312, in _run_once\n    handle._run()\n  File \"/usr/lib/python3.5/asyncio/events.py\", line 125, in _run\n    self._callback(*self._args)\n  File \"/venv/lib/python3.5/site-packages/tornado/platform/asyncio.py\", line 122, in _handle_events\n    handler_func(fileobj, events)\n  File \"/venv/lib/python3.5/site-packages/tornado/stack_context.py\", line 300, in null_wrapper\n    return fn(*args, **kwargs)\n  File \"/venv/lib/python3.5/site-packages/zmq/eventloop/zmqstream.py\", line 450, in _handle_events\n    self._handle_recv()\n  File \"/venv/lib/python3.5/site-packages/zmq/eventloop/zmqstream.py\", line 480, in _handle_recv\n    self._run_callback(callback, msg)\n  File \"/venv/lib/python3.5/site-packages/zmq/eventloop/zmqstream.py\", line 432, in _run_callback\n    callback(*args, **kwargs)\n  File \"/venv/lib/python3.5/site-packages/tornado/stack_context.py\", line 300, in null_wrapper\n    return fn(*args, **kwargs)\n  File \"/venv/lib/python3.5/site-packages/ipykernel/kernelbase.py\", line 283, in dispatcher\n    return self.dispatch_shell(stream, msg)\n  File \"/venv/lib/python3.5/site-packages/ipykernel/kernelbase.py\", line 233, in dispatch_shell\n    handler(stream, idents, msg)\n  File \"/venv/lib/python3.5/site-packages/ipykernel/kernelbase.py\", line 399, in execute_request\n    user_expressions, allow_stdin)\n  File \"/venv/lib/python3.5/site-packages/ipykernel/ipkernel.py\", line 208, in do_execute\n    res = shell.run_cell(code, store_history=store_history, silent=silent)\n  File \"/venv/lib/python3.5/site-packages/ipykernel/zmqshell.py\", line 537, in run_cell\n    return super(ZMQInteractiveShell, self).run_cell(*args, **kwargs)\n  File \"/venv/lib/python3.5/site-packages/IPython/core/interactiveshell.py\", line 2728, in run_cell\n    interactivity=interactivity, compiler=compiler, result=result)\n  File \"/venv/lib/python3.5/site-packages/IPython/core/interactiveshell.py\", line 2850, in run_ast_nodes\n    if self.run_code(code, result):\n  File \"/venv/lib/python3.5/site-packages/IPython/core/interactiveshell.py\", line 2910, in run_code\n    exec(code_obj, self.user_global_ns, self.user_ns)\n  File \"<ipython-input-9-cb7555a70aca>\", line 111, in <module>\n    trn, predict = mk_model(data[1].shape[1])\n  File \"<ipython-input-9-cb7555a70aca>\", line 66, in mk_model\n    loss_lambda = Lambda(lambda args:ctc_batch_cost(*args), output_shape=(1,), name='ctc')([label_input, layer_15, input_length, label_length])\n  File \"/venv/lib/python3.5/site-packages/keras/engine/topology.py\", line 619, in __call__\n    output = self.call(inputs, **kwargs)\n  File \"/venv/lib/python3.5/site-packages/keras/layers/core.py\", line 663, in call\n    return self.function(inputs, **arguments)\n  File \"<ipython-input-9-cb7555a70aca>\", line 66, in <lambda>\n    loss_lambda = Lambda(lambda args:ctc_batch_cost(*args), output_shape=(1,), name='ctc')([label_input, layer_15, input_length, label_length])\n  File \"/venv/lib/python3.5/site-packages/keras/backend/tensorflow_backend.py\", line 3950, in ctc_batch_cost\n    sequence_length=input_length), 1)\n  File \"/venv/lib/python3.5/site-packages/tensorflow/python/ops/ctc_ops.py\", line 158, in ctc_loss\n    ignore_longer_outputs_than_inputs=ignore_longer_outputs_than_inputs)\n  File \"/venv/lib/python3.5/site-packages/tensorflow/python/ops/gen_ctc_ops.py\", line 286, in ctc_loss\n    name=name)\n  File \"/venv/lib/python3.5/site-packages/tensorflow/python/framework/op_def_library.py\", line 787, in _apply_op_helper\n    op_def=op_def)\n  File \"/venv/lib/python3.5/site-packages/tensorflow/python/util/deprecation.py\", line 488, in new_func\n    return func(*args, **kwargs)\n  File \"/venv/lib/python3.5/site-packages/tensorflow/python/framework/ops.py\", line 3274, in create_op\n    op_def=op_def)\n  File \"/venv/lib/python3.5/site-packages/tensorflow/python/framework/ops.py\", line 1770, in __init__\n    self._traceback = tf_stack.extract_stack()\n\nInvalidArgumentError (see above for traceback): Not enough time for target transition sequence (required: 82, available: 73)0You can turn this error into a warning by using the flag ignore_longer_outputs_than_inputs\n\t [[node ctc_1/CTCLoss (defined at /venv/lib/python3.5/site-packages/keras/backend/tensorflow_backend.py:3950)  = CTCLoss[_class=[\"loc:@training_1/Adam/gradients/ctc_1/CTCLoss_grad/mul\"], ctc_merge_repeated=true, ignore_longer_outputs_than_inputs=false, preprocess_collapse_repeated=false, _device=\"/job:localhost/replica:0/task:0/device:CPU:0\"](ctc_1/Log/_1969, ctc_1/ToInt64/_1971, ctc_1/ToInt32_2/_1973, ctc_1/ToInt32_1/_1975)]]\n",
     "output_type": "error",
     "traceback": [
      "\u001b[0;31m---------------------------------------------------------------------------\u001b[0m",
      "\u001b[0;31mInvalidArgumentError\u001b[0m                      Traceback (most recent call last)",
      "\u001b[0;32m/venv/lib/python3.5/site-packages/tensorflow/python/client/session.py\u001b[0m in \u001b[0;36m_do_call\u001b[0;34m(self, fn, *args)\u001b[0m\n\u001b[1;32m   1333\u001b[0m     \u001b[0;32mtry\u001b[0m\u001b[0;34m:\u001b[0m\u001b[0;34m\u001b[0m\u001b[0m\n\u001b[0;32m-> 1334\u001b[0;31m       \u001b[0;32mreturn\u001b[0m \u001b[0mfn\u001b[0m\u001b[0;34m(\u001b[0m\u001b[0;34m*\u001b[0m\u001b[0margs\u001b[0m\u001b[0;34m)\u001b[0m\u001b[0;34m\u001b[0m\u001b[0m\n\u001b[0m\u001b[1;32m   1335\u001b[0m     \u001b[0;32mexcept\u001b[0m \u001b[0merrors\u001b[0m\u001b[0;34m.\u001b[0m\u001b[0mOpError\u001b[0m \u001b[0;32mas\u001b[0m \u001b[0me\u001b[0m\u001b[0;34m:\u001b[0m\u001b[0;34m\u001b[0m\u001b[0m\n",
      "\u001b[0;32m/venv/lib/python3.5/site-packages/tensorflow/python/client/session.py\u001b[0m in \u001b[0;36m_run_fn\u001b[0;34m(feed_dict, fetch_list, target_list, options, run_metadata)\u001b[0m\n\u001b[1;32m   1318\u001b[0m       return self._call_tf_sessionrun(\n\u001b[0;32m-> 1319\u001b[0;31m           options, feed_dict, fetch_list, target_list, run_metadata)\n\u001b[0m\u001b[1;32m   1320\u001b[0m \u001b[0;34m\u001b[0m\u001b[0m\n",
      "\u001b[0;32m/venv/lib/python3.5/site-packages/tensorflow/python/client/session.py\u001b[0m in \u001b[0;36m_call_tf_sessionrun\u001b[0;34m(self, options, feed_dict, fetch_list, target_list, run_metadata)\u001b[0m\n\u001b[1;32m   1406\u001b[0m         \u001b[0mself\u001b[0m\u001b[0;34m.\u001b[0m\u001b[0m_session\u001b[0m\u001b[0;34m,\u001b[0m \u001b[0moptions\u001b[0m\u001b[0;34m,\u001b[0m \u001b[0mfeed_dict\u001b[0m\u001b[0;34m,\u001b[0m \u001b[0mfetch_list\u001b[0m\u001b[0;34m,\u001b[0m \u001b[0mtarget_list\u001b[0m\u001b[0;34m,\u001b[0m\u001b[0;34m\u001b[0m\u001b[0m\n\u001b[0;32m-> 1407\u001b[0;31m         run_metadata)\n\u001b[0m\u001b[1;32m   1408\u001b[0m \u001b[0;34m\u001b[0m\u001b[0m\n",
      "\u001b[0;31mInvalidArgumentError\u001b[0m: Not enough time for target transition sequence (required: 82, available: 73)0You can turn this error into a warning by using the flag ignore_longer_outputs_than_inputs\n\t [[{{node ctc_1/CTCLoss}} = CTCLoss[_class=[\"loc:@training_1/Adam/gradients/ctc_1/CTCLoss_grad/mul\"], ctc_merge_repeated=true, ignore_longer_outputs_than_inputs=false, preprocess_collapse_repeated=false, _device=\"/job:localhost/replica:0/task:0/device:CPU:0\"](ctc_1/Log/_1969, ctc_1/ToInt64/_1971, ctc_1/ToInt32_2/_1973, ctc_1/ToInt32_1/_1975)]]",
      "\nDuring handling of the above exception, another exception occurred:\n",
      "\u001b[0;31mInvalidArgumentError\u001b[0m                      Traceback (most recent call last)",
      "\u001b[0;32m<ipython-input-9-cb7555a70aca>\u001b[0m in \u001b[0;36m<module>\u001b[0;34m()\u001b[0m\n\u001b[1;32m    110\u001b[0m     \u001b[0mprint\u001b[0m\u001b[0;34m(\u001b[0m\u001b[0mlist\u001b[0m\u001b[0;34m(\u001b[0m\u001b[0mmap\u001b[0m\u001b[0;34m(\u001b[0m\u001b[0;32mlambda\u001b[0m \u001b[0mx\u001b[0m\u001b[0;34m:\u001b[0m\u001b[0mx\u001b[0m\u001b[0;34m.\u001b[0m\u001b[0mshape\u001b[0m\u001b[0;34m,\u001b[0m \u001b[0mdata\u001b[0m\u001b[0;34m)\u001b[0m\u001b[0;34m)\u001b[0m\u001b[0;34m)\u001b[0m\u001b[0;34m\u001b[0m\u001b[0m\n\u001b[1;32m    111\u001b[0m     \u001b[0mtrn\u001b[0m\u001b[0;34m,\u001b[0m \u001b[0mpredict\u001b[0m \u001b[0;34m=\u001b[0m \u001b[0mmk_model\u001b[0m\u001b[0;34m(\u001b[0m\u001b[0mdata\u001b[0m\u001b[0;34m[\u001b[0m\u001b[0;36m1\u001b[0m\u001b[0;34m]\u001b[0m\u001b[0;34m.\u001b[0m\u001b[0mshape\u001b[0m\u001b[0;34m[\u001b[0m\u001b[0;36m1\u001b[0m\u001b[0;34m]\u001b[0m\u001b[0;34m)\u001b[0m\u001b[0;34m\u001b[0m\u001b[0m\n\u001b[0;32m--> 112\u001b[0;31m     \u001b[0mtrain\u001b[0m\u001b[0;34m(\u001b[0m\u001b[0mtrn\u001b[0m\u001b[0;34m,\u001b[0m \u001b[0;34m*\u001b[0m\u001b[0mdata\u001b[0m\u001b[0;34m,\u001b[0m \u001b[0mepochs\u001b[0m\u001b[0;34m=\u001b[0m\u001b[0;36m100\u001b[0m\u001b[0;34m)\u001b[0m \u001b[0;31m# at 300 it makes sensible predictions\u001b[0m\u001b[0;34m\u001b[0m\u001b[0m\n\u001b[0m",
      "\u001b[0;32m<ipython-input-9-cb7555a70aca>\u001b[0m in \u001b[0;36mtrain\u001b[0;34m(model, trainX, trainy, trainXl, trainyl, epochs)\u001b[0m\n\u001b[1;32m     75\u001b[0m     \u001b[0mmodel\u001b[0m\u001b[0;34m.\u001b[0m\u001b[0mcompile\u001b[0m\u001b[0;34m(\u001b[0m\u001b[0mloss\u001b[0m\u001b[0;34m=\u001b[0m\u001b[0;34m{\u001b[0m\u001b[0;34m'ctc'\u001b[0m\u001b[0;34m:\u001b[0m \u001b[0;32mlambda\u001b[0m \u001b[0my_true\u001b[0m\u001b[0;34m,\u001b[0m \u001b[0my_pred\u001b[0m\u001b[0;34m:\u001b[0m \u001b[0my_pred\u001b[0m\u001b[0;34m}\u001b[0m\u001b[0;34m,\u001b[0m \u001b[0moptimizer\u001b[0m\u001b[0;34m=\u001b[0m\u001b[0moptimizer\u001b[0m\u001b[0;34m)\u001b[0m\u001b[0;34m\u001b[0m\u001b[0m\n\u001b[1;32m     76\u001b[0m     return model.fit([trainX[~valid], trainy[~valid], trainXl[~valid], trainyl[~valid]], np.zeros(trainX[~valid].shape[0]), epochs = epochs,\n\u001b[0;32m---> 77\u001b[0;31m                      batch_size = 32, callbacks=[mc, logger, StopOnConvergence(4)], validation_data=[[trainX[valid], trainy[valid], trainXl[valid], trainyl[valid]], np.zeros(trainX[valid].shape[0])])\n\u001b[0m\u001b[1;32m     78\u001b[0m \u001b[0;34m\u001b[0m\u001b[0m\n\u001b[1;32m     79\u001b[0m \u001b[0;32mdef\u001b[0m \u001b[0mvalidate\u001b[0m\u001b[0;34m(\u001b[0m\u001b[0mpredictions\u001b[0m\u001b[0;34m,\u001b[0m \u001b[0mvalid_length\u001b[0m\u001b[0;34m,\u001b[0m \u001b[0mgroundtruth\u001b[0m\u001b[0;34m,\u001b[0m \u001b[0mtarget_length\u001b[0m\u001b[0;34m)\u001b[0m\u001b[0;34m:\u001b[0m\u001b[0;34m\u001b[0m\u001b[0m\n",
      "\u001b[0;32m/venv/lib/python3.5/site-packages/keras/engine/training.py\u001b[0m in \u001b[0;36mfit\u001b[0;34m(self, x, y, batch_size, epochs, verbose, callbacks, validation_split, validation_data, shuffle, class_weight, sample_weight, initial_epoch, steps_per_epoch, validation_steps, **kwargs)\u001b[0m\n\u001b[1;32m   1703\u001b[0m                               \u001b[0minitial_epoch\u001b[0m\u001b[0;34m=\u001b[0m\u001b[0minitial_epoch\u001b[0m\u001b[0;34m,\u001b[0m\u001b[0;34m\u001b[0m\u001b[0m\n\u001b[1;32m   1704\u001b[0m                               \u001b[0msteps_per_epoch\u001b[0m\u001b[0;34m=\u001b[0m\u001b[0msteps_per_epoch\u001b[0m\u001b[0;34m,\u001b[0m\u001b[0;34m\u001b[0m\u001b[0m\n\u001b[0;32m-> 1705\u001b[0;31m                               validation_steps=validation_steps)\n\u001b[0m\u001b[1;32m   1706\u001b[0m \u001b[0;34m\u001b[0m\u001b[0m\n\u001b[1;32m   1707\u001b[0m     def evaluate(self, x=None, y=None,\n",
      "\u001b[0;32m/venv/lib/python3.5/site-packages/keras/engine/training.py\u001b[0m in \u001b[0;36m_fit_loop\u001b[0;34m(self, f, ins, out_labels, batch_size, epochs, verbose, callbacks, val_f, val_ins, shuffle, callback_metrics, initial_epoch, steps_per_epoch, validation_steps)\u001b[0m\n\u001b[1;32m   1233\u001b[0m                         \u001b[0mins_batch\u001b[0m\u001b[0;34m[\u001b[0m\u001b[0mi\u001b[0m\u001b[0;34m]\u001b[0m \u001b[0;34m=\u001b[0m \u001b[0mins_batch\u001b[0m\u001b[0;34m[\u001b[0m\u001b[0mi\u001b[0m\u001b[0;34m]\u001b[0m\u001b[0;34m.\u001b[0m\u001b[0mtoarray\u001b[0m\u001b[0;34m(\u001b[0m\u001b[0;34m)\u001b[0m\u001b[0;34m\u001b[0m\u001b[0m\n\u001b[1;32m   1234\u001b[0m \u001b[0;34m\u001b[0m\u001b[0m\n\u001b[0;32m-> 1235\u001b[0;31m                     \u001b[0mouts\u001b[0m \u001b[0;34m=\u001b[0m \u001b[0mf\u001b[0m\u001b[0;34m(\u001b[0m\u001b[0mins_batch\u001b[0m\u001b[0;34m)\u001b[0m\u001b[0;34m\u001b[0m\u001b[0m\n\u001b[0m\u001b[1;32m   1236\u001b[0m                     \u001b[0;32mif\u001b[0m \u001b[0;32mnot\u001b[0m \u001b[0misinstance\u001b[0m\u001b[0;34m(\u001b[0m\u001b[0mouts\u001b[0m\u001b[0;34m,\u001b[0m \u001b[0mlist\u001b[0m\u001b[0;34m)\u001b[0m\u001b[0;34m:\u001b[0m\u001b[0;34m\u001b[0m\u001b[0m\n\u001b[1;32m   1237\u001b[0m                         \u001b[0mouts\u001b[0m \u001b[0;34m=\u001b[0m \u001b[0;34m[\u001b[0m\u001b[0mouts\u001b[0m\u001b[0;34m]\u001b[0m\u001b[0;34m\u001b[0m\u001b[0m\n",
      "\u001b[0;32m/venv/lib/python3.5/site-packages/keras/backend/tensorflow_backend.py\u001b[0m in \u001b[0;36m__call__\u001b[0;34m(self, inputs)\u001b[0m\n\u001b[1;32m   2476\u001b[0m         \u001b[0msession\u001b[0m \u001b[0;34m=\u001b[0m \u001b[0mget_session\u001b[0m\u001b[0;34m(\u001b[0m\u001b[0;34m)\u001b[0m\u001b[0;34m\u001b[0m\u001b[0m\n\u001b[1;32m   2477\u001b[0m         updated = session.run(fetches=fetches, feed_dict=feed_dict,\n\u001b[0;32m-> 2478\u001b[0;31m                               **self.session_kwargs)\n\u001b[0m\u001b[1;32m   2479\u001b[0m         \u001b[0;32mreturn\u001b[0m \u001b[0mupdated\u001b[0m\u001b[0;34m[\u001b[0m\u001b[0;34m:\u001b[0m\u001b[0mlen\u001b[0m\u001b[0;34m(\u001b[0m\u001b[0mself\u001b[0m\u001b[0;34m.\u001b[0m\u001b[0moutputs\u001b[0m\u001b[0;34m)\u001b[0m\u001b[0;34m]\u001b[0m\u001b[0;34m\u001b[0m\u001b[0m\n\u001b[1;32m   2480\u001b[0m \u001b[0;34m\u001b[0m\u001b[0m\n",
      "\u001b[0;32m/venv/lib/python3.5/site-packages/tensorflow/python/client/session.py\u001b[0m in \u001b[0;36mrun\u001b[0;34m(self, fetches, feed_dict, options, run_metadata)\u001b[0m\n\u001b[1;32m    927\u001b[0m     \u001b[0;32mtry\u001b[0m\u001b[0;34m:\u001b[0m\u001b[0;34m\u001b[0m\u001b[0m\n\u001b[1;32m    928\u001b[0m       result = self._run(None, fetches, feed_dict, options_ptr,\n\u001b[0;32m--> 929\u001b[0;31m                          run_metadata_ptr)\n\u001b[0m\u001b[1;32m    930\u001b[0m       \u001b[0;32mif\u001b[0m \u001b[0mrun_metadata\u001b[0m\u001b[0;34m:\u001b[0m\u001b[0;34m\u001b[0m\u001b[0m\n\u001b[1;32m    931\u001b[0m         \u001b[0mproto_data\u001b[0m \u001b[0;34m=\u001b[0m \u001b[0mtf_session\u001b[0m\u001b[0;34m.\u001b[0m\u001b[0mTF_GetBuffer\u001b[0m\u001b[0;34m(\u001b[0m\u001b[0mrun_metadata_ptr\u001b[0m\u001b[0;34m)\u001b[0m\u001b[0;34m\u001b[0m\u001b[0m\n",
      "\u001b[0;32m/venv/lib/python3.5/site-packages/tensorflow/python/client/session.py\u001b[0m in \u001b[0;36m_run\u001b[0;34m(self, handle, fetches, feed_dict, options, run_metadata)\u001b[0m\n\u001b[1;32m   1150\u001b[0m     \u001b[0;32mif\u001b[0m \u001b[0mfinal_fetches\u001b[0m \u001b[0;32mor\u001b[0m \u001b[0mfinal_targets\u001b[0m \u001b[0;32mor\u001b[0m \u001b[0;34m(\u001b[0m\u001b[0mhandle\u001b[0m \u001b[0;32mand\u001b[0m \u001b[0mfeed_dict_tensor\u001b[0m\u001b[0;34m)\u001b[0m\u001b[0;34m:\u001b[0m\u001b[0;34m\u001b[0m\u001b[0m\n\u001b[1;32m   1151\u001b[0m       results = self._do_run(handle, final_targets, final_fetches,\n\u001b[0;32m-> 1152\u001b[0;31m                              feed_dict_tensor, options, run_metadata)\n\u001b[0m\u001b[1;32m   1153\u001b[0m     \u001b[0;32melse\u001b[0m\u001b[0;34m:\u001b[0m\u001b[0;34m\u001b[0m\u001b[0m\n\u001b[1;32m   1154\u001b[0m       \u001b[0mresults\u001b[0m \u001b[0;34m=\u001b[0m \u001b[0;34m[\u001b[0m\u001b[0;34m]\u001b[0m\u001b[0;34m\u001b[0m\u001b[0m\n",
      "\u001b[0;32m/venv/lib/python3.5/site-packages/tensorflow/python/client/session.py\u001b[0m in \u001b[0;36m_do_run\u001b[0;34m(self, handle, target_list, fetch_list, feed_dict, options, run_metadata)\u001b[0m\n\u001b[1;32m   1326\u001b[0m     \u001b[0;32mif\u001b[0m \u001b[0mhandle\u001b[0m \u001b[0;32mis\u001b[0m \u001b[0;32mNone\u001b[0m\u001b[0;34m:\u001b[0m\u001b[0;34m\u001b[0m\u001b[0m\n\u001b[1;32m   1327\u001b[0m       return self._do_call(_run_fn, feeds, fetches, targets, options,\n\u001b[0;32m-> 1328\u001b[0;31m                            run_metadata)\n\u001b[0m\u001b[1;32m   1329\u001b[0m     \u001b[0;32melse\u001b[0m\u001b[0;34m:\u001b[0m\u001b[0;34m\u001b[0m\u001b[0m\n\u001b[1;32m   1330\u001b[0m       \u001b[0;32mreturn\u001b[0m \u001b[0mself\u001b[0m\u001b[0;34m.\u001b[0m\u001b[0m_do_call\u001b[0m\u001b[0;34m(\u001b[0m\u001b[0m_prun_fn\u001b[0m\u001b[0;34m,\u001b[0m \u001b[0mhandle\u001b[0m\u001b[0;34m,\u001b[0m \u001b[0mfeeds\u001b[0m\u001b[0;34m,\u001b[0m \u001b[0mfetches\u001b[0m\u001b[0;34m)\u001b[0m\u001b[0;34m\u001b[0m\u001b[0m\n",
      "\u001b[0;32m/venv/lib/python3.5/site-packages/tensorflow/python/client/session.py\u001b[0m in \u001b[0;36m_do_call\u001b[0;34m(self, fn, *args)\u001b[0m\n\u001b[1;32m   1346\u001b[0m           \u001b[0;32mpass\u001b[0m\u001b[0;34m\u001b[0m\u001b[0m\n\u001b[1;32m   1347\u001b[0m       \u001b[0mmessage\u001b[0m \u001b[0;34m=\u001b[0m \u001b[0merror_interpolation\u001b[0m\u001b[0;34m.\u001b[0m\u001b[0minterpolate\u001b[0m\u001b[0;34m(\u001b[0m\u001b[0mmessage\u001b[0m\u001b[0;34m,\u001b[0m \u001b[0mself\u001b[0m\u001b[0;34m.\u001b[0m\u001b[0m_graph\u001b[0m\u001b[0;34m)\u001b[0m\u001b[0;34m\u001b[0m\u001b[0m\n\u001b[0;32m-> 1348\u001b[0;31m       \u001b[0;32mraise\u001b[0m \u001b[0mtype\u001b[0m\u001b[0;34m(\u001b[0m\u001b[0me\u001b[0m\u001b[0;34m)\u001b[0m\u001b[0;34m(\u001b[0m\u001b[0mnode_def\u001b[0m\u001b[0;34m,\u001b[0m \u001b[0mop\u001b[0m\u001b[0;34m,\u001b[0m \u001b[0mmessage\u001b[0m\u001b[0;34m)\u001b[0m\u001b[0;34m\u001b[0m\u001b[0m\n\u001b[0m\u001b[1;32m   1349\u001b[0m \u001b[0;34m\u001b[0m\u001b[0m\n\u001b[1;32m   1350\u001b[0m   \u001b[0;32mdef\u001b[0m \u001b[0m_extend_graph\u001b[0m\u001b[0;34m(\u001b[0m\u001b[0mself\u001b[0m\u001b[0;34m)\u001b[0m\u001b[0;34m:\u001b[0m\u001b[0;34m\u001b[0m\u001b[0m\n",
      "\u001b[0;31mInvalidArgumentError\u001b[0m: Not enough time for target transition sequence (required: 82, available: 73)0You can turn this error into a warning by using the flag ignore_longer_outputs_than_inputs\n\t [[node ctc_1/CTCLoss (defined at /venv/lib/python3.5/site-packages/keras/backend/tensorflow_backend.py:3950)  = CTCLoss[_class=[\"loc:@training_1/Adam/gradients/ctc_1/CTCLoss_grad/mul\"], ctc_merge_repeated=true, ignore_longer_outputs_than_inputs=false, preprocess_collapse_repeated=false, _device=\"/job:localhost/replica:0/task:0/device:CPU:0\"](ctc_1/Log/_1969, ctc_1/ToInt64/_1971, ctc_1/ToInt32_2/_1973, ctc_1/ToInt32_1/_1975)]]\n\nCaused by op 'ctc_1/CTCLoss', defined at:\n  File \"/usr/lib/python3.5/runpy.py\", line 184, in _run_module_as_main\n    \"__main__\", mod_spec)\n  File \"/usr/lib/python3.5/runpy.py\", line 85, in _run_code\n    exec(code, run_globals)\n  File \"/venv/lib/python3.5/site-packages/ipykernel_launcher.py\", line 16, in <module>\n    app.launch_new_instance()\n  File \"/venv/lib/python3.5/site-packages/traitlets/config/application.py\", line 658, in launch_instance\n    app.start()\n  File \"/venv/lib/python3.5/site-packages/ipykernel/kernelapp.py\", line 486, in start\n    self.io_loop.start()\n  File \"/venv/lib/python3.5/site-packages/tornado/platform/asyncio.py\", line 132, in start\n    self.asyncio_loop.run_forever()\n  File \"/usr/lib/python3.5/asyncio/base_events.py\", line 345, in run_forever\n    self._run_once()\n  File \"/usr/lib/python3.5/asyncio/base_events.py\", line 1312, in _run_once\n    handle._run()\n  File \"/usr/lib/python3.5/asyncio/events.py\", line 125, in _run\n    self._callback(*self._args)\n  File \"/venv/lib/python3.5/site-packages/tornado/platform/asyncio.py\", line 122, in _handle_events\n    handler_func(fileobj, events)\n  File \"/venv/lib/python3.5/site-packages/tornado/stack_context.py\", line 300, in null_wrapper\n    return fn(*args, **kwargs)\n  File \"/venv/lib/python3.5/site-packages/zmq/eventloop/zmqstream.py\", line 450, in _handle_events\n    self._handle_recv()\n  File \"/venv/lib/python3.5/site-packages/zmq/eventloop/zmqstream.py\", line 480, in _handle_recv\n    self._run_callback(callback, msg)\n  File \"/venv/lib/python3.5/site-packages/zmq/eventloop/zmqstream.py\", line 432, in _run_callback\n    callback(*args, **kwargs)\n  File \"/venv/lib/python3.5/site-packages/tornado/stack_context.py\", line 300, in null_wrapper\n    return fn(*args, **kwargs)\n  File \"/venv/lib/python3.5/site-packages/ipykernel/kernelbase.py\", line 283, in dispatcher\n    return self.dispatch_shell(stream, msg)\n  File \"/venv/lib/python3.5/site-packages/ipykernel/kernelbase.py\", line 233, in dispatch_shell\n    handler(stream, idents, msg)\n  File \"/venv/lib/python3.5/site-packages/ipykernel/kernelbase.py\", line 399, in execute_request\n    user_expressions, allow_stdin)\n  File \"/venv/lib/python3.5/site-packages/ipykernel/ipkernel.py\", line 208, in do_execute\n    res = shell.run_cell(code, store_history=store_history, silent=silent)\n  File \"/venv/lib/python3.5/site-packages/ipykernel/zmqshell.py\", line 537, in run_cell\n    return super(ZMQInteractiveShell, self).run_cell(*args, **kwargs)\n  File \"/venv/lib/python3.5/site-packages/IPython/core/interactiveshell.py\", line 2728, in run_cell\n    interactivity=interactivity, compiler=compiler, result=result)\n  File \"/venv/lib/python3.5/site-packages/IPython/core/interactiveshell.py\", line 2850, in run_ast_nodes\n    if self.run_code(code, result):\n  File \"/venv/lib/python3.5/site-packages/IPython/core/interactiveshell.py\", line 2910, in run_code\n    exec(code_obj, self.user_global_ns, self.user_ns)\n  File \"<ipython-input-9-cb7555a70aca>\", line 111, in <module>\n    trn, predict = mk_model(data[1].shape[1])\n  File \"<ipython-input-9-cb7555a70aca>\", line 66, in mk_model\n    loss_lambda = Lambda(lambda args:ctc_batch_cost(*args), output_shape=(1,), name='ctc')([label_input, layer_15, input_length, label_length])\n  File \"/venv/lib/python3.5/site-packages/keras/engine/topology.py\", line 619, in __call__\n    output = self.call(inputs, **kwargs)\n  File \"/venv/lib/python3.5/site-packages/keras/layers/core.py\", line 663, in call\n    return self.function(inputs, **arguments)\n  File \"<ipython-input-9-cb7555a70aca>\", line 66, in <lambda>\n    loss_lambda = Lambda(lambda args:ctc_batch_cost(*args), output_shape=(1,), name='ctc')([label_input, layer_15, input_length, label_length])\n  File \"/venv/lib/python3.5/site-packages/keras/backend/tensorflow_backend.py\", line 3950, in ctc_batch_cost\n    sequence_length=input_length), 1)\n  File \"/venv/lib/python3.5/site-packages/tensorflow/python/ops/ctc_ops.py\", line 158, in ctc_loss\n    ignore_longer_outputs_than_inputs=ignore_longer_outputs_than_inputs)\n  File \"/venv/lib/python3.5/site-packages/tensorflow/python/ops/gen_ctc_ops.py\", line 286, in ctc_loss\n    name=name)\n  File \"/venv/lib/python3.5/site-packages/tensorflow/python/framework/op_def_library.py\", line 787, in _apply_op_helper\n    op_def=op_def)\n  File \"/venv/lib/python3.5/site-packages/tensorflow/python/util/deprecation.py\", line 488, in new_func\n    return func(*args, **kwargs)\n  File \"/venv/lib/python3.5/site-packages/tensorflow/python/framework/ops.py\", line 3274, in create_op\n    op_def=op_def)\n  File \"/venv/lib/python3.5/site-packages/tensorflow/python/framework/ops.py\", line 1770, in __init__\n    self._traceback = tf_stack.extract_stack()\n\nInvalidArgumentError (see above for traceback): Not enough time for target transition sequence (required: 82, available: 73)0You can turn this error into a warning by using the flag ignore_longer_outputs_than_inputs\n\t [[node ctc_1/CTCLoss (defined at /venv/lib/python3.5/site-packages/keras/backend/tensorflow_backend.py:3950)  = CTCLoss[_class=[\"loc:@training_1/Adam/gradients/ctc_1/CTCLoss_grad/mul\"], ctc_merge_repeated=true, ignore_longer_outputs_than_inputs=false, preprocess_collapse_repeated=false, _device=\"/job:localhost/replica:0/task:0/device:CPU:0\"](ctc_1/Log/_1969, ctc_1/ToInt64/_1971, ctc_1/ToInt32_2/_1973, ctc_1/ToInt32_1/_1975)]]\n"
     ]
    }
   ],
   "source": [
    "mc = keras.callbacks.ModelCheckpoint('models/mfcc-ctc-{epoch:08d}-bigger.h5', \n",
    "                                     save_weights_only=False, period=5)\n",
    "\n",
    "from keras.constraints import max_norm\n",
    "\n",
    "class MyCallback(keras.callbacks.Callback):\n",
    "    def __init__(self, fname):\n",
    "        self.fname = fname\n",
    "        super(MyCallback, self).__init__()\n",
    "        \n",
    "    def on_epoch_end(self, epoch, logs={}):\n",
    "        content = \"Epoch: {}, loss: {}\\n\".format(epoch, logs.get('loss'))\n",
    "        with open(self.fname, \"a\") as f:\n",
    "            f.write(content)\n",
    "\n",
    "class StopOnConvergence(Callback):\n",
    "    def __init__(self, max_repetitions=10):\n",
    "        super().__init__()\n",
    "        self.max_repetitions = max_repetitions\n",
    "\n",
    "    def on_train_begin(self, logs=None):\n",
    "        self.repetitions = 0\n",
    "        self.last_loss = np.inf\n",
    "\n",
    "    def on_epoch_end(self, batch, logs=None):\n",
    "        logs = logs or {}\n",
    "        loss = logs.get('val_loss')\n",
    "        if loss is not None:\n",
    "            if loss > self.last_loss:\n",
    "                self.repetitions += 1\n",
    "            else:\n",
    "                self.last_loss = loss\n",
    "                self.repetitions = 0\n",
    "            if self.repetitions > self.max_repetitions:\n",
    "                self.model.stop_training = True\n",
    "\n",
    "            \n",
    "logger = MyCallback(\"./training-bigger-log.txt\")\n",
    "NFEATS = 20\n",
    "\n",
    "def mk_model(max_label_length):\n",
    "    feature_input = Input(shape = (None, NFEATS))\n",
    "    layer = Lambda(lambda x: (x - MEAN) / STD)(feature_input)\n",
    "    layer = Lambda(K.expand_dims)(layer)\n",
    "    layer_1 = Conv2D(12, [5,1], activation='linear', strides=(1,1), kernel_initializer=Orthogonal(), padding='same')(layer)\n",
    "    layer_2 = LeakyReLU(0.01)(layer_1)\n",
    "    layer = BatchNormalization()(layer_2)\n",
    "    layer_1 = Conv2D(16, [5,1], activation='linear', strides=(1,1), kernel_initializer=Orthogonal(), padding='same')(layer)\n",
    "    layer_2 = LeakyReLU(0.01)(layer_1)\n",
    "    layer = BatchNormalization()(layer_2)\n",
    "    layer = TimeDistributed(Flatten())(layer)\n",
    "    layer_1 = Conv1D(512, 5, activation='linear', kernel_initializer=Orthogonal(), padding='same')(layer)\n",
    "    layer_2 = LeakyReLU(0.01)(layer_1)\n",
    "    layer = BatchNormalization()(layer_2)\n",
    "    for i in range(7):\n",
    "        layer = Bidirectional(GRU(256, return_sequences = True, recurrent_dropout=0.01, kernel_initializer=Orthogonal(), activation='linear'))(layer)\n",
    "        layer = LeakyReLU(0.01)(layer)\n",
    "        layer = BatchNormalization()(layer)\n",
    "    layer = Dense(1024)(layer)\n",
    "    layer = LeakyReLU(0.01)(layer)\n",
    "    layer = BatchNormalization()(layer)\n",
    "    layer_15 = Dense(NPHONES + 1, activation = 'softmax')(layer)\n",
    "    label_input = Input(shape = (max_label_length,))\n",
    "    input_length = Input(name='input_length', shape=[1], dtype='int64')\n",
    "    label_length = Input(name='label_length', shape=[1], dtype='int64')\n",
    "    loss_lambda = Lambda(lambda args:ctc_batch_cost(*args), output_shape=(1,), name='ctc')([label_input, layer_15, input_length, label_length])\n",
    "    model = Model([feature_input, label_input, input_length, label_length], [loss_lambda])\n",
    "    model.summary()\n",
    "    predictive = Model(feature_input, layer_15)\n",
    "    return model, predictive\n",
    "\n",
    "def train(model, trainX, trainy, trainXl, trainyl, epochs = 50):\n",
    "    # important: batch_size=1 bugs Tensorflow\n",
    "    optimizer = Adam(0.0003, clipnorm=1.)\n",
    "    model.compile(loss={'ctc': lambda y_true, y_pred: y_pred}, optimizer=optimizer)\n",
    "    return model.fit([trainX[~valid], trainy[~valid], trainXl[~valid], trainyl[~valid]], np.zeros(trainX[~valid].shape[0]), epochs = epochs,\n",
    "                     batch_size = 32, callbacks=[mc, logger, StopOnConvergence(4)], validation_data=[[trainX[valid], trainy[valid], trainXl[valid], trainyl[valid]], np.zeros(trainX[valid].shape[0])])\n",
    "\n",
    "def validate(predictions, valid_length, groundtruth, target_length):\n",
    "    predictions = keras.backend.ctc_decode(predictions, valid_length, False, 1)\n",
    "    predictions = predictions[0][0].eval(session=keras.backend.get_session())\n",
    "    DERs = []\n",
    "    for index in range(predictions.shape[0]):\n",
    "        dist = float(editdistance.eval(\n",
    "            [x for x in predictions[index, :] if x != -1],\n",
    "            [x for x in groundtruth[index, :] if x != NPHONES]))\n",
    "        DER = dist / target_length[index]\n",
    "        DERs.append((DER, target_length[index]))\n",
    "    return DERs\n",
    "\n",
    "def try_else(exp, exp_else):\n",
    "    try:\n",
    "        return exp()\n",
    "    except:\n",
    "        return exp_else\n",
    "\n",
    "if __name__=='__main__':\n",
    "    data = X, Y\n",
    "    NPHONES = Y.max()\n",
    "    NFEATS = data[0].shape[2]\n",
    "    X_lens = np.array([try_else(\n",
    "            (lambda:np.where((x).mean(1) == (x).std(1))[0][0]),\n",
    "            X.shape[1])\n",
    "        for x in X])\n",
    "    X_lens = np.ceil(X_lens / 4.0)\n",
    "    Y_lens = np.array([np.where(x == NPHONES)[0] for x in data[1]])\n",
    "    Y_lens = np.array([x[0] if len(x) else 0 for x in Y_lens])\n",
    "    print(X.shape, Y.shape, X_lens.shape, Y_lens.shape)\n",
    "    data = data[0][np.where(Y_lens)], data[1][np.where(Y_lens)], X_lens[np.where(Y_lens)].reshape(-1, 1), Y_lens[np.where(Y_lens)].reshape(-1, 1)\n",
    "    print(list(map(lambda x:x.shape, data)))\n",
    "    trn, predict = mk_model(data[1].shape[1])\n",
    "    train(trn, *data, epochs=100) # at 300 it makes sensible predictions"
   ]
  },
  {
   "cell_type": "code",
   "execution_count": 8,
   "metadata": {},
   "outputs": [
    {
     "name": "stdout",
     "output_type": "stream",
     "text": [
      "[array([0.99565756, 0.01837571], dtype=float32), array([0.9999578 , 0.00477572], dtype=float32)]\n",
      "(0.9999247018391445+0.012271538285719925j)\n"
     ]
    }
   ],
   "source": [
    "print(predict.layers[2].get_weights())\n",
    "print(np.exp(2 * np.pi * 1j / 512))"
   ]
  },
  {
   "cell_type": "code",
   "execution_count": 9,
   "metadata": {},
   "outputs": [
    {
     "name": "stdout",
     "output_type": "stream",
     "text": [
      "WARNING:tensorflow:From /venv/lib/python3.5/site-packages/keras/backend/tensorflow_backend.py:3996: sparse_to_dense (from tensorflow.python.ops.sparse_ops) is deprecated and will be removed in a future version.\n",
      "Instructions for updating:\n",
      "Create a `tf.sparse.SparseTensor` and use `tf.sparse.to_dense` instead.\n"
     ]
    },
    {
     "data": {
      "text/plain": [
       "array([[18, 20, 35, 20, 13, 20, 17, 22,  6, 20, 35, 22, 13, 35, 20, 21,\n",
       "        20, 25, 29, 20, 24, 20, 22, 35, 27, 20, 35, 22,  6, 27, 22, 18,\n",
       "        20, 13,  6, 20, 13, 20, 33, 20,  6,  6, 20, 11, 22, 13, 22, 17,\n",
       "        22, 35, 20, 18]])"
      ]
     },
     "execution_count": 9,
     "metadata": {},
     "output_type": "execute_result"
    }
   ],
   "source": [
    "pr = predict.predict(X[:1])\n",
    "pr = K.ctc_decode(pr, X_lens[:1])[0][0]\n",
    "pr.eval(session=K.get_session())"
   ]
  },
  {
   "cell_type": "code",
   "execution_count": null,
   "metadata": {},
   "outputs": [],
   "source": [
    "Y[:1]"
   ]
  },
  {
   "cell_type": "code",
   "execution_count": 5,
   "metadata": {},
   "outputs": [
    {
     "data": {
      "text/plain": [
       "1.1857142857142857"
      ]
     },
     "execution_count": 5,
     "metadata": {},
     "output_type": "execute_result"
    }
   ],
   "source": [
    "import editdistance\n",
    "editdistance.eval(list(pr.eval(session=K.get_session())[0]), list(Y[0, :Y_lens[0]])) / Y_lens[0]"
   ]
  },
  {
   "cell_type": "code",
   "execution_count": 6,
   "metadata": {},
   "outputs": [
    {
     "data": {
      "text/plain": [
       "[0.3,\n",
       " 0.23255813953488372,\n",
       " 0.45161290322580644,\n",
       " 0.275,\n",
       " 0.4297520661157025,\n",
       " 0.2127659574468085,\n",
       " 0.24074074074074073,\n",
       " 0.17777777777777778,\n",
       " 0.25,\n",
       " 0.23478260869565218,\n",
       " 0.24050632911392406,\n",
       " 0.19444444444444445,\n",
       " 0.16923076923076924,\n",
       " 0.5441176470588235,\n",
       " 0.3333333333333333,\n",
       " 0.4852941176470588,\n",
       " 0.27631578947368424,\n",
       " 0.2926829268292683,\n",
       " 0.19101123595505617,\n",
       " 0.3253012048192771,\n",
       " 0.16071428571428573,\n",
       " 0.18604651162790697,\n",
       " 0.1958762886597938,\n",
       " 0.29411764705882354,\n",
       " 0.23076923076923078,\n",
       " 0.3564356435643564,\n",
       " 0.19480519480519481,\n",
       " 0.25757575757575757,\n",
       " 0.2777777777777778,\n",
       " 0.21212121212121213,\n",
       " 0.1797752808988764,\n",
       " 0.2222222222222222,\n",
       " 0.20987654320987653,\n",
       " 0.3283582089552239,\n",
       " 0.28125,\n",
       " 0.24358974358974358,\n",
       " 0.4939759036144578,\n",
       " 0.24050632911392406,\n",
       " 0.23255813953488372,\n",
       " 0.19540229885057472,\n",
       " 0.19753086419753085,\n",
       " 0.19047619047619047,\n",
       " 0.13253012048192772,\n",
       " 0.367816091954023,\n",
       " 0.24175824175824176,\n",
       " 0.30434782608695654,\n",
       " 0.43661971830985913,\n",
       " 0.27848101265822783,\n",
       " 0.20270270270270271,\n",
       " 0.19298245614035087,\n",
       " 0.23684210526315788,\n",
       " 0.3275862068965517,\n",
       " 0.4074074074074074,\n",
       " 0.1935483870967742,\n",
       " 0.36363636363636365,\n",
       " 0.25,\n",
       " 0.35064935064935066,\n",
       " 0.21978021978021978,\n",
       " 0.32407407407407407,\n",
       " 0.18181818181818182,\n",
       " 0.23863636363636365,\n",
       " 0.29508196721311475,\n",
       " 0.15492957746478872,\n",
       " 0.15942028985507245,\n",
       " 0.31746031746031744,\n",
       " 0.43529411764705883,\n",
       " 0.21311475409836064,\n",
       " 0.20454545454545456,\n",
       " 0.15584415584415584,\n",
       " 0.26666666666666666,\n",
       " 0.25,\n",
       " 0.32142857142857145,\n",
       " 0.2619047619047619,\n",
       " 0.37209302325581395,\n",
       " 0.36231884057971014,\n",
       " 0.2727272727272727,\n",
       " 0.3088235294117647,\n",
       " 0.24561403508771928,\n",
       " 0.18421052631578946,\n",
       " 0.11940298507462686,\n",
       " 0.16455696202531644,\n",
       " 0.2236842105263158,\n",
       " 0.13580246913580246,\n",
       " 0.1917808219178082,\n",
       " 0.20238095238095238,\n",
       " 0.17307692307692307,\n",
       " 0.19480519480519481,\n",
       " 0.20930232558139536,\n",
       " 0.25757575757575757,\n",
       " 0.23157894736842105,\n",
       " 0.2602739726027397,\n",
       " 0.17142857142857143,\n",
       " 0.19148936170212766,\n",
       " 0.2261904761904762,\n",
       " 0.30303030303030304,\n",
       " 0.2413793103448276,\n",
       " 0.26277372262773724,\n",
       " 0.4015748031496063,\n",
       " 0.553030303030303,\n",
       " 0.358974358974359,\n",
       " 0.34108527131782945,\n",
       " 0.2636363636363636,\n",
       " 0.2948717948717949,\n",
       " 0.28125,\n",
       " 0.25190839694656486,\n",
       " 0.3953488372093023,\n",
       " 0.5193798449612403,\n",
       " 0.5396825396825397,\n",
       " 0.2909090909090909,\n",
       " 0.3652173913043478,\n",
       " 0.26666666666666666,\n",
       " 0.2426470588235294,\n",
       " 0.1206896551724138,\n",
       " 0.25609756097560976,\n",
       " 0.21951219512195122,\n",
       " 0.28125,\n",
       " 0.23636363636363636,\n",
       " 0.29411764705882354,\n",
       " 0.2376237623762376,\n",
       " 0.2524271844660194,\n",
       " 0.22105263157894736,\n",
       " 0.3013698630136986,\n",
       " 0.22727272727272727,\n",
       " 0.367816091954023,\n",
       " 0.24444444444444444,\n",
       " 0.29508196721311475,\n",
       " 0.25925925925925924,\n",
       " 0.18085106382978725,\n",
       " 0.15384615384615385,\n",
       " 0.20253164556962025,\n",
       " 0.19444444444444445,\n",
       " 0.36904761904761907,\n",
       " 0.2765957446808511,\n",
       " 0.3409090909090909,\n",
       " 0.4794520547945205,\n",
       " 0.4246575342465753,\n",
       " 0.313953488372093,\n",
       " 0.34065934065934067,\n",
       " 0.2413793103448276,\n",
       " 0.3695652173913043,\n",
       " 0.5853658536585366,\n",
       " 0.3472222222222222,\n",
       " 0.22058823529411764,\n",
       " 0.4835164835164835,\n",
       " 0.31521739130434784,\n",
       " 0.22535211267605634,\n",
       " 0.2289156626506024,\n",
       " 0.3333333333333333,\n",
       " 0.2807017543859649,\n",
       " 0.2222222222222222,\n",
       " 0.19117647058823528,\n",
       " 0.2159090909090909,\n",
       " 0.21428571428571427,\n",
       " 0.23376623376623376,\n",
       " 0.2191780821917808,\n",
       " 0.2077922077922078,\n",
       " 0.3,\n",
       " 0.2,\n",
       " 0.20833333333333334,\n",
       " 0.17567567567567569]"
      ]
     },
     "execution_count": 6,
     "metadata": {},
     "output_type": "execute_result"
    }
   ],
   "source": [
    "pr = predict.predict(X[:160])\n",
    "pr = K.ctc_decode(pr, X_lens[:160])[0][0]\n",
    "hypos = [list(x) for x in pr.eval(session=K.get_session())]\n",
    "lens = [x.index(-1) if -1 in x else len(x) for x in hypos]\n",
    "hypos = [x[:lim] for x, lim in zip(hypos, lens)]\n",
    "gts = [list(x) for x in Y[:160]]\n",
    "lens = [x.index(37) if 37 in x else len(x) for x in gts]\n",
    "gts = [x[:lim] for x, lim in zip(gts, lens)]\n",
    "[editdistance.eval(gt, hypo) / len(gt) for gt, hypo in zip(gts, hypos)]"
   ]
  },
  {
   "cell_type": "code",
   "execution_count": 7,
   "metadata": {},
   "outputs": [
    {
     "data": {
      "text/plain": [
       "0.2719325210045632"
      ]
     },
     "execution_count": 7,
     "metadata": {},
     "output_type": "execute_result"
    }
   ],
   "source": [
    "np.array(_).mean()"
   ]
  },
  {
   "cell_type": "code",
   "execution_count": null,
   "metadata": {},
   "outputs": [],
   "source": []
  }
 ],
 "metadata": {
  "kernelspec": {
   "display_name": "Python 3",
   "language": "python",
   "name": "python3"
  },
  "language_info": {
   "codemirror_mode": {
    "name": "ipython",
    "version": 3
   },
   "file_extension": ".py",
   "mimetype": "text/x-python",
   "name": "python",
   "nbconvert_exporter": "python",
   "pygments_lexer": "ipython3",
   "version": "3.5.2"
  }
 },
 "nbformat": 4,
 "nbformat_minor": 2
}
